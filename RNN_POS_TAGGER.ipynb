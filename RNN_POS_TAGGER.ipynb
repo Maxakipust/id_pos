{
  "nbformat": 4,
  "nbformat_minor": 0,
  "metadata": {
    "colab": {
      "name": "RNN POS TAGGER.ipynb",
      "provenance": [],
      "collapsed_sections": []
    },
    "kernelspec": {
      "name": "python3",
      "display_name": "Python 3"
    },
    "language_info": {
      "name": "python"
    }
  },
  "cells": [
    {
      "cell_type": "markdown",
      "metadata": {
        "id": "VY3V88Cd-U3u"
      },
      "source": [
        "# **POS Tagging using RNN**\n",
        "*RIT - ENGL.581 Term Project - Fall 2021*\n",
        "\n",
        "---\n",
        "\n",
        "## **README**\n",
        "\n",
        "---\n",
        "\n",
        "> **Authors:** Max Kipust, Khamin Nathabheem, Tyler Arnett\n",
        "\n",
        "> **Description:** A notebook for use in a Google Colab environment. This serves the purpose of training and evaluating an RNN model with POS tagging. The data provided to the model has been collected from interpretive languages . This is to research how a model of this type can be used to assess certain patterns in coding and its associated comments. The potential of this type of tagging is to allow for standardization and assessments of code.\n",
        "\n",
        "> **Usage:** ***Easiest way to the script by default is to open \"Runtime\" in the topbar in Google Colab and then select \"Run all\".***User may run each section individually and once. Upon reaching section 7, Represent Inputs using Spacy, please be sure to run the line that will download `en_core_web_lg`. Without this, there may be errors, if you have already done this, proceed to run each section and assess the results. This .ipynb notebook is intended to be used in a Google Colab environment. For best results, please use a Google Colab Environment. Google Colab was used because the attempts in the ondemand environment were met with many complications. Resolving these issues were out of the scope of time available which caused us to fall back to this environment instead.\n",
        "\n",
        "### **Table of Contents**\n",
        "\n",
        "---\n",
        "\n",
        "1.   **Imports**\n",
        "\n",
        "> Bring in packages such as keras, nltk, spacy, pandas, and matplotlib. These will give us the ability to import our data, format and preprocess the data, train our model, and evaluate our model. Additionally, we will be able to visually represent some of this data along the way.\n",
        "\n",
        "2.   **Importing data from Github**\n",
        "\n",
        "> The data is coming from a csv in GitHub.This data includes: `TYPE, IDENTIFIER \tGRAMMAR_PATTERN, WORD, SWUM_TAG, POSSE_TAG, STANFORD_TAG, FLAIR_TAG, POSITION, MAXPOSITION, NORMALIZED_POSITION, CONTEXT, CORRECT_TAG, SYSTEM, IDENTIFIER_CODE, ID`. Additionally, an EOI is added to the `IDENTIFIER` column.\n",
        "\n",
        "3.   **Mapping to X and Y**\n",
        "\n",
        "> Taking our data, we process what we need into X and Y arrays. This will be important for later training of the model. The X array recieves the `IDENTIFIER` column split. Respectively, Y recieves the `GRAMMAR_PATTERN` column split.\n",
        "\n",
        "4.   **Calculating Metics**\n",
        "\n",
        "> Using the arrays, Vocabulary size, number of tags, and number of tagged identifiers can be displayed. This section is to ensure that the data has been processed correctly. This data shows up later as it is needed to train the model.\n",
        "\n",
        "5.   **Tokenizer/Encode**\n",
        "\n",
        "> Using the Tokenizer from Keras text processing, we convert our X and Y arrays into a numeric representation of the data. This allows for it to be interpretted by the code during our model training.\n",
        "\n",
        "6.   **Padding**\n",
        "\n",
        "> This section does additional preparation for the model creation. It pads the, now encoded, X and Y arrays using `pad_sequences()` from Keras preprocessing. Additionally, several lengths needed by this padding process and used later in the model training.\n",
        "\n",
        "7.   **Represent Inputs using Spacy**\n",
        "\n",
        "> Assign word vectors using Spacy. (If this is the first run, you may need to run the line `!python -m spacy download en_core_web_lg`. This entire step may take a while to run. Additionally, from Keras untils, we use `to_categorical()` on the Y array and we print out some of our values from earlier in the notebook as a point of reference. This should only be ran once. If this is ran multiple times by accident, it can result in a malformed array which breaks step 8. If this happens and you want to fix it, start from the top and it will rebuild these arrays again correctly.\n",
        "\n",
        "8.   **Training the Model**\n",
        "\n",
        "> Using a culmination of the above steps, a model is able to be trained given the `IDENTIFIER`, `GRAMMAR_PATTERN`, fields that are now represented using a word vectors and details such as the sequence length, vocabulary size and other points of data fufilled in the previous steps. Additionally, this can later be assessed thanks to `validation_data=(X_validation, Y_validation)` being provided to the model as well.\n",
        "\n",
        "9.   **Accuracy Assessment**\n",
        "\n",
        "> Assessing the accuracy of the model is done visually using a `matplotlib` plot. Loss and accuracy are also calculated and printed below this plot using `evaluate()` from Keras model. Additionally, the `X_unseen` and `Y_unseen` arrays are decoded and used in order to provided a `confusion_matrix` and `classification_report`. These are both provided in `sklearn.metrics`. Both are then printed for researcher interpretation.\n",
        "\n",
        "\n",
        "---\n",
        "\n",
        "### **Future Development**\n",
        "\n",
        "In the future, this could be used as the proof of concept for a model that can encourage good coding practices and standardization of them. Additionally, larger data sets provided to the model could result in an even more accurate and well trained model. This model currently is suited to work in a Google Colab environment. Future work could include attempting to bring this into the ondemand or other environments. Furthermore, testing different model types and data types could potentially yield even more diverse results.\n",
        "\n",
        "---\n"
      ]
    },
    {
      "cell_type": "markdown",
      "metadata": {
        "id": "U1Qag_ourkL7"
      },
      "source": [
        "# 1. Imports\n",
        "Keras, nltk, numpy, and various plotting tooks and model packages are imported to facilitate the RNN pos tagging project."
      ]
    },
    {
      "cell_type": "code",
      "metadata": {
        "id": "5os6iwM9VqMX"
      },
      "source": [
        "#disable the extraneous warnings we may encounter\n",
        "import warnings\n",
        "warnings.filterwarnings(\"ignore\")"
      ],
      "execution_count": null,
      "outputs": []
    },
    {
      "cell_type": "code",
      "metadata": {
        "id": "JO6FpiJDDGlk"
      },
      "source": [
        "#---imports---\n",
        "\n",
        "#useful and helpful stuff\n",
        "import numpy as np\n",
        "import seaborn as sns\n",
        "import nltk\n",
        "import spacy\n",
        "import pandas as pd\n",
        "import tensorflow as tf\n",
        "from matplotlib import pyplot as plt\n",
        "from gensim.models import KeyedVectors, Word2Vec\n",
        "from sklearn.model_selection import train_test_split\n",
        "from sklearn.metrics import confusion_matrix, classification_report\n",
        "\n",
        "#keras\n",
        "from keras.preprocessing.sequence import pad_sequences\n",
        "from keras.utils.np_utils import to_categorical\n",
        "from keras.models import Sequential\n",
        "from keras.layers import LSTM, GRU, Bidirectional, SimpleRNN, RNN, TimeDistributed, Dense, Embedding\n",
        "from keras.preprocessing.text import Tokenizer\n"
      ],
      "execution_count": null,
      "outputs": []
    },
    {
      "cell_type": "code",
      "source": [
        "tags = [\n",
        "    'n',\n",
        "    'dt',\n",
        "    'cj',\n",
        "    'p',\n",
        "    'npl',\n",
        "    'nm',\n",
        "    'v',\n",
        "    'vm',\n",
        "    'pr',\n",
        "    'd',\n",
        "    'pre'\n",
        "]"
      ],
      "metadata": {
        "id": "pyowp9elx5q-"
      },
      "execution_count": null,
      "outputs": []
    },
    {
      "cell_type": "markdown",
      "metadata": {
        "id": "L3nnBUA8ohtq"
      },
      "source": [
        "# 2. Importing the data from GitHub\n",
        "https://raw.githubusercontent.com/Maxakipust/id_pos/main/data/orig_training_data.csv contains pos tags and identifiers. Parsing this CSV gives part of what we need for an RNN. Additionally, https://raw.githubusercontent.com/Maxakipust/id_pos/main/data/orig_unseen_testing_data.csv contains an unseen version for later use."
      ]
    },
    {
      "cell_type": "code",
      "metadata": {
        "colab": {
          "base_uri": "https://localhost:8080/",
          "height": 360
        },
        "id": "t9L_cQUHj_mR",
        "outputId": "fdb4788b-7b16-466b-c2e9-41d0f6cc6dd2"
      },
      "source": [
        "#load the orig_training_data.csv into the notebook for training the model.\n",
        "print(\"Training Data:\\n\")\n",
        "url = 'https://raw.githubusercontent.com/Maxakipust/id_pos/main/data/orig_training_data.csv'\n",
        "df = pd.read_csv(url)             # load the csv from the Github repository\n",
        "df.head()                         # changed from df to df.head to save space."
      ],
      "execution_count": null,
      "outputs": [
        {
          "output_type": "stream",
          "name": "stdout",
          "text": [
            "Training Data:\n",
            "\n"
          ]
        },
        {
          "output_type": "execute_result",
          "data": {
            "text/html": [
              "<div>\n",
              "<style scoped>\n",
              "    .dataframe tbody tr th:only-of-type {\n",
              "        vertical-align: middle;\n",
              "    }\n",
              "\n",
              "    .dataframe tbody tr th {\n",
              "        vertical-align: top;\n",
              "    }\n",
              "\n",
              "    .dataframe thead th {\n",
              "        text-align: right;\n",
              "    }\n",
              "</style>\n",
              "<table border=\"1\" class=\"dataframe\">\n",
              "  <thead>\n",
              "    <tr style=\"text-align: right;\">\n",
              "      <th></th>\n",
              "      <th>TYPE</th>\n",
              "      <th>IDENTIFIER</th>\n",
              "      <th>GRAMMAR_PATTERN</th>\n",
              "      <th>WORD</th>\n",
              "      <th>SWUM_TAG</th>\n",
              "      <th>POSSE_TAG</th>\n",
              "      <th>STANFORD_TAG</th>\n",
              "      <th>FLAIR_TAG</th>\n",
              "      <th>POSITION</th>\n",
              "      <th>MAXPOSITION</th>\n",
              "      <th>NORMALIZED_POSITION</th>\n",
              "      <th>CONTEXT</th>\n",
              "      <th>CORRECT_TAG</th>\n",
              "      <th>SYSTEM</th>\n",
              "      <th>IDENTIFIER_CODE</th>\n",
              "      <th>ID</th>\n",
              "    </tr>\n",
              "  </thead>\n",
              "  <tbody>\n",
              "    <tr>\n",
              "      <th>0</th>\n",
              "      <td>Map</td>\n",
              "      <td>action To Index Map</td>\n",
              "      <td>N P NM N</td>\n",
              "      <td>action</td>\n",
              "      <td>NM</td>\n",
              "      <td>V</td>\n",
              "      <td>N</td>\n",
              "      <td>N</td>\n",
              "      <td>0</td>\n",
              "      <td>4</td>\n",
              "      <td>0</td>\n",
              "      <td>1</td>\n",
              "      <td>N</td>\n",
              "      <td>{'gimp.srcml.xml_identifiers'}</td>\n",
              "      <td>0</td>\n",
              "      <td>1</td>\n",
              "    </tr>\n",
              "    <tr>\n",
              "      <th>1</th>\n",
              "      <td>Map</td>\n",
              "      <td>action To Index Map</td>\n",
              "      <td>N P NM N</td>\n",
              "      <td>To</td>\n",
              "      <td>NM</td>\n",
              "      <td>P</td>\n",
              "      <td>P</td>\n",
              "      <td>P</td>\n",
              "      <td>1</td>\n",
              "      <td>4</td>\n",
              "      <td>1</td>\n",
              "      <td>1</td>\n",
              "      <td>P</td>\n",
              "      <td>{'gimp.srcml.xml_identifiers'}</td>\n",
              "      <td>0</td>\n",
              "      <td>2</td>\n",
              "    </tr>\n",
              "    <tr>\n",
              "      <th>2</th>\n",
              "      <td>Map</td>\n",
              "      <td>action To Index Map</td>\n",
              "      <td>N P NM N</td>\n",
              "      <td>Index</td>\n",
              "      <td>NM</td>\n",
              "      <td>N</td>\n",
              "      <td>N</td>\n",
              "      <td>N</td>\n",
              "      <td>2</td>\n",
              "      <td>4</td>\n",
              "      <td>1</td>\n",
              "      <td>1</td>\n",
              "      <td>NM</td>\n",
              "      <td>{'gimp.srcml.xml_identifiers'}</td>\n",
              "      <td>0</td>\n",
              "      <td>3</td>\n",
              "    </tr>\n",
              "    <tr>\n",
              "      <th>3</th>\n",
              "      <td>Map</td>\n",
              "      <td>action To Index Map</td>\n",
              "      <td>N P NM N</td>\n",
              "      <td>Map</td>\n",
              "      <td>N</td>\n",
              "      <td>N</td>\n",
              "      <td>N</td>\n",
              "      <td>N</td>\n",
              "      <td>3</td>\n",
              "      <td>4</td>\n",
              "      <td>2</td>\n",
              "      <td>1</td>\n",
              "      <td>N</td>\n",
              "      <td>{'gimp.srcml.xml_identifiers'}</td>\n",
              "      <td>0</td>\n",
              "      <td>4</td>\n",
              "    </tr>\n",
              "    <tr>\n",
              "      <th>4</th>\n",
              "      <td>KToggleAction</td>\n",
              "      <td>action View Show Master Pages</td>\n",
              "      <td>NM N V NM NPL</td>\n",
              "      <td>action</td>\n",
              "      <td>NM</td>\n",
              "      <td>N</td>\n",
              "      <td>N</td>\n",
              "      <td>N</td>\n",
              "      <td>0</td>\n",
              "      <td>5</td>\n",
              "      <td>0</td>\n",
              "      <td>1</td>\n",
              "      <td>NM</td>\n",
              "      <td>{'elasticsearch.srcml.xml_identifiers'}</td>\n",
              "      <td>1</td>\n",
              "      <td>5</td>\n",
              "    </tr>\n",
              "  </tbody>\n",
              "</table>\n",
              "</div>"
            ],
            "text/plain": [
              "            TYPE                     IDENTIFIER  ... IDENTIFIER_CODE ID\n",
              "0            Map            action To Index Map  ...               0  1\n",
              "1            Map            action To Index Map  ...               0  2\n",
              "2            Map            action To Index Map  ...               0  3\n",
              "3            Map            action To Index Map  ...               0  4\n",
              "4  KToggleAction  action View Show Master Pages  ...               1  5\n",
              "\n",
              "[5 rows x 16 columns]"
            ]
          },
          "metadata": {},
          "execution_count": 4
        }
      ]
    },
    {
      "cell_type": "code",
      "source": [
        "#\"unseen testing data\" is used later, testing the model trained using \"training data\".\n",
        "print(\"Unseen Testing Data:\\n\")\n",
        "url_unseen = 'https://raw.githubusercontent.com/Maxakipust/id_pos/main/data/orig_unseen_testing_data.csv'\n",
        "df_unseen = pd.read_csv(url_unseen)\n",
        "df_unseen.head()"
      ],
      "metadata": {
        "colab": {
          "base_uri": "https://localhost:8080/",
          "height": 292
        },
        "id": "O7j9fA3r4uqr",
        "outputId": "d9a3a8b1-3670-41bb-98cf-17b93ddd281a"
      },
      "execution_count": null,
      "outputs": [
        {
          "output_type": "stream",
          "name": "stdout",
          "text": [
            "Unseen Testing Data:\n",
            "\n"
          ]
        },
        {
          "output_type": "execute_result",
          "data": {
            "text/html": [
              "<div>\n",
              "<style scoped>\n",
              "    .dataframe tbody tr th:only-of-type {\n",
              "        vertical-align: middle;\n",
              "    }\n",
              "\n",
              "    .dataframe tbody tr th {\n",
              "        vertical-align: top;\n",
              "    }\n",
              "\n",
              "    .dataframe thead th {\n",
              "        text-align: right;\n",
              "    }\n",
              "</style>\n",
              "<table border=\"1\" class=\"dataframe\">\n",
              "  <thead>\n",
              "    <tr style=\"text-align: right;\">\n",
              "      <th></th>\n",
              "      <th>IDENTIFIER</th>\n",
              "      <th>GRAMMAR_PATTERN</th>\n",
              "      <th>WORD</th>\n",
              "      <th>SWUM_TAG</th>\n",
              "      <th>POSSE_TAG</th>\n",
              "      <th>STANFORD_TAG</th>\n",
              "      <th>FLAIR_TAG</th>\n",
              "      <th>POSITION</th>\n",
              "      <th>MAXPOSITION</th>\n",
              "      <th>NORMALIZED_POSITION</th>\n",
              "      <th>CONTEXT</th>\n",
              "      <th>CORRECT_TAG</th>\n",
              "      <th>SYSTEM</th>\n",
              "      <th>IDENTIFIER_CODE</th>\n",
              "      <th>ID</th>\n",
              "    </tr>\n",
              "  </thead>\n",
              "  <tbody>\n",
              "    <tr>\n",
              "      <th>0</th>\n",
              "      <td>accelerometer Data</td>\n",
              "      <td>NM N</td>\n",
              "      <td>accelerometer</td>\n",
              "      <td>NM</td>\n",
              "      <td>N</td>\n",
              "      <td>N</td>\n",
              "      <td>N</td>\n",
              "      <td>0</td>\n",
              "      <td>2</td>\n",
              "      <td>0</td>\n",
              "      <td>5</td>\n",
              "      <td>NM</td>\n",
              "      <td>openFrameworks</td>\n",
              "      <td>0</td>\n",
              "      <td>1</td>\n",
              "    </tr>\n",
              "    <tr>\n",
              "      <th>1</th>\n",
              "      <td>accelerometer Data</td>\n",
              "      <td>NM N</td>\n",
              "      <td>Data</td>\n",
              "      <td>N</td>\n",
              "      <td>N</td>\n",
              "      <td>N</td>\n",
              "      <td>NPL</td>\n",
              "      <td>1</td>\n",
              "      <td>2</td>\n",
              "      <td>2</td>\n",
              "      <td>5</td>\n",
              "      <td>N</td>\n",
              "      <td>openFrameworks</td>\n",
              "      <td>0</td>\n",
              "      <td>2</td>\n",
              "    </tr>\n",
              "    <tr>\n",
              "      <th>2</th>\n",
              "      <td>actual</td>\n",
              "      <td>N</td>\n",
              "      <td>actual</td>\n",
              "      <td>N</td>\n",
              "      <td>N</td>\n",
              "      <td>N</td>\n",
              "      <td>NM</td>\n",
              "      <td>0</td>\n",
              "      <td>1</td>\n",
              "      <td>0</td>\n",
              "      <td>5</td>\n",
              "      <td>N</td>\n",
              "      <td>junit4</td>\n",
              "      <td>1</td>\n",
              "      <td>3</td>\n",
              "    </tr>\n",
              "    <tr>\n",
              "      <th>3</th>\n",
              "      <td>actual Count</td>\n",
              "      <td>NM N</td>\n",
              "      <td>actual</td>\n",
              "      <td>NM</td>\n",
              "      <td>NM</td>\n",
              "      <td>NM</td>\n",
              "      <td>NM</td>\n",
              "      <td>0</td>\n",
              "      <td>2</td>\n",
              "      <td>0</td>\n",
              "      <td>1</td>\n",
              "      <td>NM</td>\n",
              "      <td>okhttp</td>\n",
              "      <td>2</td>\n",
              "      <td>4</td>\n",
              "    </tr>\n",
              "    <tr>\n",
              "      <th>4</th>\n",
              "      <td>actual Count</td>\n",
              "      <td>NM N</td>\n",
              "      <td>Count</td>\n",
              "      <td>N</td>\n",
              "      <td>N</td>\n",
              "      <td>N</td>\n",
              "      <td>N</td>\n",
              "      <td>1</td>\n",
              "      <td>2</td>\n",
              "      <td>2</td>\n",
              "      <td>1</td>\n",
              "      <td>N</td>\n",
              "      <td>okhttp</td>\n",
              "      <td>2</td>\n",
              "      <td>5</td>\n",
              "    </tr>\n",
              "  </tbody>\n",
              "</table>\n",
              "</div>"
            ],
            "text/plain": [
              "           IDENTIFIER GRAMMAR_PATTERN  ... IDENTIFIER_CODE ID\n",
              "0  accelerometer Data            NM N  ...               0  1\n",
              "1  accelerometer Data            NM N  ...               0  2\n",
              "2              actual               N  ...               1  3\n",
              "3        actual Count            NM N  ...               2  4\n",
              "4        actual Count            NM N  ...               2  5\n",
              "\n",
              "[5 rows x 15 columns]"
            ]
          },
          "metadata": {},
          "execution_count": 5
        }
      ]
    },
    {
      "cell_type": "code",
      "metadata": {
        "id": "UjN_GjqUkjgn"
      },
      "source": [
        "# this is not currently needed but could make an appearance someday.\n",
        "# add the EOI to the IDENTIFIER field\n",
        "#df['IDENTIFIER'] += ' EOI'\n",
        "#df['GRAMMAR_PATTERN'] += ' EOI'\n",
        "#df.head()         #changed from df to df.head()"
      ],
      "execution_count": null,
      "outputs": []
    },
    {
      "cell_type": "markdown",
      "metadata": {
        "id": "sZbseFffp8-x"
      },
      "source": [
        "# 3. Mapping to X and Y\n",
        "Below is a loop that fills X and Y with the word from IDENTIFIER and its corresponding POS tag/EOI from GRAMMAR_PATTERN."
      ]
    },
    {
      "cell_type": "code",
      "metadata": {
        "colab": {
          "base_uri": "https://localhost:8080/"
        },
        "id": "0fys1Uj0p2HP",
        "outputId": "dd39ae79-1f1f-475e-c24c-9766cde7bcb8"
      },
      "source": [
        "# training data here\n",
        "X = []    #this is to later become populated with IDENTIFIER field\n",
        "Y = []    #this is to later become populated with GRAMMAR_PATTERN field\n",
        "for _, row in df.iterrows():\n",
        "  X.append(row['IDENTIFIER'].split()) \n",
        "  Y.append(row['GRAMMAR_PATTERN'].split())\n",
        "\n",
        "  #sample to make sure X and Y are correct\n",
        "print('sample X: ', X[0], '\\n')\n",
        "print('sample Y: ', Y[0], '\\n')"
      ],
      "execution_count": null,
      "outputs": [
        {
          "output_type": "stream",
          "name": "stdout",
          "text": [
            "sample X:  ['action', 'To', 'Index', 'Map'] \n",
            "\n",
            "sample Y:  ['N', 'P', 'NM', 'N'] \n",
            "\n"
          ]
        }
      ]
    },
    {
      "cell_type": "code",
      "source": [
        "# unseen testing data here\n",
        "X_unseen = []    #this is to later become populated with IDENTIFIER field\n",
        "Y_unseen = []    #this is to later become populated with GRAMMAR_PATTERN field\n",
        "\n",
        "for _, row in df_unseen.iterrows():\n",
        "  X_unseen.append(row['IDENTIFIER'].split()) \n",
        "  Y_unseen.append(row['GRAMMAR_PATTERN'].split())\n",
        "\n",
        "  #sample to make sure X and Y are correct\n",
        "print('sample X_unseen: ', X_unseen[0], '\\n')\n",
        "print('sample Y_unseen: ', Y_unseen[0], '\\n')"
      ],
      "metadata": {
        "colab": {
          "base_uri": "https://localhost:8080/"
        },
        "id": "cDXB5D846qCz",
        "outputId": "2a054584-6ebc-452a-bbdb-aba794f8f619"
      },
      "execution_count": null,
      "outputs": [
        {
          "output_type": "stream",
          "name": "stdout",
          "text": [
            "sample X_unseen:  ['accelerometer', 'Data'] \n",
            "\n",
            "sample Y_unseen:  ['NM', 'N'] \n",
            "\n"
          ]
        }
      ]
    },
    {
      "cell_type": "markdown",
      "metadata": {
        "id": "t0sfod57qtfP"
      },
      "source": [
        "# 4. Calculate Metrics\n",
        "Such as the Vocabulary size, number of tags, and number of tagged identifiers."
      ]
    },
    {
      "cell_type": "code",
      "metadata": {
        "colab": {
          "base_uri": "https://localhost:8080/"
        },
        "id": "MhD_ePpTq7ta",
        "outputId": "03f8d276-0f6f-471c-dc05-ff86fc4f11dd"
      },
      "source": [
        "\n",
        "  # these tags are later used in the model generation\n",
        "num_identifiers = len(set([word.lower() for sentence in X for word in sentence]))\n",
        "num_tags = len(set([word.lower() for sentence in Y for word in sentence]))\n",
        "  # print them just to make sure they are correct\n",
        "print(\"Total number of tagged identifers: {}\".format(len(X)))\n",
        "print(\"Vocabulary size: {}\".format(num_identifiers))\n",
        "print(\"Total number of tags: {}\".format(num_tags))\n",
        "\n"
      ],
      "execution_count": null,
      "outputs": [
        {
          "output_type": "stream",
          "name": "stdout",
          "text": [
            "Total number of tagged identifers: 3550\n",
            "Vocabulary size: 1582\n",
            "Total number of tags: 10\n"
          ]
        }
      ]
    },
    {
      "cell_type": "code",
      "source": [
        "\n",
        "  # these tags are later used in the model generation\n",
        "num_unseen_identifiers = len(set([word.lower() for sentence in X_unseen for word in sentence]))\n",
        "num_unseen_tags = len(set([word.lower() for sentence in Y_unseen for word in sentence]))\n",
        "  # print them just to make sure they are correct\n",
        "print(\"Total number of tagged identifers: {}\".format(len(X_unseen)))\n",
        "print(\"Vocabulary size: {}\".format(num_unseen_identifiers))\n",
        "print(\"Total number of tags: {}\".format(num_unseen_tags))\n"
      ],
      "metadata": {
        "colab": {
          "base_uri": "https://localhost:8080/"
        },
        "id": "e6XLQulfjMg6",
        "outputId": "3c039fc6-0bd2-4eb3-d4fd-0b8dfc36e976"
      },
      "execution_count": null,
      "outputs": [
        {
          "output_type": "stream",
          "name": "stdout",
          "text": [
            "Total number of tagged identifers: 977\n",
            "Vocabulary size: 626\n",
            "Total number of tags: 10\n"
          ]
        }
      ]
    },
    {
      "cell_type": "markdown",
      "metadata": {
        "id": "M768x8fMrD_q"
      },
      "source": [
        "# 5. Tokenizer/Encode\n",
        "Take the X and Y and use the Tokenizer from keras text processing to encode them. The printed result is a numeric representation of the previous sample X and Y."
      ]
    },
    {
      "cell_type": "code",
      "metadata": {
        "id": "Ubn3Ny7KrmPr",
        "colab": {
          "base_uri": "https://localhost:8080/"
        },
        "outputId": "089db676-d448-4b52-8852-aaa7c524db69"
      },
      "source": [
        "  # using the Tokenizer from keras preprocessing, encode X and Y of the training data\n",
        "\n",
        "  # X encoding using keras tokenizer\n",
        "id_tokenizer = Tokenizer()\n",
        "id_tokenizer.fit_on_texts(X)\n",
        "X_encoded = id_tokenizer.texts_to_sequences(X)\n",
        "  # Y encoding using keras tokenizer\n",
        "tag_tokenizer = Tokenizer()\n",
        "tag_tokenizer.fit_on_texts(Y)\n",
        "Y_encoded = tag_tokenizer.texts_to_sequences(Y)\n",
        "\n",
        "  # print to make sure the encoding was successful\n",
        "print(\"X encoded: \" + str(X_encoded[0]))\n",
        "print(\"Y encoded: \" + str(Y_encoded[0]))\n",
        "print(\"X example: \" + str(id_tokenizer.sequences_to_texts([X_encoded[0]])))\n",
        "print(\"Y example: \" + str(tag_tokenizer.sequences_to_texts([Y_encoded[0]])))"
      ],
      "execution_count": null,
      "outputs": [
        {
          "output_type": "stream",
          "name": "stdout",
          "text": [
            "X encoded: [36, 3, 8, 33]\n",
            "Y encoded: [2, 6, 1, 2]\n",
            "X example: ['action to index map']\n",
            "Y example: ['n p nm n']\n"
          ]
        }
      ]
    },
    {
      "cell_type": "code",
      "source": [
        "#...tokenize unseen data X and Y as well.\n",
        "  # X encoding using keras tokenizer\n",
        "id_tokenizer_unseen = Tokenizer()\n",
        "id_tokenizer_unseen.fit_on_texts(X_unseen)\n",
        "X_unseen_encoded = id_tokenizer_unseen.texts_to_sequences(X_unseen)\n",
        "  # Y encoding using keras tokenizer\n",
        "tag_tokenizer_unseen = Tokenizer()\n",
        "tag_tokenizer_unseen.fit_on_texts(Y_unseen)\n",
        "Y_unseen_encoded = tag_tokenizer_unseen.texts_to_sequences(Y_unseen)\n",
        "\n",
        "  # print to make sure the encoding was successful\n",
        "print(\"X encoded: \" + str(X_unseen_encoded[0]))\n",
        "print(\"Y encoded: \" + str(Y_unseen_encoded[0]))\n",
        "print(\"X example: \" + str(id_tokenizer_unseen.sequences_to_texts([X_unseen_encoded[0]])))\n",
        "print(\"Y example: \" + str(tag_tokenizer_unseen.sequences_to_texts([Y_unseen_encoded[0]])))"
      ],
      "metadata": {
        "colab": {
          "base_uri": "https://localhost:8080/"
        },
        "id": "ZLr8bOZ68Q15",
        "outputId": "b665da70-3b0d-425a-bcc5-a3b19a7b01be"
      },
      "execution_count": null,
      "outputs": [
        {
          "output_type": "stream",
          "name": "stdout",
          "text": [
            "X encoded: [437, 8]\n",
            "Y encoded: [1, 2]\n",
            "X example: ['accelerometer data']\n",
            "Y example: ['nm n']\n"
          ]
        }
      ]
    },
    {
      "cell_type": "markdown",
      "metadata": {
        "id": "pijTMALorfrR"
      },
      "source": [
        "# 6. Padding\n",
        "Pad sequences for X and Y."
      ]
    },
    {
      "cell_type": "code",
      "metadata": {
        "colab": {
          "base_uri": "https://localhost:8080/"
        },
        "id": "gldBxTfTsAY9",
        "outputId": "25a6b10a-450f-4d7d-b440-a3a4983d5718"
      },
      "source": [
        "#training data check for \"disparate input-output lengths\" and print it out.\n",
        "different_length = [1 if len(input) != len(output) else 0 for input, output in zip(X_encoded, Y_encoded)]\n",
        "print(\"Training: \"+str(sum(different_length))+\" sentences have disparate input-output lengths.\")"
      ],
      "execution_count": null,
      "outputs": [
        {
          "output_type": "stream",
          "name": "stdout",
          "text": [
            "Training: 0 sentences have disparate input-output lengths.\n"
          ]
        }
      ]
    },
    {
      "cell_type": "code",
      "source": [
        "#unseen data check for \"disparate input-output lengths\" and print it out.\n",
        "different_length_unseen = [1 if len(input) != len(output) else 0 for input, output in zip(X_unseen_encoded, Y_unseen_encoded)]\n",
        "print(\"Unseen Testing: \"+str(sum(different_length_unseen))+\" sentences have disparate input-output lengths.\")"
      ],
      "metadata": {
        "colab": {
          "base_uri": "https://localhost:8080/"
        },
        "id": "d4w9A5eF9HR-",
        "outputId": "5426881a-96a3-4ef8-ade6-1bcad0eaba92"
      },
      "execution_count": null,
      "outputs": [
        {
          "output_type": "stream",
          "name": "stdout",
          "text": [
            "Unseen Testing: 0 sentences have disparate input-output lengths.\n"
          ]
        }
      ]
    },
    {
      "cell_type": "code",
      "metadata": {
        "colab": {
          "base_uri": "https://localhost:8080/"
        },
        "id": "b2PyYcl3sNr4",
        "outputId": "b7655866-bd94-4cab-8e92-e2902a22760b"
      },
      "source": [
        "# check length of longest sequence\n",
        "lengths = [len(seq) for seq in X_encoded]\n",
        "MAX_SEQ_LENGTH = max(lengths) + 1\n",
        "print(\"Length of longest sequence: \"+str(MAX_SEQ_LENGTH))"
      ],
      "execution_count": null,
      "outputs": [
        {
          "output_type": "stream",
          "name": "stdout",
          "text": [
            "Length of longest sequence: 11\n"
          ]
        }
      ]
    },
    {
      "cell_type": "code",
      "metadata": {
        "colab": {
          "base_uri": "https://localhost:8080/",
          "height": 299
        },
        "id": "vjJ-V0SOsv0E",
        "outputId": "cc4926bd-7dd4-4745-ccd0-c729f0aa4366"
      },
      "source": [
        "#plot the lengths to have a visual representation\n",
        "print(\"Lengths boxplot(training):\\n\")\n",
        "sns.boxplot(lengths)\n",
        "plt.show()"
      ],
      "execution_count": null,
      "outputs": [
        {
          "output_type": "stream",
          "name": "stdout",
          "text": [
            "Lengths boxplot(training):\n",
            "\n"
          ]
        },
        {
          "output_type": "display_data",
          "data": {
            "image/png": "[encoded data removed]",
            "text/plain": [
              "<Figure size 432x288 with 1 Axes>"
            ]
          },
          "metadata": {
            "needs_background": "light"
          }
        }
      ]
    },
    {
      "cell_type": "code",
      "metadata": {
        "id": "QvhHs3zyvu04",
        "colab": {
          "base_uri": "https://localhost:8080/"
        },
        "outputId": "0bd5dc6b-7ef1-4f03-a6d7-b8dbf017181a"
      },
      "source": [
        "#add padding to X and Y training data\n",
        "X_padded = pad_sequences(X_encoded, maxlen=MAX_SEQ_LENGTH, padding=\"pre\", truncating=\"post\") # won't truncate since we just use the max length\n",
        "Y_padded = pad_sequences(Y_encoded, maxlen=MAX_SEQ_LENGTH, padding=\"pre\", truncating=\"post\") # given seq lengths are small due to running on ids, truncating is probably pointless\n",
        "X, Y = X_padded, Y_padded\n",
        "#print the shapes\n",
        "print(\"X shape: \" + str(X.shape))\n",
        "print(\"Y shape: \" + str(Y.shape))"
      ],
      "execution_count": null,
      "outputs": [
        {
          "output_type": "stream",
          "name": "stdout",
          "text": [
            "X shape: (3550, 11)\n",
            "Y shape: (3550, 11)\n"
          ]
        }
      ]
    },
    {
      "cell_type": "code",
      "source": [
        "#add padding to X and Y Test data unseen\n",
        "X_unseen_padded = pad_sequences(X_unseen_encoded, maxlen=MAX_SEQ_LENGTH, padding=\"pre\", truncating=\"post\")\n",
        "Y_unseen_padded = pad_sequences(Y_unseen_encoded, maxlen=MAX_SEQ_LENGTH, padding=\"pre\", truncating=\"post\")\n",
        "X_unseen, Y_unseen = X_unseen_padded, Y_unseen_padded\n",
        "Y_unseen = to_categorical(Y_unseen)\n",
        "#print the shapes\n",
        "print(\"X(unseen) shape: \" + str(X_unseen.shape))\n",
        "print(\"Y(unseen) shape: \" + str(Y_unseen.shape))"
      ],
      "metadata": {
        "colab": {
          "base_uri": "https://localhost:8080/"
        },
        "id": "6ztYI2c9ajXf",
        "outputId": "da074e6e-7ff1-41d8-ceda-4f420e538db3"
      },
      "execution_count": null,
      "outputs": [
        {
          "output_type": "stream",
          "name": "stdout",
          "text": [
            "X(unseen) shape: (977, 11)\n",
            "Y(unseen) shape: (977, 11, 11)\n"
          ]
        }
      ]
    },
    {
      "cell_type": "markdown",
      "metadata": {
        "id": "aY5lwLM5-L0L"
      },
      "source": [
        "# 7. Represent Inputs using Spacy\n",
        "Assign word vectors using Spacy and `en_core_web_lg`. If this is the first run, you may need to uncomment `#!python -m spacy download en_core_web_lg` in order to proceed. Additionally, only run this cell once, sometimes it makes the shapes of the data become malformed.\n",
        "\n",
        "This step may take a while, esspecially if the environment is new."
      ]
    },
    {
      "cell_type": "code",
      "metadata": {
        "id": "ZlAbWUEn8oDD",
        "colab": {
          "base_uri": "https://localhost:8080/"
        },
        "outputId": "cc98eacf-09ef-464b-b121-e917e1bb7f10"
      },
      "source": [
        "#IF THERE IS AN ERROR, THIS LINE NEEDS TO BE RAN\n",
        "!python -m spacy download en_core_web_lg\n",
        "#THIS WILL TAKE A WHILE AND ONLY NEEDS TO BE DONE ONCE PER ENVIRONMENT."
      ],
      "execution_count": null,
      "outputs": [
        {
          "output_type": "stream",
          "name": "stdout",
          "text": [
            "Collecting en_core_web_lg==2.2.5\n",
            "  Downloading https://github.com/explosion/spacy-models/releases/download/en_core_web_lg-2.2.5/en_core_web_lg-2.2.5.tar.gz (827.9 MB)\n",
            "\u001b[K     |████████████████████████████████| 827.9 MB 1.2 MB/s \n",
            "\u001b[?25hRequirement already satisfied: spacy>=2.2.2 in /usr/local/lib/python3.7/dist-packages (from en_core_web_lg==2.2.5) (2.2.4)\n",
            "Requirement already satisfied: preshed<3.1.0,>=3.0.2 in /usr/local/lib/python3.7/dist-packages (from spacy>=2.2.2->en_core_web_lg==2.2.5) (3.0.6)\n",
            "Requirement already satisfied: catalogue<1.1.0,>=0.0.7 in /usr/local/lib/python3.7/dist-packages (from spacy>=2.2.2->en_core_web_lg==2.2.5) (1.0.0)\n",
            "Requirement already satisfied: tqdm<5.0.0,>=4.38.0 in /usr/local/lib/python3.7/dist-packages (from spacy>=2.2.2->en_core_web_lg==2.2.5) (4.62.3)\n",
            "Requirement already satisfied: cymem<2.1.0,>=2.0.2 in /usr/local/lib/python3.7/dist-packages (from spacy>=2.2.2->en_core_web_lg==2.2.5) (2.0.6)\n",
            "Requirement already satisfied: setuptools in /usr/local/lib/python3.7/dist-packages (from spacy>=2.2.2->en_core_web_lg==2.2.5) (57.4.0)\n",
            "Requirement already satisfied: requests<3.0.0,>=2.13.0 in /usr/local/lib/python3.7/dist-packages (from spacy>=2.2.2->en_core_web_lg==2.2.5) (2.23.0)\n",
            "Requirement already satisfied: blis<0.5.0,>=0.4.0 in /usr/local/lib/python3.7/dist-packages (from spacy>=2.2.2->en_core_web_lg==2.2.5) (0.4.1)\n",
            "Requirement already satisfied: numpy>=1.15.0 in /usr/local/lib/python3.7/dist-packages (from spacy>=2.2.2->en_core_web_lg==2.2.5) (1.19.5)\n",
            "Requirement already satisfied: plac<1.2.0,>=0.9.6 in /usr/local/lib/python3.7/dist-packages (from spacy>=2.2.2->en_core_web_lg==2.2.5) (1.1.3)\n",
            "Requirement already satisfied: srsly<1.1.0,>=1.0.2 in /usr/local/lib/python3.7/dist-packages (from spacy>=2.2.2->en_core_web_lg==2.2.5) (1.0.5)\n",
            "Requirement already satisfied: wasabi<1.1.0,>=0.4.0 in /usr/local/lib/python3.7/dist-packages (from spacy>=2.2.2->en_core_web_lg==2.2.5) (0.8.2)\n",
            "Requirement already satisfied: thinc==7.4.0 in /usr/local/lib/python3.7/dist-packages (from spacy>=2.2.2->en_core_web_lg==2.2.5) (7.4.0)\n",
            "Requirement already satisfied: murmurhash<1.1.0,>=0.28.0 in /usr/local/lib/python3.7/dist-packages (from spacy>=2.2.2->en_core_web_lg==2.2.5) (1.0.6)\n",
            "Requirement already satisfied: importlib-metadata>=0.20 in /usr/local/lib/python3.7/dist-packages (from catalogue<1.1.0,>=0.0.7->spacy>=2.2.2->en_core_web_lg==2.2.5) (4.8.2)\n",
            "Requirement already satisfied: typing-extensions>=3.6.4 in /usr/local/lib/python3.7/dist-packages (from importlib-metadata>=0.20->catalogue<1.1.0,>=0.0.7->spacy>=2.2.2->en_core_web_lg==2.2.5) (3.10.0.2)\n",
            "Requirement already satisfied: zipp>=0.5 in /usr/local/lib/python3.7/dist-packages (from importlib-metadata>=0.20->catalogue<1.1.0,>=0.0.7->spacy>=2.2.2->en_core_web_lg==2.2.5) (3.6.0)\n",
            "Requirement already satisfied: chardet<4,>=3.0.2 in /usr/local/lib/python3.7/dist-packages (from requests<3.0.0,>=2.13.0->spacy>=2.2.2->en_core_web_lg==2.2.5) (3.0.4)\n",
            "Requirement already satisfied: certifi>=2017.4.17 in /usr/local/lib/python3.7/dist-packages (from requests<3.0.0,>=2.13.0->spacy>=2.2.2->en_core_web_lg==2.2.5) (2021.10.8)\n",
            "Requirement already satisfied: idna<3,>=2.5 in /usr/local/lib/python3.7/dist-packages (from requests<3.0.0,>=2.13.0->spacy>=2.2.2->en_core_web_lg==2.2.5) (2.10)\n",
            "Requirement already satisfied: urllib3!=1.25.0,!=1.25.1,<1.26,>=1.21.1 in /usr/local/lib/python3.7/dist-packages (from requests<3.0.0,>=2.13.0->spacy>=2.2.2->en_core_web_lg==2.2.5) (1.24.3)\n",
            "Building wheels for collected packages: en-core-web-lg\n",
            "  Building wheel for en-core-web-lg (setup.py) ... \u001b[?25l\u001b[?25hdone\n",
            "  Created wheel for en-core-web-lg: filename=en_core_web_lg-2.2.5-py3-none-any.whl size=829180942 sha256=5ee4329d894d878c200091aaf475bb54d98bf4b72b476990e9c779db23ee5bce\n",
            "  Stored in directory: /tmp/pip-ephem-wheel-cache-6co3t8r7/wheels/11/95/ba/2c36cc368c0bd339b44a791c2c1881a1fb714b78c29a4cb8f5\n",
            "Successfully built en-core-web-lg\n",
            "Installing collected packages: en-core-web-lg\n",
            "Successfully installed en-core-web-lg-2.2.5\n",
            "\u001b[38;5;2m✔ Download and installation successful\u001b[0m\n",
            "You can now load the model via spacy.load('en_core_web_lg')\n"
          ]
        }
      ]
    },
    {
      "cell_type": "code",
      "metadata": {
        "id": "KhU0Kh--dn4q"
      },
      "source": [
        "# assign word vectors\n",
        "EMBEDDING_SIZE  = 300   # each word in model is represented using \n",
        "                        # a 300 dimensional vector.\n",
        "VOCABULARY_SIZE = len(id_tokenizer.word_index) + 1\n",
        "\n",
        "# create an empty embedding matix\n",
        "embedding_weights = np.zeros((VOCABULARY_SIZE, EMBEDDING_SIZE))\n",
        "\n",
        "# create a word to index dictionary mapping\n",
        "id2index = id_tokenizer.word_index\n",
        "\n",
        "import en_core_web_lg\n",
        "nlp = en_core_web_lg.load()\n",
        "\n",
        "# copy vectors from word2vec model to the words present in corpus\n",
        "for id, index in id2index.items():\n",
        "    try:\n",
        "        embedding_weights[index] = nlp(id).vector\n",
        "    except KeyError:\n",
        "        pass"
      ],
      "execution_count": null,
      "outputs": []
    },
    {
      "cell_type": "code",
      "metadata": {
        "colab": {
          "base_uri": "https://localhost:8080/"
        },
        "id": "8-agFa0bkRIi",
        "outputId": "9b127554-3511-4b51-e0f8-b5882a64eb71"
      },
      "source": [
        "#print the shape of X, Y, and Y after to_catgorical is ran.\n",
        "print(\"X shape: \"+ str(X.shape))\n",
        "print(\"Y shape before categorical: \"+str(Y.shape))\n",
        "# Y to categorical\n",
        "Y = to_categorical(Y)\n",
        "print(\"X shape\"+str(X.shape))\n",
        "print(\"Y shape after categorical: \"+str(Y.shape))"
      ],
      "execution_count": null,
      "outputs": [
        {
          "output_type": "stream",
          "name": "stdout",
          "text": [
            "X shape: (3550, 11)\n",
            "Y shape before categorical: (3550, 11)\n",
            "X shape(3550, 11)\n",
            "Y shape after categorical: (3550, 11, 11)\n"
          ]
        }
      ]
    },
    {
      "cell_type": "code",
      "metadata": {
        "id": "oLrU_Ofqf6IS",
        "colab": {
          "base_uri": "https://localhost:8080/"
        },
        "outputId": "405b2fe7-a694-4ebd-bf89-d97b8a6584f8"
      },
      "source": [
        "# lets print some of the data we have so far for reference:\n",
        "print(\"X encoded:\"+str(X_encoded))\n",
        "print(\"Y encoded:\"+str(Y_encoded))\n",
        "print(\"Total number of tagged identifers: \"+str(len(X)))\n",
        "print(\"Vocabulary size: \"+str(num_identifiers))\n",
        "print(\"Total number of tags: \"+str(num_tags))"
      ],
      "execution_count": null,
      "outputs": [
        {
          "output_type": "stream",
          "name": "stdout",
          "text": [
            "X encoded:[[36, 3, 8, 33], [36, 3, 8, 33], [36, 3, 8, 33], [36, 3, 8, 33], [36, 47, 361, 527, 528], [36, 47, 361, 527, 528], [36, 47, 361, 527, 528], [36, 47, 361, 527, 528], [36, 47, 361, 527, 528], [116, 1148], [116, 1148], [362, 21], [362, 21], [57, 660, 3, 661], [57, 660, 3, 661], [57, 660, 3, 661], [57, 660, 3, 661], [843, 268, 844], [843, 268, 844], [843, 268, 844], [234, 4, 845], [234, 4, 845], [234, 4, 845], [96, 529], [96, 529], [205, 58, 846], [205, 58, 846], [205, 58, 846], [847], [1533], [80, 530], [80, 530], [269, 28, 235, 444, 206, 21], [269, 28, 235, 444, 206, 21], [269, 28, 235, 444, 206, 21], [269, 28, 235, 444, 206, 21], [269, 28, 235, 444, 206, 21], [269, 28, 235, 444, 206, 21], [97, 5, 848], [97, 5, 848], [97, 5, 848], [97, 1149], [97, 1149], [363, 1150], [363, 1150], [1534], [849, 9, 12], [849, 9, 12], [849, 9, 12], [1151, 69], [1151, 69], [445, 850], [445, 850], [1535], [851, 27, 145], [851, 27, 145], [851, 27, 145], [364], [662], [98, 306], [98, 306], [207, 531], [207, 531], [663, 99, 664, 132], [663, 99, 664, 132], [663, 99, 664, 132], [663, 99, 664, 132], [1152, 1153], [1152, 1153], [117, 65], [117, 65], [1154, 1155], [1154, 1155], [852, 365, 853], [852, 365, 853], [852, 365, 853], [1156, 1157], [1156, 1157], [1158, 1159], [1158, 1159], [75], [75, 100], [75, 100], [366], [70, 854, 179], [70, 854, 179], [70, 854, 179], [1160, 21], [1160, 21], [367, 109, 101, 368, 37, 75, 64], [367, 109, 101, 368, 37, 75, 64], [367, 109, 101, 368, 37, 75, 64], [367, 109, 101, 368, 37, 75, 64], [367, 109, 101, 368, 37, 75, 64], [367, 109, 101, 368, 37, 75, 64], [367, 109, 101, 368, 37, 75, 64], [236, 4], [236, 4], [34, 159], [34, 159], [1161, 532], [1161, 532], [186], [855], [1162, 29], [1162, 29], [61, 1163], [61, 1163], [61, 187, 29], [61, 187, 29], [61, 187, 29], [1164, 533], [1164, 533], [11, 1165], [11, 1165], [11, 89], [11, 89], [11, 270], [11, 270], [11, 856, 307], [11, 856, 307], [11, 856, 307], [534, 857, 535], [534, 857, 535], [534, 857, 535], [446, 369], [446, 369], [446, 370, 118, 110], [446, 370, 118, 110], [446, 370, 118, 110], [446, 370, 118, 110], [665, 1166], [665, 1166], [1536], [208, 81, 102, 21], [208, 81, 102, 21], [208, 81, 102, 21], [208, 81, 102, 21], [666, 21], [666, 21], [160, 59, 49, 26, 161], [160, 59, 49, 26, 161], [160, 59, 49, 26, 161], [160, 59, 49, 26, 161], [160, 59, 49, 26, 161], [160, 111, 371, 76, 536], [160, 111, 371, 76, 536], [160, 111, 371, 76, 536], [160, 111, 371, 76, 536], [160, 111, 371, 76, 536], [160, 667, 82, 668], [160, 667, 82, 668], [160, 667, 82, 668], [160, 667, 82, 668], [1167, 308], [1167, 308], [309, 310], [309, 310], [535, 1168], [535, 1168], [537, 27, 858], [537, 27, 858], [537, 27, 858], [39, 1169], [39, 1169], [311, 237], [311, 237], [53, 34, 159], [53, 34, 159], [53, 34, 159], [53, 162], [53, 162], [1170, 1171], [1170, 1171], [10], [10, 119, 859], [10, 119, 859], [10, 119, 859], [1172, 1173], [1172, 1173], [1174, 209], [1174, 209], [669], [372, 860, 861], [372, 860, 861], [372, 860, 861], [1175, 188], [1175, 188], [670, 671], [670, 671], [1176, 1177], [1176, 1177], [1, 163, 6], [1, 163, 6], [1, 163, 6], [238, 8, 22], [238, 8, 22], [238, 8, 22], [238, 71, 66], [238, 71, 66], [238, 71, 66], [238, 164, 239, 672], [238, 164, 239, 672], [238, 164, 239, 672], [238, 164, 239, 672], [62, 673], [62, 673], [447, 1178], [447, 1178], [1179, 673], [1179, 673], [240, 538], [240, 538], [1180, 36], [1180, 36], [17, 862, 120], [17, 862, 120], [17, 862, 120], [1181, 534], [1181, 534], [863, 90, 312], [863, 90, 312], [863, 90, 312], [373, 26, 313], [373, 26, 313], [373, 26, 313], [28, 210, 374, 91, 66], [28, 210, 374, 91, 66], [28, 210, 374, 91, 66], [28, 210, 374, 91, 66], [28, 210, 374, 91, 66], [8, 9], [8, 9], [8, 271, 30, 314], [8, 271, 30, 314], [8, 271, 30, 314], [8, 271, 30, 314], [8, 3, 315, 272], [8, 3, 315, 272], [8, 3, 315, 272], [8, 3, 315, 272], [864, 241, 234], [864, 241, 234], [864, 241, 234], [539, 83], [539, 83], [674, 133], [674, 133], [448], [448, 242], [448, 242], [448, 77, 100], [448, 77, 100], [448, 77, 100], [165, 540], [165, 540], [5, 243, 273], [5, 243, 273], [5, 243, 273], [5, 72, 865], [5, 72, 865], [5, 72, 865], [5, 72, 49], [5, 72, 49], [5, 72, 49], [5, 866, 189], [5, 866, 189], [5, 866, 189], [5, 1182], [5, 1182], [5, 274, 243], [5, 274, 243], [5, 274, 243], [375, 1183], [375, 1183], [50, 867, 868], [50, 867, 868], [50, 867, 868], [50, 1184], [50, 1184], [58, 1185], [58, 1185], [675, 3, 211, 190], [675, 3, 211, 190], [675, 3, 211, 190], [675, 3, 211, 190], [67, 869, 275], [67, 869, 275], [67, 869, 275], [1186, 212], [1186, 212], [73, 22, 163, 29], [73, 22, 163, 29], [73, 22, 163, 29], [73, 22, 163, 29], [676, 6], [676, 6], [1537], [2, 1187], [2, 1187], [2, 316, 677, 51], [2, 316, 677, 51], [2, 316, 677, 51], [2, 316, 677, 51], [2, 21, 870], [2, 21, 870], [2, 21, 870], [2, 678, 38, 242], [2, 678, 38, 242], [2, 678, 38, 242], [2, 678, 38, 242], [2, 871, 240], [2, 871, 240], [2, 871, 240], [2, 72, 71, 191], [2, 72, 71, 191], [2, 72, 71, 191], [2, 72, 71, 191], [2, 376, 872], [2, 376, 872], [2, 376, 872], [2, 5, 679, 449], [2, 5, 679, 449], [2, 5, 679, 449], [2, 5, 679, 449], [2, 5, 276, 680], [2, 5, 276, 680], [2, 5, 276, 680], [2, 5, 276, 680], [2, 67, 377, 450], [2, 67, 377, 450], [2, 67, 377, 450], [2, 67, 377, 450], [2, 146, 681, 121], [2, 146, 681, 121], [2, 146, 681, 121], [2, 146, 681, 121], [2, 13, 541, 378, 542], [2, 13, 541, 378, 542], [2, 13, 541, 378, 542], [2, 13, 541, 378, 542], [2, 13, 541, 378, 542], [2, 873, 66], [2, 873, 66], [2, 873, 66], [2, 192, 379], [2, 192, 379], [2, 192, 379], [2, 277, 380], [2, 277, 380], [2, 277, 380], [2, 103], [2, 103], [2, 134, 180, 9, 37, 112], [2, 134, 180, 9, 37, 112], [2, 134, 180, 9, 37, 112], [2, 134, 180, 9, 37, 112], [2, 134, 180, 9, 37, 112], [2, 134, 180, 9, 37, 112], [2, 682], [2, 682], [2, 1188], [2, 1188], [2, 317, 683, 278], [2, 317, 683, 278], [2, 317, 683, 278], [2, 317, 683, 278], [2, 279, 244, 381], [2, 279, 244, 381], [2, 279, 244, 381], [2, 279, 244, 381], [2, 279, 213, 71, 191], [2, 279, 213, 71, 191], [2, 279, 213, 71, 191], [2, 279, 213, 71, 191], [2, 279, 213, 71, 191], [2, 63, 382], [2, 63, 382], [2, 63, 382], [2, 166, 84, 112], [2, 166, 84, 112], [2, 166, 84, 112], [2, 166, 84, 112], [2, 543, 90, 193, 188], [2, 543, 90, 193, 188], [2, 543, 90, 193, 188], [2, 543, 90, 193, 188], [2, 543, 90, 193, 188], [2, 1189], [2, 1189], [2, 76, 167], [2, 76, 167], [2, 76, 167], [2, 276], [2, 276], [2, 451, 214], [2, 451, 214], [2, 451, 214], [874, 10, 271], [874, 10, 271], [874, 10, 271], [162, 85], [162, 85], [19, 26, 12], [19, 26, 12], [19, 26, 12], [19, 10, 78], [19, 10, 78], [19, 10, 78], [19, 167], [19, 167], [19, 684, 62, 12], [19, 684, 62, 12], [19, 684, 62, 12], [19, 684, 62, 12], [120, 318, 12], [120, 318, 12], [120, 318, 12], [99, 48], [99, 48], [168, 685], [168, 685], [319], [875, 876, 877], [875, 876, 877], [875, 876, 877], [1538], [544, 1190], [544, 1190], [147, 54], [147, 54], [6, 545], [6, 545], [1191, 1192], [1191, 1192], [31, 1193], [31, 1193], [31, 280], [31, 280], [122, 686, 194, 121], [122, 686, 194, 121], [122, 686, 194, 121], [122, 686, 194, 121], [1194, 159], [1194, 159], [13, 116, 878], [13, 116, 878], [13, 116, 878], [13, 320, 237], [13, 320, 237], [13, 320, 237], [13, 452, 321], [13, 452, 321], [13, 452, 321], [13, 1195], [13, 1195], [13, 1196], [13, 1196], [13, 193], [13, 193], [13, 1197], [13, 1197], [13, 687, 453, 9], [13, 687, 453, 9], [13, 687, 453, 9], [13, 687, 453, 9], [100, 879, 880], [100, 879, 880], [100, 879, 880], [100, 40], [100, 40], [881, 882, 4], [881, 882, 4], [881, 882, 4], [38, 65, 281, 546, 86], [38, 65, 281, 546, 86], [38, 65, 281, 546, 86], [38, 65, 281, 546, 86], [38, 65, 281, 546, 86], [883, 181, 884], [883, 181, 884], [883, 181, 884], [148, 74, 885], [148, 74, 885], [148, 74, 885], [313, 454, 455], [313, 454, 455], [313, 454, 455], [383, 9, 104, 688], [383, 9, 104, 688], [383, 9, 104, 688], [383, 9, 104, 688], [383, 456, 41], [383, 456, 41], [383, 456, 41], [547, 384], [547, 384], [92], [282, 322], [282, 322], [1539], [548, 167], [548, 167], [1198, 318], [1198, 318], [135, 52], [135, 52], [182, 1199], [182, 1199], [169, 689, 323, 3], [169, 689, 323, 3], [169, 689, 323, 3], [169, 689, 323, 3], [1200, 283], [1200, 283], [1201, 690], [1201, 690], [113, 549], [113, 549], [1202, 457], [1202, 457], [1203, 170], [1203, 170], [48, 43, 121, 691], [48, 43, 121, 691], [48, 43, 121, 691], [48, 43, 121, 691], [103, 8, 215, 692], [103, 8, 215, 692], [103, 8, 215, 692], [103, 8, 215, 692], [245, 385, 28, 693], [245, 385, 28, 693], [245, 385, 28, 693], [245, 385, 28, 693], [886, 63, 34], [886, 63, 34], [886, 63, 34], [1204, 159], [1204, 159], [1540], [1205, 18], [1205, 18], [550, 1206], [550, 1206], [694, 1207], [694, 1207], [1208, 1209], [1208, 1209], [136, 1210], [136, 1210], [14, 458], [14, 458], [195, 386, 149, 695], [195, 386, 149, 695], [195, 386, 149, 695], [195, 386, 149, 695], [459, 460], [459, 460], [887, 551, 363], [887, 551, 363], [887, 551, 363], [1541], [123, 284, 36, 696], [123, 284, 36, 696], [123, 284, 36, 696], [123, 284, 36, 696], [1211, 1212], [1211, 1212], [246, 167, 58], [246, 167, 58], [246, 167, 58], [124, 89], [124, 89], [124, 888, 50], [124, 888, 50], [124, 888, 50], [461, 247], [461, 247], [361, 552], [361, 552], [462, 1213], [462, 1213], [697, 145, 9, 4], [697, 145, 9, 4], [697, 145, 9, 4], [697, 145, 9, 4], [553, 19, 104], [553, 19, 104], [553, 19, 104], [1542], [698, 1214], [698, 1214], [1543], [77, 3, 554, 324, 33], [77, 3, 554, 324, 33], [77, 3, 554, 324, 33], [77, 3, 554, 324, 33], [77, 3, 554, 324, 33], [889], [275, 125], [275, 125], [555, 150], [555, 150], [556, 890, 463], [556, 890, 463], [556, 890, 463], [248, 168, 6, 557, 387], [248, 168, 6, 557, 387], [248, 168, 6, 557, 387], [248, 168, 6, 557, 387], [248, 168, 6, 557, 387], [325, 216, 558, 86, 559], [325, 216, 558, 86, 559], [325, 216, 558, 86, 559], [325, 216, 558, 86, 559], [325, 216, 558, 86, 559], [1544], [105, 464], [105, 464], [1215, 1216], [1215, 1216], [699, 171], [699, 171], [699, 1217], [699, 1217], [326, 700, 701, 105], [326, 700, 701, 105], [326, 700, 701, 105], [326, 700, 701, 105], [1218, 1219], [1218, 1219], [4, 891, 14], [4, 891, 14], [4, 891, 14], [4, 76, 114], [4, 76, 114], [4, 76, 114], [465, 1220], [465, 1220], [892, 151, 162], [892, 151, 162], [892, 151, 162], [1545], [152, 893, 388], [152, 893, 388], [152, 893, 388], [180, 894, 560], [180, 894, 560], [180, 894, 560], [1546], [702, 249], [702, 249], [327, 1221], [327, 1221], [18, 466], [18, 466], [1547], [91, 328], [91, 328], [467, 285, 369], [467, 285, 369], [467, 285, 369], [389, 167], [389, 167], [895, 48, 896], [895, 48, 896], [895, 48, 896], [329, 1222], [329, 1222], [1223, 1224], [1223, 1224], [41, 703, 4, 44], [41, 703, 4, 44], [41, 703, 4, 44], [41, 703, 4, 44], [41, 1225], [41, 1225], [41, 330], [41, 330], [1226, 1227], [1226, 1227], [250, 1228], [250, 1228], [897, 213, 561], [897, 213, 561], [897, 213, 561], [1229, 1230], [1229, 1230], [898, 98, 899], [898, 98, 899], [898, 98, 899], [900, 901, 45], [900, 901, 45], [900, 901, 45], [36, 1231], [36, 1231], [234, 1232], [234, 1232], [205, 153, 34, 126, 468, 196], [205, 153, 34, 126, 468, 196], [205, 153, 34, 126, 468, 196], [205, 153, 34, 126, 468, 196], [205, 153, 34, 126, 468, 196], [205, 153, 34, 126, 468, 196], [59, 102, 562, 99, 563], [59, 102, 562, 99, 563], [59, 102, 562, 99, 563], [59, 102, 562, 99, 563], [59, 102, 562, 99, 563], [564, 1233], [564, 1233], [1234, 565], [1234, 565], [331, 45, 209, 251], [331, 45, 209, 251], [331, 45, 209, 251], [331, 45, 209, 251], [332, 902, 903], [332, 902, 903], [332, 902, 903], [42, 21, 904], [42, 21, 904], [42, 21, 904], [80], [252, 282, 23], [252, 282, 23], [252, 282, 23], [217, 390, 64], [217, 390, 64], [217, 390, 64], [905, 906, 151], [905, 906, 151], [905, 906, 151], [704, 566], [704, 566], [154, 14], [154, 14], [286, 907, 312], [286, 907, 312], [286, 907, 312], [286, 705, 316, 706], [286, 705, 316, 706], [286, 705, 316, 706], [286, 705, 316, 706], [286, 1235], [286, 1235], [235, 1236], [235, 1236], [98, 469], [98, 469], [15, 567, 218, 187, 29], [15, 567, 218, 187, 29], [15, 567, 218, 187, 29], [15, 567, 218, 187, 29], [15, 567, 218, 187, 29], [15, 391, 390, 707], [15, 391, 390, 707], [15, 391, 390, 707], [15, 391, 390, 707], [15, 172, 252, 70], [15, 172, 252, 70], [15, 172, 252, 70], [15, 172, 252, 70], [15, 172, 318], [15, 172, 318], [15, 172, 318], [15, 172, 908], [15, 172, 908], [15, 172, 908], [15, 568, 155, 569, 103], [15, 568, 155, 569, 103], [15, 568, 155, 569, 103], [15, 568, 155, 569, 103], [15, 568, 155, 569, 103], [15, 708, 71, 161], [15, 708, 71, 161], [15, 708, 71, 161], [15, 708, 71, 161], [15, 10, 35, 64], [15, 10, 35, 64], [15, 10, 35, 64], [15, 10, 35, 64], [15, 470, 909], [15, 470, 909], [15, 470, 909], [15, 137], [15, 137], [15, 137, 287, 709], [15, 137, 287, 709], [15, 137, 287, 709], [15, 137, 287, 709], [15, 910, 218], [15, 910, 218], [15, 910, 218], [87, 328], [87, 328], [911, 324, 912], [911, 324, 912], [911, 324, 912], [181, 83, 913], [181, 83, 913], [181, 83, 913], [1237, 9], [1237, 9], [914, 392, 288], [914, 392, 288], [914, 392, 288], [570, 156, 89], [570, 156, 89], [570, 156, 89], [915, 41, 333], [915, 41, 333], [915, 41, 333], [84, 471], [84, 471], [916, 917, 49], [916, 917, 49], [916, 917, 49], [197, 450], [197, 450], [710, 472, 282, 253], [710, 472, 282, 253], [710, 472, 282, 253], [710, 472, 282, 253], [1238, 393], [1238, 393], [46, 1239], [46, 1239], [1240, 334], [1240, 334], [1548], [394, 114, 335, 37], [394, 114, 335, 37], [394, 114, 335, 37], [394, 114, 335, 37], [149, 173, 198, 4], [149, 173, 198, 4], [149, 173, 198, 4], [149, 173, 198, 4], [74, 132, 23], [74, 132, 23], [74, 132, 23], [70, 33], [70, 33], [174, 55, 22, 3, 117, 26, 3, 55, 127, 133], [174, 55, 22, 3, 117, 26, 3, 55, 127, 133], [174, 55, 22, 3, 117, 26, 3, 55, 127, 133], [174, 55, 22, 3, 117, 26, 3, 55, 127, 133], [174, 55, 22, 3, 117, 26, 3, 55, 127, 133], [174, 55, 22, 3, 117, 26, 3, 55, 127, 133], [174, 55, 22, 3, 117, 26, 3, 55, 127, 133], [174, 55, 22, 3, 117, 26, 3, 55, 127, 133], [174, 55, 22, 3, 117, 26, 3, 55, 127, 133], [174, 55, 22, 3, 117, 26, 3, 55, 127, 133], [219, 251], [219, 251], [571, 22], [571, 22], [1241, 65], [1241, 65], [1242, 1243], [1242, 1243], [918, 115, 372], [918, 115, 372], [918, 115, 372], [545, 572, 199], [545, 572, 199], [545, 572, 199], [333, 27], [333, 27], [34, 16, 44, 473, 474, 289], [34, 16, 44, 473, 474, 289], [34, 16, 44, 473, 474, 289], [34, 16, 44, 473, 474, 289], [34, 16, 44, 473, 474, 289], [34, 16, 44, 473, 474, 289], [1244, 1245], [1244, 1245], [1246, 175], [1246, 175], [214, 18], [214, 18], [919, 132, 920], [919, 132, 920], [919, 132, 920], [921, 284, 191], [921, 284, 191], [921, 284, 191], [395, 220, 138, 69, 396, 397, 139], [395, 220, 138, 69, 396, 397, 139], [395, 220, 138, 69, 396, 397, 139], [395, 220, 138, 69, 396, 397, 139], [395, 220, 138, 69, 396, 397, 139], [395, 220, 138, 69, 396, 397, 139], [395, 220, 138, 69, 396, 397, 139], [54, 922, 923], [54, 922, 923], [54, 922, 923], [54, 573, 221], [54, 573, 221], [54, 573, 221], [711, 712, 376, 239], [711, 712, 376, 239], [711, 712, 376, 239], [711, 712, 376, 239], [9, 713, 714, 23], [9, 713, 714, 23], [9, 713, 714, 23], [9, 713, 714, 23], [574, 34, 23], [574, 34, 23], [574, 34, 23], [574, 65], [574, 65], [11, 924, 336], [11, 924, 336], [11, 924, 336], [11, 454, 455], [11, 454, 455], [11, 454, 455], [11, 475, 398, 460], [11, 475, 398, 460], [11, 475, 398, 460], [11, 475, 398, 460], [1549], [1247, 34], [1247, 34], [1248, 109], [1248, 109], [209, 1249], [209, 1249], [399, 925, 87], [399, 925, 87], [399, 925, 87], [400, 22, 26, 290], [400, 22, 26, 290], [400, 22, 26, 290], [400, 22, 26, 290], [400, 55, 22], [400, 55, 22], [400, 55, 22], [1250, 132], [1250, 132], [254, 715, 176, 93], [254, 715, 176, 93], [254, 715, 176, 93], [254, 715, 176, 93], [926, 927, 93], [926, 927, 93], [926, 927, 93], [208, 716, 717, 255], [208, 716, 717, 255], [208, 716, 717, 255], [208, 716, 717, 255], [337, 476, 216, 45, 157, 6], [337, 476, 216, 45, 157, 6], [337, 476, 216, 45, 157, 6], [337, 476, 216, 45, 157, 6], [337, 476, 216, 45, 157, 6], [337, 476, 216, 45, 157, 6], [1550], [718, 39], [718, 39], [928, 929, 930], [928, 929, 930], [928, 929, 930], [575, 685], [575, 685], [576, 577, 578, 338, 336], [576, 577, 578, 338, 336], [576, 577, 578, 338, 336], [576, 577, 578, 338, 336], [576, 577, 578, 338, 336], [10, 65, 477], [10, 65, 477], [10, 65, 477], [10, 579], [10, 579], [10, 27, 156], [10, 27, 156], [10, 27, 156], [10, 179, 391], [10, 179, 391], [10, 179, 391], [401, 175], [401, 175], [1251, 63], [1251, 63], [49, 24], [49, 24], [222, 931, 402], [222, 931, 402], [222, 931, 402], [222, 4, 580], [222, 4, 580], [222, 4, 580], [1252, 403], [1252, 403], [1, 932, 310], [1, 932, 310], [1, 932, 310], [1, 326, 399, 291], [1, 326, 399, 291], [1, 326, 399, 291], [1, 326, 399, 291], [478, 126, 933], [478, 126, 933], [478, 126, 933], [223, 118, 479, 81, 93, 45], [223, 118, 479, 81, 93, 45], [223, 118, 479, 81, 93, 45], [223, 118, 479, 81, 93, 45], [223, 118, 479, 81, 93, 45], [223, 118, 479, 81, 93, 45], [1253, 1254], [1253, 1254], [62, 106, 34], [62, 106, 34], [62, 106, 34], [447, 1255], [447, 1255], [1256, 66], [1256, 66], [719, 86], [719, 86], [934, 935, 86], [934, 935, 86], [934, 935, 86], [936, 581, 937], [936, 581, 937], [936, 581, 937], [101, 35, 10], [101, 35, 10], [101, 35, 10], [1257, 1258], [1257, 1258], [137, 720], [137, 720], [224, 721, 39, 109], [224, 721, 39, 109], [224, 721, 39, 109], [224, 721, 39, 109], [107], [107, 938, 404], [107, 938, 404], [107, 938, 404], [339, 340, 480], [339, 340, 480], [339, 340, 480], [939, 405, 225], [939, 405, 225], [939, 405, 225], [940, 42, 941], [940, 42, 941], [940, 42, 941], [50, 140], [50, 140], [68, 481, 76, 23], [68, 481, 76, 23], [68, 481, 76, 23], [68, 481, 76, 23], [68, 27, 43, 134, 219, 23], [68, 27, 43, 134, 219, 23], [68, 27, 43, 134, 219, 23], [68, 27, 43, 134, 219, 23], [68, 27, 43, 134, 219, 23], [68, 27, 43, 134, 219, 23], [68, 226, 482, 165, 70, 483], [68, 226, 482, 165, 70, 483], [68, 226, 482, 165, 70, 483], [68, 226, 482, 165, 70, 483], [68, 226, 482, 165, 70, 483], [68, 226, 482, 165, 70, 483], [68, 722, 177, 23], [68, 722, 177, 23], [68, 722, 177, 23], [68, 722, 177, 23], [68, 317, 141, 23], [68, 317, 141, 23], [68, 317, 141, 23], [68, 317, 141, 23], [58, 36], [58, 36], [58, 942, 582], [58, 942, 582], [58, 942, 582], [73, 115], [73, 115], [1259, 9], [1259, 9], [1551], [108, 723, 14, 139], [108, 723, 14, 139], [108, 723, 14, 139], [108, 723, 14, 139], [724, 405, 725, 227], [724, 405, 725, 227], [724, 405, 725, 227], [724, 405, 725, 227], [193, 943, 18], [193, 943, 18], [193, 943, 18], [44, 726], [44, 726], [292, 48], [292, 48], [69, 583, 138, 584, 585], [69, 583, 138, 584, 585], [69, 583, 138, 584, 585], [69, 583, 138, 584, 585], [69, 583, 138, 584, 585], [944, 945, 179], [944, 945, 179], [944, 945, 179], [1260, 1261], [1260, 1261], [481, 46], [481, 46], [1552], [22, 1262], [22, 1262], [19, 186], [19, 186], [293, 285, 290], [293, 285, 290], [293, 285, 290], [294, 946, 947], [294, 946, 947], [294, 946, 947], [948, 341, 308], [948, 341, 308], [948, 341, 308], [99, 256, 327], [99, 256, 327], [99, 256, 327], [949, 950, 83], [949, 950, 83], [949, 950, 83], [168, 109], [168, 109], [586, 200, 587, 64, 80], [586, 200, 587, 64, 80], [586, 200, 587, 64, 80], [586, 200, 587, 64, 80], [586, 200, 587, 64, 80], [727, 580], [727, 580], [727, 176], [727, 176], [951, 952, 93], [951, 952, 93], [951, 952, 93], [1263, 553], [1263, 553], [544, 295, 39], [544, 295, 39], [544, 295, 39], [1553], [484, 77, 14, 11, 4, 107], [484, 77, 14, 11, 4, 107], [484, 77, 14, 11, 4, 107], [484, 77, 14, 11, 4, 107], [484, 77, 14, 11, 4, 107], [484, 77, 14, 11, 4, 107], [31, 728, 85, 33], [31, 728, 85, 33], [31, 728, 85, 33], [31, 728, 85, 33], [29, 312], [29, 312], [296, 239], [296, 239], [13], [588, 124], [588, 124], [588, 124, 89], [588, 124, 89], [588, 124, 89], [25, 59, 589, 590, 227], [25, 59, 589, 590, 227], [25, 59, 589, 590, 227], [25, 59, 589, 590, 227], [25, 59, 589, 590, 227], [25, 59, 175], [25, 59, 175], [25, 59, 175], [25, 59, 406, 729], [25, 59, 406, 729], [25, 59, 406, 729], [25, 59, 406, 729], [25, 59, 76], [25, 59, 76], [25, 59, 76], [25, 381, 86], [25, 381, 86], [25, 381, 86], [148, 1264], [148, 1264], [173, 477, 23], [173, 477, 23], [173, 477, 23], [1265, 1266], [1265, 1266], [115, 591], [115, 591], [128, 953, 23], [128, 953, 23], [128, 953, 23], [954, 257, 23], [954, 257, 23], [954, 257, 23], [955, 956, 26], [955, 956, 26], [955, 956, 26], [1267, 407], [1267, 407], [957, 75, 480], [957, 75, 480], [957, 75, 480], [730, 258, 731, 392], [730, 258, 731, 392], [730, 258, 731, 392], [730, 258, 731, 392], [43, 560], [43, 560], [732, 33], [732, 33], [192, 10], [192, 10], [192, 123, 257], [192, 123, 257], [192, 123, 257], [1268, 469], [1268, 469], [169, 237], [169, 237], [592, 958, 89], [592, 958, 89], [592, 958, 89], [593], [297, 214, 23], [297, 214, 23], [297, 214, 23], [1269, 37], [1269, 37], [1270, 665], [1270, 665], [1554], [1555], [35, 1271], [35, 1271], [959, 114, 64], [959, 114, 64], [959, 114, 64], [594, 298], [594, 298], [960, 961, 539], [960, 961, 539], [960, 961, 539], [1272, 1273], [1272, 1273], [962, 963, 39], [962, 963, 39], [962, 963, 39], [37, 1274], [37, 1274], [1275, 75], [1275, 75], [550, 309, 247], [550, 309, 247], [550, 309, 247], [694, 1276], [694, 1276], [964, 965, 255], [964, 965, 255], [964, 965, 255], [485, 408, 198], [485, 408, 198], [485, 408, 198], [485, 370, 198], [485, 370, 198], [485, 370, 198], [14, 966, 327], [14, 966, 327], [14, 966, 327], [14, 52, 48, 342], [14, 52, 48, 342], [14, 52, 48, 342], [14, 52, 48, 342], [14, 52, 48, 40], [14, 52, 48, 40], [14, 52, 48, 40], [14, 52, 48, 40], [14, 308, 80], [14, 308, 80], [14, 308, 80], [195, 228, 253], [195, 228, 253], [195, 228, 253], [195, 967, 253], [195, 967, 253], [195, 967, 253], [459, 1277], [459, 1277], [471, 17, 79, 29], [471, 17, 79, 29], [471, 17, 79, 29], [471, 17, 79, 29], [565, 186, 407], [565, 186, 407], [565, 186, 407], [1278, 93], [1278, 93], [1279, 1280], [1279, 1280], [409, 343, 410], [409, 343, 410], [409, 343, 410], [1281, 720], [1281, 720], [461, 733, 734, 458], [461, 733, 734, 458], [461, 733, 734, 458], [461, 733, 734, 458], [595, 1282], [595, 1282], [968, 969, 970], [968, 969, 970], [968, 969, 970], [1556], [971, 972, 596], [971, 972, 596], [971, 972, 596], [1283, 75], [1283, 75], [1284, 593], [1284, 593], [597], [735, 1285], [735, 1285], [556, 196], [556, 196], [1286, 105], [1286, 105], [393, 56], [393, 56], [393, 56, 85], [393, 56, 85], [393, 56, 85], [736, 1287], [736, 1287], [598, 571, 22], [598, 571, 22], [598, 571, 22], [737, 738, 51, 54], [737, 738, 51, 54], [737, 738, 51, 54], [737, 738, 51, 54], [314, 277, 486, 9], [314, 277, 486, 9], [314, 277, 486, 9], [314, 277, 486, 9], [1288, 739], [1288, 739], [63, 55, 47], [63, 55, 47], [63, 55, 47], [344, 115, 11, 4, 107], [344, 115, 11, 4, 107], [344, 115, 11, 4, 107], [344, 115, 11, 4, 107], [344, 115, 11, 4, 107], [105, 411, 219], [105, 411, 219], [105, 411, 219], [1557], [3, 32, 973], [3, 32, 973], [3, 32, 973], [16, 52, 48], [16, 52, 48], [16, 52, 48], [16, 52, 48, 171], [16, 52, 48, 171], [16, 52, 48, 171], [16, 52, 48, 171], [16, 4, 289], [16, 4, 289], [16, 4, 289], [299, 974, 594], [299, 974, 594], [299, 974, 594], [740, 741, 245, 36], [740, 741, 245, 36], [740, 741, 245, 36], [740, 741, 245, 36], [487, 345], [487, 345], [487, 192, 123, 132], [487, 192, 123, 132], [487, 192, 123, 132], [487, 192, 123, 132], [975, 128, 39], [975, 128, 39], [975, 128, 39], [976, 977, 978], [976, 977, 978], [976, 977, 978], [180, 24, 107, 8], [180, 24, 107, 8], [180, 24, 107, 8], [180, 24, 107, 8], [18], [18, 58], [18, 58], [338, 259, 566], [338, 259, 566], [338, 259, 566], [91, 66, 89], [91, 66, 89], [91, 66, 89], [1289, 188], [1289, 188], [467, 979, 980], [467, 979, 980], [467, 979, 980], [981, 982, 255], [981, 982, 255], [981, 982, 255], [412, 295, 39], [412, 295, 39], [412, 295, 39], [413, 241, 86], [413, 241, 86], [413, 241, 86], [983, 10, 22], [983, 10, 22], [983, 10, 22], [260, 34], [260, 34], [1290, 1291], [1290, 1291], [116, 142, 17], [116, 142, 17], [116, 142, 17], [362, 1292], [362, 1292], [1558], [984, 985, 986], [984, 985, 986], [984, 985, 986], [96, 36, 398], [96, 36, 398], [96, 36, 398], [96, 414, 488], [96, 414, 488], [96, 414, 488], [96, 78, 170], [96, 78, 170], [96, 78, 170], [1293, 277], [1293, 277], [1294, 6], [1294, 6], [599, 28, 987], [599, 28, 987], [599, 28, 987], [1295, 244], [1295, 244], [1296, 77], [1296, 77], [988], [742, 51], [742, 51], [742, 33], [742, 33], [217, 570], [217, 570], [217, 166], [217, 166], [489, 97], [489, 97], [489, 29], [489, 29], [489, 141], [489, 141], [1297, 334], [1297, 334], [1298, 4], [1298, 4], [102, 21], [102, 21], [102, 261], [102, 261], [87, 452, 989], [87, 452, 989], [87, 452, 989], [87, 1299], [87, 1299], [600, 346, 250], [600, 346, 250], [600, 346, 250], [1300, 415], [1300, 415], [369, 189], [369, 189], [671, 1301], [671, 1301], [1559], [88, 122], [88, 122], [197, 490], [197, 490], [990, 991, 150], [990, 991, 150], [990, 991, 150], [75, 1302], [75, 1302], [992, 386, 993], [992, 386, 993], [992, 386, 993], [149, 1303], [149, 1303], [491, 1304], [491, 1304], [74, 39, 492], [74, 39, 492], [74, 39, 492], [994, 159, 108], [994, 159, 108], [994, 159, 108], [201, 493, 106, 6], [201, 493, 106, 6], [201, 493, 106, 6], [201, 493, 106, 6], [1305, 300], [1305, 300], [1306, 1307], [1306, 1307], [1308, 221], [1308, 221], [416, 65], [416, 65], [1309, 1310], [1309, 1310], [1311, 1312], [1311, 1312], [1313, 1314], [1313, 1314], [995, 178, 39], [995, 178, 39], [995, 178, 39], [61, 996, 997], [61, 996, 997], [61, 996, 997], [61, 78, 998], [61, 78, 998], [61, 78, 998], [61, 743], [61, 743], [54, 1315], [54, 1315], [11, 347, 65, 196], [11, 347, 65, 196], [11, 347, 65, 196], [11, 347, 65, 196], [11, 1316], [11, 1316], [1317, 698], [1317, 698], [999, 492, 40], [999, 492, 40], [999, 492, 40], [1318, 1319], [1318, 1319], [348, 1320], [348, 1320], [348, 4, 51], [348, 4, 51], [348, 4, 51], [345, 464], [345, 464], [177, 25, 176], [177, 25, 176], [177, 25, 176], [1321, 21], [1321, 21], [744, 85], [744, 85], [744, 121], [744, 121], [83, 229, 4], [83, 229, 4], [83, 229, 4], [284, 601], [284, 601], [1560], [1322, 602], [1322, 602], [718, 32], [718, 32], [230, 1000, 22], [230, 1000, 22], [230, 1000, 22], [230, 349], [230, 349], [53, 1323], [53, 1323], [53, 288, 417], [53, 288, 417], [53, 288, 417], [53, 2, 2], [53, 2, 2], [53, 2, 2], [53, 350, 90], [53, 350, 90], [53, 350, 90], [453, 8], [453, 8], [89, 46], [89, 46], [1001, 262, 540], [1001, 262, 540], [1001, 262, 540], [1324, 290], [1324, 290], [145, 121, 603], [145, 121, 603], [145, 121, 603], [156, 464], [156, 464], [1325, 1326], [1325, 1326], [72, 291], [72, 291], [401, 600], [401, 600], [401, 263, 1002], [401, 263, 1002], [401, 263, 1002], [1561], [1327, 1328], [1327, 1328], [272, 745], [272, 745], [670, 746], [670, 746], [94, 292, 747, 120], [94, 292, 747, 120], [94, 292, 747, 120], [94, 292, 747, 120], [1003, 116, 1004], [1003, 116, 1004], [1003, 116, 1004], [351, 14, 748, 352], [351, 14, 748, 352], [351, 14, 748, 352], [351, 14, 748, 352], [749, 16, 38, 256], [749, 16, 38, 256], [749, 16, 38, 256], [749, 16, 38, 256], [1329, 22], [1329, 22], [17, 294], [17, 294], [1330, 1331], [1330, 1331], [1332, 1333], [1332, 1333], [604, 1334], [604, 1334], [373, 750], [373, 750], [373, 4], [373, 4], [1005, 62, 50], [1005, 62, 50], [1005, 62, 50], [28, 87], [28, 87], [751, 25, 752, 112], [751, 25, 752, 112], [751, 25, 752, 112], [751, 25, 752, 112], [1335, 49], [1335, 49], [1336, 605], [1336, 605], [403, 494], [403, 494], [418, 753, 754, 24], [418, 753, 754, 24], [418, 753, 754, 24], [418, 753, 754, 24], [418, 1006, 330], [418, 1006, 330], [418, 1006, 330], [1337, 1338], [1337, 1338], [5, 129, 309], [5, 129, 309], [5, 129, 309], [5, 29, 129, 108, 197, 495], [5, 29, 129, 108, 197, 495], [5, 29, 129, 108, 197, 495], [5, 29, 129, 108, 197, 495], [5, 29, 129, 108, 197, 495], [5, 29, 129, 108, 197, 495], [5, 1339], [5, 1339], [1007, 130, 496], [1007, 130, 496], [1007, 130, 496], [532, 143, 606], [532, 143, 606], [532, 143, 606], [607, 40], [607, 40], [50, 497], [50, 497], [50, 237, 416], [50, 237, 416], [50, 237, 416], [1340, 416], [1340, 416], [58, 1341], [58, 1341], [67, 16, 498, 301, 499, 11], [67, 16, 498, 301, 499, 11], [67, 16, 498, 301, 499, 11], [67, 16, 498, 301, 499, 11], [67, 16, 498, 301, 499, 11], [67, 16, 498, 301, 499, 11], [73, 1342], [73, 1342], [108, 1008, 26], [108, 1008, 26], [108, 1008, 26], [1343, 236], [1343, 236], [146, 51, 1009], [146, 51, 1009], [146, 51, 1009], [146, 280], [146, 280], [676, 143], [676, 143], [608, 1010, 21], [608, 1010, 21], [608, 1010, 21], [662, 6, 321], [662, 6, 321], [662, 6, 321], [609, 690], [609, 690], [755, 610], [755, 610], [19, 419, 420, 281], [19, 419, 420, 281], [19, 419, 420, 281], [19, 419, 420, 281], [19, 704], [19, 704], [19, 176, 12], [19, 176, 12], [19, 176, 12], [1344, 1345], [1344, 1345], [1346, 4], [1346, 4], [56, 1347], [56, 1347], [56, 8], [56, 8], [1011, 611, 1012], [1011, 611, 1012], [1011, 611, 1012], [1348, 1349], [1348, 1349], [99, 56], [99, 56], [1350, 1351], [1350, 1351], [1013, 293, 109], [1013, 293, 109], [1013, 293, 109], [551, 363], [551, 363], [147, 1352], [147, 1352], [1353, 1354], [1353, 1354], [1355, 1356], [1355, 1356], [353, 43], [353, 43], [1357, 1358], [1357, 1358], [354, 202], [354, 202], [1014, 1015, 533], [1014, 1015, 533], [1014, 1015, 533], [31, 137, 240], [31, 137, 240], [31, 137, 240], [31, 210], [31, 210], [31, 14, 63], [31, 14, 63], [31, 14, 63], [31, 500, 4], [31, 500, 4], [31, 500, 4], [31, 412, 298, 12], [31, 412, 298, 12], [31, 412, 298, 12], [31, 412, 298, 12], [122, 1016, 575], [122, 1016, 575], [122, 1016, 575], [122, 194], [122, 194], [1359, 51], [1359, 51], [220, 756, 501, 85], [220, 756, 501, 85], [220, 756, 501, 85], [220, 756, 501, 85], [13, 421], [13, 421], [13, 1360], [13, 1360], [13, 501], [13, 501], [13, 502, 130, 757], [13, 502, 130, 757], [13, 502, 130, 757], [13, 502, 130, 757], [13, 758, 28, 129], [13, 758, 28, 129], [13, 758, 28, 129], [13, 758, 28, 129], [100, 25, 1017], [100, 25, 1017], [100, 25, 1017], [1361, 27], [1361, 27], [573, 612], [573, 612], [1362, 257], [1362, 257], [78, 46, 552], [78, 46, 552], [78, 46, 552], [210, 30], [210, 30], [1363, 389], [1363, 389], [90, 54, 613], [90, 54, 613], [90, 54, 613], [1018, 139, 1019], [1018, 139, 1019], [1018, 139, 1019], [1364, 212], [1364, 212], [55, 1365], [55, 1365], [422, 614], [422, 614], [321, 12], [321, 12], [1562], [1366, 615], [1366, 615], [371, 32], [371, 32], [449, 1367], [449, 1367], [135, 13, 1020], [135, 13, 1020], [135, 13, 1020], [135, 411, 199, 21], [135, 411, 199, 21], [135, 411, 199, 21], [135, 411, 199, 21], [182, 82, 17], [182, 82, 17], [182, 82, 17], [1368, 4], [1368, 4], [1369, 726], [1369, 726], [423, 90], [423, 90], [1370, 74], [1370, 74], [302, 719], [302, 719], [113, 230, 349], [113, 230, 349], [113, 230, 349], [113, 1371], [113, 1371], [1021, 104, 24], [1021, 104, 24], [1021, 104, 24], [531, 16, 591], [531, 16, 591], [531, 16, 591], [1022, 488, 12], [1022, 488, 12], [1022, 488, 12], [424, 8], [424, 8], [1372, 264], [1372, 264], [1373, 53], [1373, 53], [1374, 168], [1374, 168], [151, 207], [151, 207], [1375, 1376], [1375, 1376], [226, 1377], [226, 1377], [503, 350], [503, 350], [1378, 494], [1378, 494], [1023, 82, 350], [1023, 82, 350], [1023, 82, 350], [1379, 124], [1379, 124], [211, 25, 31, 365], [211, 25, 31, 365], [211, 25, 31, 365], [211, 25, 31, 365], [1024, 69, 269], [1024, 69, 269], [1024, 69, 269], [425, 759, 179, 6], [425, 759, 179, 6], [425, 759, 179, 6], [425, 759, 179, 6], [616, 202, 135], [616, 202, 135], [616, 202, 135], [246, 494], [246, 494], [1380, 44], [1380, 44], [7, 135, 342, 36], [7, 135, 342, 36], [7, 135, 342, 36], [7, 135, 342, 36], [595, 617, 150], [595, 617, 150], [595, 617, 150], [1025, 346, 389], [1025, 346, 389], [1025, 346, 389], [12, 1381], [12, 1381], [12, 130, 426], [12, 130, 426], [12, 130, 426], [163, 8], [163, 8], [163, 150], [163, 150], [261, 10, 45], [261, 10, 45], [261, 10, 45], [261, 40, 604], [261, 40, 604], [261, 40, 604], [475, 855], [475, 855], [427, 1382], [427, 1382], [140, 10], [140, 10], [275, 12], [275, 12], [275, 41], [275, 41], [183, 112], [183, 112], [82, 504], [82, 504], [248, 40], [248, 40], [341, 141], [341, 141], [1026, 607, 1027], [1026, 607, 1027], [1026, 607, 1027], [572, 1028], [572, 1028], [1383, 682], [1383, 682], [161, 1384], [161, 1384], [598, 988], [598, 988], [63, 1029, 24], [63, 1029, 24], [63, 1029, 24], [178, 42, 12], [178, 42, 12], [178, 42, 12], [1385, 502], [1385, 502], [3, 1386], [3, 1386], [16, 9], [16, 9], [16, 597, 505, 9], [16, 597, 505, 9], [16, 597, 505, 9], [16, 597, 505, 9], [16, 4, 425], [16, 4, 425], [16, 4, 425], [1030, 1031, 228], [1030, 1031, 228], [1030, 1031, 228], [166, 1032, 17], [166, 1032, 17], [166, 1032, 17], [1033, 128, 1034], [1033, 128, 1034], [1033, 128, 1034], [1387, 472], [1387, 472], [1388, 1389], [1388, 1389], [1390, 8], [1390, 8], [114, 331], [114, 331], [152, 355, 618], [152, 355, 618], [152, 355, 618], [1035, 306, 428], [1035, 306, 428], [1035, 306, 428], [265, 612, 320], [265, 612, 320], [265, 612, 320], [265, 1391], [265, 1391], [702, 12], [702, 12], [18, 21, 32], [18, 21, 32], [18, 21, 32], [18, 41], [18, 41], [619, 112], [619, 112], [1392, 493], [1392, 493], [91, 1036, 105], [91, 1036, 105], [91, 1036, 105], [620, 1393], [620, 1393], [1394, 17], [1394, 17], [1395, 83], [1395, 83], [621, 1396], [621, 1396], [1397, 616], [1397, 616], [469, 46], [469, 46], [41, 24], [41, 24], [41, 1398], [41, 1398], [57, 1037, 288], [57, 1037, 288], [57, 1037, 288], [57, 69, 3, 82], [57, 69, 3, 82], [57, 69, 3, 82], [57, 69, 3, 82], [57, 175, 8], [57, 175, 8], [57, 175, 8], [57, 622, 44], [57, 622, 44], [57, 622, 44], [57, 268, 123, 366, 3, 231], [57, 268, 123, 366, 3, 231], [57, 268, 123, 366, 3, 231], [57, 268, 123, 366, 3, 231], [57, 268, 123, 366, 3, 231], [57, 268, 123, 366, 3, 231], [1399, 506], [1399, 506], [228, 171], [228, 171], [96, 78, 190, 32], [96, 78, 190, 32], [96, 78, 190, 32], [96, 78, 190, 32], [184, 507, 141, 508, 74, 43], [184, 507, 141, 508, 74, 43], [184, 507, 141, 508, 74, 43], [184, 507, 141, 508, 74, 43], [184, 507, 141, 508, 74, 43], [184, 507, 141, 508, 74, 43], [184, 743], [184, 743], [564, 1038, 1039], [564, 1038, 1039], [564, 1038, 1039], [332, 303, 6, 79, 37], [332, 303, 6, 79, 37], [332, 303, 6, 79, 37], [332, 303, 6, 79, 37], [332, 303, 6, 79, 37], [760, 761, 136, 15], [760, 761, 136, 15], [760, 761, 136, 15], [760, 761, 136, 15], [762, 225, 16, 382], [762, 225, 16, 382], [762, 225, 16, 382], [762, 225, 16, 382], [1040, 406, 1041], [1040, 406, 1041], [1040, 406, 1041], [763, 429, 283, 764], [763, 429, 283, 764], [763, 429, 283, 764], [763, 429, 283, 764], [1400, 1401], [1400, 1401], [154, 194, 207], [154, 194, 207], [154, 194, 207], [765, 766, 8, 430], [765, 766, 8, 430], [765, 766, 8, 430], [765, 766, 8, 430], [767, 183, 302, 232], [767, 183, 302, 232], [767, 183, 302, 232], [767, 183, 302, 232], [98, 62, 431], [98, 62, 431], [98, 62, 431], [98, 225, 14, 768], [98, 225, 14, 768], [98, 225, 14, 768], [98, 225, 14, 768], [1402, 1403], [1402, 1403], [88, 478, 1042], [88, 478, 1042], [88, 478, 1042], [88, 233, 403], [88, 233, 403], [88, 233, 403], [88, 233, 292], [88, 233, 292], [88, 233, 292], [88, 1404], [88, 1404], [88, 251], [88, 251], [88, 1405], [88, 1405], [1406, 257], [1406, 257], [46, 407], [46, 407], [1043, 116, 17], [1043, 116, 17], [1043, 116, 17], [201, 339, 153, 259, 340], [201, 339, 153, 259, 340], [201, 339, 153, 259, 340], [201, 339, 153, 259, 340], [201, 339, 153, 259, 340], [34, 143, 44], [34, 143, 44], [34, 143, 44], [769, 3, 770, 771], [769, 3, 770, 771], [769, 3, 770, 771], [769, 3, 770, 771], [111, 772, 84, 17], [111, 772, 84, 17], [111, 772, 84, 17], [111, 772, 84, 17], [111, 28, 170], [111, 28, 170], [111, 28, 170], [111, 421, 42], [111, 421, 42], [111, 421, 42], [111, 248, 26], [111, 248, 26], [111, 248, 26], [61, 1407], [61, 1407], [1563], [1408, 236], [1408, 236], [1409, 750], [1409, 750], [301], [301, 176], [301, 176], [1410, 735], [1410, 735], [209, 45, 114], [209, 45, 114], [209, 45, 114], [1044, 623, 1045], [1044, 623, 1045], [1044, 623, 1045], [131, 259], [131, 259], [131, 224, 140], [131, 224, 140], [131, 224, 140], [131, 1046, 509], [131, 1046, 509], [131, 1046, 509], [131, 169, 228], [131, 169, 228], [131, 169, 228], [185, 1047, 149], [185, 1047, 149], [185, 1047, 149], [185, 186, 33, 3, 32, 85], [185, 186, 33, 3, 32, 85], [185, 186, 33, 3, 32, 85], [185, 186, 33, 3, 32, 85], [185, 186, 33, 3, 32, 85], [185, 186, 33, 3, 32, 85], [185, 49, 26, 773], [185, 49, 26, 773], [185, 49, 26, 773], [185, 49, 26, 773], [208, 81, 8], [208, 81, 8], [208, 81, 8], [1411, 141], [1411, 141], [1412, 234], [1412, 234], [624, 252, 1048], [624, 252, 1048], [624, 252, 1048], [624, 625], [624, 625], [303, 504, 94, 151], [303, 504, 94, 151], [303, 504, 94, 151], [303, 504, 94, 151], [311, 236], [311, 236], [311, 113, 4, 25], [311, 113, 4, 25], [311, 113, 4, 25], [311, 113, 4, 25], [1564], [203, 774, 217, 4], [203, 774, 217, 4], [203, 774, 217, 4], [203, 774, 217, 4], [203, 163, 1049], [203, 163, 1049], [203, 163, 1049], [372], [1413, 236], [1413, 236], [272, 157, 6], [272, 157, 6], [272, 157, 6], [94, 102, 364], [94, 102, 364], [94, 102, 364], [351, 775, 119, 52], [351, 775, 119, 52], [351, 775, 119, 52], [351, 775, 119, 52], [1, 362, 247], [1, 362, 247], [1, 362, 247], [1, 626, 148, 627, 14], [1, 626, 148, 627, 14], [1, 626, 148, 627, 14], [1, 626, 148, 627, 14], [1, 626, 148, 627, 14], [1, 154, 456], [1, 154, 456], [1, 154, 456], [1, 1050, 17], [1, 1050, 17], [1, 1050, 17], [1, 1414], [1, 1414], [1, 258, 103, 79, 204, 119], [1, 258, 103, 79, 204, 119], [1, 258, 103, 79, 204, 119], [1, 258, 103, 79, 204, 119], [1, 258, 103, 79, 204, 119], [1, 258, 103, 79, 204, 119], [1, 214, 166], [1, 214, 166], [1, 214, 166], [1, 11, 776, 777], [1, 11, 776, 777], [1, 11, 776, 777], [1, 11, 776, 777], [1, 11, 224, 77], [1, 11, 224, 77], [1, 11, 224, 77], [1, 11, 224, 77], [1, 1051, 1052], [1, 1051, 1052], [1, 1051, 1052], [1, 157, 27], [1, 157, 27], [1, 157, 27], [1, 1053, 298], [1, 1053, 298], [1, 1053, 298], [1, 83, 463], [1, 83, 463], [1, 83, 463], [1, 295, 306], [1, 295, 306], [1, 295, 306], [1, 17, 79, 6], [1, 17, 79, 6], [1, 17, 79, 6], [1, 17, 79, 6], [1, 432, 76, 12], [1, 432, 76, 12], [1, 432, 76, 12], [1, 432, 76, 12], [1, 65, 4, 119], [1, 65, 4, 119], [1, 65, 4, 119], [1, 65, 4, 119], [1, 1415], [1, 1415], [1, 1054, 1055], [1, 1054, 1055], [1, 1054, 1055], [1, 1416], [1, 1416], [1, 19, 778, 779], [1, 19, 778, 779], [1, 19, 778, 779], [1, 19, 778, 779], [1, 215, 8], [1, 215, 8], [1, 215, 8], [1, 628, 266, 433, 150], [1, 628, 266, 433, 150], [1, 628, 266, 433, 150], [1, 628, 266, 433, 150], [1, 628, 266, 433, 150], [1, 100, 25, 352], [1, 100, 25, 352], [1, 100, 25, 352], [1, 100, 25, 352], [1, 1056, 1057], [1, 1056, 1057], [1, 1056, 1057], [1, 1058, 51], [1, 1058, 51], [1, 1058, 51], [1, 780, 125, 781], [1, 780, 125, 781], [1, 780, 125, 781], [1, 780, 125, 781], [1, 213, 43], [1, 213, 43], [1, 213, 43], [1, 113, 549], [1, 113, 549], [1, 113, 549], [1, 782, 783, 24], [1, 782, 783, 24], [1, 782, 783, 24], [1, 782, 783, 24], [1, 510, 47, 9, 136, 511], [1, 510, 47, 9, 136, 511], [1, 510, 47, 9, 136, 511], [1, 510, 47, 9, 136, 511], [1, 510, 47, 9, 136, 511], [1, 510, 47, 9, 136, 511], [1, 299, 784, 12], [1, 299, 784, 12], [1, 299, 784, 12], [1, 299, 784, 12], [1, 1059, 310], [1, 1059, 310], [1, 1059, 310], [1, 1060, 601], [1, 1060, 601], [1, 1060, 601], [20, 117, 424, 7, 52], [20, 117, 424, 7, 52], [20, 117, 424, 7, 52], [20, 117, 424, 7, 52], [20, 117, 424, 7, 52], [20, 785, 88, 84], [20, 785, 88, 84], [20, 785, 88, 84], [20, 785, 88, 84], [20, 1061, 11], [20, 1061, 11], [20, 1061, 11], [20, 156, 142, 7, 629], [20, 156, 142, 7, 629], [20, 156, 142, 7, 629], [20, 156, 142, 7, 629], [20, 156, 142, 7, 629], [20, 137, 10, 1, 630], [20, 137, 10, 1, 630], [20, 137, 10, 1, 630], [20, 137, 10, 1, 630], [20, 137, 10, 1, 630], [20, 422, 631, 17, 95], [20, 422, 631, 17, 95], [20, 422, 631, 17, 95], [20, 422, 631, 17, 95], [20, 422, 631, 17, 95], [20, 246, 142, 46, 95], [20, 246, 142, 46, 95], [20, 246, 142, 46, 95], [20, 246, 142, 46, 95], [20, 246, 142, 46, 95], [20, 140, 199, 423, 632], [20, 140, 199, 423, 632], [20, 140, 199, 423, 632], [20, 140, 199, 423, 632], [20, 140, 199, 423, 632], [20, 18, 7, 633, 42], [20, 18, 7, 633, 42], [20, 18, 7, 633, 42], [20, 18, 7, 633, 42], [20, 18, 7, 633, 42], [20, 1062, 201], [20, 1062, 201], [20, 1062, 201], [512, 1417], [512, 1417], [1063, 1064, 1065], [1063, 1064, 1065], [1063, 1064, 1065], [158, 634, 229, 82, 635], [158, 634, 229, 82, 635], [158, 634, 229, 82, 635], [158, 634, 229, 82, 635], [158, 634, 229, 82, 635], [158, 264, 287, 18, 32], [158, 264, 287, 18, 32], [158, 264, 287, 18, 32], [158, 264, 287, 18, 32], [158, 264, 287, 18, 32], [158, 636, 513, 356, 637], [158, 636, 513, 356, 637], [158, 636, 513, 356, 637], [158, 636, 513, 356, 637], [158, 636, 513, 356, 637], [410, 144], [410, 144], [304, 357, 148], [304, 357, 148], [304, 357, 148], [304, 47, 358, 110, 514, 515], [304, 47, 358, 110, 514, 515], [304, 47, 358, 110, 514, 515], [304, 47, 358, 110, 514, 515], [304, 47, 358, 110, 514, 515], [304, 47, 358, 110, 514, 515], [1066, 262, 73], [1066, 262, 73], [1066, 262, 73], [5, 347, 106, 786], [5, 347, 106, 786], [5, 347, 106, 786], [5, 347, 106, 786], [787, 788, 35, 789], [787, 788, 35, 789], [787, 788, 35, 789], [787, 788, 35, 789], [28, 1418], [28, 1418], [1067, 263, 1068], [1067, 263, 1068], [1067, 263, 1068], [95, 79, 62], [95, 79, 62], [95, 79, 62], [1069, 254, 1070], [1069, 254, 1070], [1069, 254, 1070], [5, 59], [5, 59], [5, 1419], [5, 1419], [5, 1071, 1072], [5, 1071, 1072], [5, 1071, 1072], [5, 1073, 377], [5, 1073, 377], [5, 1073, 377], [5, 222, 4, 638, 16], [5, 222, 4, 638, 16], [5, 222, 4, 638, 16], [5, 222, 4, 638, 16], [5, 222, 4, 638, 16], [5, 1074, 168], [5, 1074, 168], [5, 1074, 168], [5, 615, 341], [5, 615, 341], [5, 615, 341], [5, 434, 790, 402], [5, 434, 790, 402], [5, 434, 790, 402], [5, 434, 790, 402], [375, 639, 640, 38, 641], [375, 639, 640, 38, 641], [375, 639, 640, 38, 641], [375, 639, 640, 38, 641], [375, 639, 640, 38, 641], [67, 506], [67, 506], [73, 1, 357, 66, 642], [73, 1, 357, 66, 642], [73, 1, 357, 66, 642], [73, 1, 357, 66, 642], [73, 1, 357, 66, 642], [609, 1075, 359], [609, 1075, 359], [609, 1075, 359], [356, 643, 81], [356, 643, 81], [356, 643, 81], [229, 118, 1076], [229, 118, 1076], [229, 118, 1076], [1077, 106, 1078], [1077, 106, 1078], [1077, 106, 1078], [791, 792, 92, 490], [791, 792, 92, 490], [791, 792, 92, 490], [791, 792, 92, 490], [19, 1079, 364], [19, 1079, 364], [19, 1079, 364], [1420, 96], [1420, 96], [421, 793], [421, 793], [31, 581], [31, 581], [122, 1421], [122, 1421], [794, 165, 174, 18], [794, 165, 174, 18], [794, 165, 174, 18], [794, 165, 174, 18], [29, 203, 173, 106, 6], [29, 203, 173, 106, 6], [29, 203, 173, 106, 6], [29, 203, 173, 106, 6], [29, 203, 173, 106, 6], [1080, 1081, 644], [1080, 1081, 644], [1080, 1081, 644], [296, 435, 3, 436, 125, 319, 437], [296, 435, 3, 436, 125, 319, 437], [296, 435, 3, 436, 125, 319, 437], [296, 435, 3, 436, 125, 319, 437], [296, 435, 3, 436, 125, 319, 437], [296, 435, 3, 436, 125, 319, 437], [296, 435, 3, 436, 125, 319, 437], [1422, 745], [1422, 745], [175, 30, 3, 32], [175, 30, 3, 32], [175, 30, 3, 32], [175, 30, 3, 32], [25, 3, 154], [25, 3, 154], [25, 3, 154], [38, 62, 181, 50, 384], [38, 62, 181, 50, 384], [38, 62, 181, 50, 384], [38, 62, 181, 50, 384], [38, 62, 181, 50, 384], [38, 1423], [38, 1423], [795, 457, 516, 796], [795, 457, 516, 796], [795, 457, 516, 796], [795, 457, 516, 796], [210, 30], [210, 30], [360, 1424], [360, 1424], [92, 387], [92, 387], [128, 80, 614], [128, 80, 614], [128, 80, 614], [128, 1425], [128, 1425], [128, 19, 419], [128, 19, 419], [128, 19, 419], [27, 30, 797, 798], [27, 30, 797, 798], [27, 30, 797, 798], [27, 30, 797, 798], [60, 131, 232, 171], [60, 131, 232, 171], [60, 131, 232, 171], [60, 131, 232, 171], [60, 1, 136, 207], [60, 1, 136, 207], [60, 1, 136, 207], [60, 1, 136, 207], [60, 1, 602], [60, 1, 602], [60, 1, 602], [60, 1, 465, 799], [60, 1, 465, 799], [60, 1, 465, 799], [60, 1, 465, 799], [60, 95, 360, 800], [60, 95, 360, 800], [60, 95, 360, 800], [60, 95, 360, 800], [60, 35, 801, 9], [60, 35, 801, 9], [60, 35, 801, 9], [60, 35, 801, 9], [802, 262, 113, 803], [802, 262, 113, 803], [802, 262, 113, 803], [802, 262, 113, 803], [804, 40, 94, 72], [804, 40, 94, 72], [804, 40, 94, 72], [804, 40, 94, 72], [593, 227], [593, 227], [429, 267, 1082], [429, 267, 1082], [429, 267, 1082], [805, 408, 47, 334], [805, 408, 47, 334], [805, 408, 47, 334], [805, 408, 47, 334], [35, 345, 63, 426], [35, 345, 63, 426], [35, 345, 63, 426], [35, 345, 63, 426], [35, 278], [35, 278], [35, 37], [35, 37], [35, 1426], [35, 1426], [35, 63, 10], [35, 63, 10], [35, 63, 10], [35, 1083, 291], [35, 1083, 291], [35, 1083, 291], [1427, 156], [1427, 156], [404, 30, 806, 388], [404, 30, 806, 388], [404, 30, 806, 388], [404, 30, 806, 388], [1084, 353, 354], [1084, 353, 354], [1084, 353, 354], [134, 807, 92, 300], [134, 807, 92, 300], [134, 807, 92, 300], [134, 807, 92, 300], [71, 189, 645, 10, 177], [71, 189, 645, 10, 177], [71, 189, 645, 10, 177], [71, 189, 645, 10, 177], [71, 189, 645, 10, 177], [71, 63], [71, 63], [808, 125, 809, 417], [808, 125, 809, 417], [808, 125, 809, 417], [808, 125, 809, 417], [810, 48, 172, 315], [810, 48, 172, 315], [810, 48, 172, 315], [810, 48, 172, 315], [1085, 75, 646], [1085, 75, 646], [1085, 75, 646], [267, 215, 46, 87], [267, 215, 46, 87], [267, 215, 46, 87], [267, 215, 46, 87], [267, 16, 1086], [267, 16, 1086], [267, 16, 1086], [438, 138, 78, 811], [438, 138, 78, 811], [438, 138, 78, 811], [438, 138, 78, 811], [438, 353, 354], [438, 353, 354], [438, 353, 354], [226, 24, 1087], [226, 24, 1087], [226, 24, 1087], [1088, 24, 1089], [1088, 24, 1089], [1088, 24, 1089], [195, 439], [195, 439], [1428, 27], [1428, 27], [1429, 516], [1429, 516], [440, 118, 812, 60], [440, 118, 812, 60], [440, 118, 812, 60], [440, 118, 812, 60], [266, 1090, 126], [266, 1090, 126], [266, 1090, 126], [266, 32], [266, 32], [124, 126], [124, 126], [7, 57, 813, 221], [7, 57, 813, 221], [7, 57, 813, 221], [7, 57, 813, 221], [7, 814, 294, 497], [7, 814, 294, 497], [7, 814, 294, 497], [7, 814, 294, 497], [7, 647, 648, 51, 53], [7, 647, 648, 51, 53], [7, 647, 648, 51, 53], [7, 647, 648, 51, 53], [7, 647, 648, 51, 53], [7, 1091, 64], [7, 1091, 64], [7, 1091, 64], [7, 157, 8], [7, 157, 8], [7, 157, 8], [7, 230, 349], [7, 230, 349], [7, 230, 349], [7, 49, 649], [7, 49, 649], [7, 49, 649], [7, 165], [7, 165], [7, 73, 110, 6], [7, 73, 110, 6], [7, 73, 110, 6], [7, 73, 110, 6], [7, 297, 815, 328], [7, 297, 815, 328], [7, 297, 815, 328], [7, 297, 815, 328], [7, 1430], [7, 1430], [816, 445, 244, 817], [816, 445, 244, 817], [816, 445, 244, 817], [816, 445, 244, 817], [1431, 466], [1431, 466], [155, 9, 3, 155, 223], [155, 9, 3, 155, 223], [155, 9, 3, 155, 223], [155, 9, 3, 155, 223], [155, 9, 3, 155, 223], [818, 819, 820, 249], [818, 819, 820, 249], [818, 819, 820, 249], [818, 819, 820, 249], [1432, 1433], [1432, 1433], [462, 821, 153, 822], [462, 821, 153, 822], [462, 821, 153, 822], [462, 821, 153, 822], [1565], [1092, 273, 44], [1092, 273, 44], [1092, 273, 44], [441, 124, 126], [441, 124, 126], [441, 124, 126], [441, 517, 823, 44], [441, 517, 823, 44], [441, 517, 823, 44], [441, 517, 823, 44], [40, 824, 21, 825], [40, 824, 21, 825], [40, 824, 21, 825], [40, 824, 21, 825], [140, 486], [140, 486], [1434, 1435], [1434, 1435], [183, 42, 104], [183, 42, 104], [183, 42, 104], [232, 108, 1093], [232, 108, 1093], [232, 108, 1093], [826, 80, 133, 1], [826, 80, 133, 1], [826, 80, 133, 1], [826, 80, 133, 1], [161, 380], [161, 380], [1094, 1095, 95], [1094, 1095, 95], [1094, 1095, 95], [1096, 3, 218], [1096, 3, 218], [1096, 3, 218], [518, 519, 39, 144, 322, 520], [518, 519, 39, 144, 322, 520], [518, 519, 39, 144, 322, 520], [518, 519, 39, 144, 322, 520], [518, 519, 39, 144, 322, 520], [518, 519, 39, 144, 322, 520], [442, 61, 344], [442, 61, 344], [442, 61, 344], [442, 1, 12, 827], [442, 1, 12, 827], [442, 1, 12, 827], [442, 1, 12, 827], [142, 47, 188], [142, 47, 188], [142, 47, 188], [828, 1436], [828, 1436], [166, 27], [166, 27], [1097, 359, 37], [1097, 359, 37], [1097, 359, 37], [1098, 144, 1099], [1098, 144, 1099], [1098, 144, 1099], [1437, 1438], [1437, 1438], [829, 110, 830, 443], [829, 110, 830, 443], [829, 110, 830, 443], [829, 110, 830, 443], [114, 1100, 202], [114, 1100, 202], [114, 1100, 202], [143, 94, 264], [143, 94, 264], [143, 94, 264], [265, 143, 1101], [265, 143, 1101], [265, 143, 1101], [164, 46, 211], [164, 46, 211], [164, 46, 211], [164, 650, 427, 307, 439], [164, 650, 427, 307, 439], [164, 650, 427, 307, 439], [164, 650, 427, 307, 439], [164, 650, 427, 307, 439], [91, 380], [91, 380], [1102, 1, 1103], [1102, 1, 1103], [1102, 1, 1103], [1104, 500, 273], [1104, 500, 273], [1104, 500, 273], [582, 1439], [582, 1439], [30, 1440], [30, 1440], [30, 491, 263, 14], [30, 491, 263, 14], [30, 491, 263, 14], [30, 491, 263, 14], [30, 831, 305, 832], [30, 831, 305, 832], [30, 831, 305, 832], [30, 831, 305, 832], [30, 305, 651], [30, 305, 651], [30, 305, 651], [30, 413, 241, 833], [30, 413, 241, 833], [30, 413, 241, 833], [30, 413, 241, 833], [276, 178, 620], [276, 178, 620], [276, 178, 620], [1105, 3, 1106], [1105, 3, 1106], [1105, 3, 1106], [652, 144, 233, 178, 343], [652, 144, 233, 178, 343], [652, 144, 233, 178, 343], [652, 144, 233, 178, 343], [652, 144, 233, 178, 343], [260, 29, 625], [260, 29, 625], [260, 29, 625], [260, 325, 9], [260, 325, 9], [260, 325, 9], [41, 1441], [41, 1441], [129, 202], [129, 202], [653, 654, 147, 655, 18], [653, 654, 147, 655, 18], [653, 654, 147, 655, 18], [653, 654, 147, 655, 18], [653, 654, 147, 655, 18], [1442, 9], [1442, 9], [1443, 1444], [1443, 1444], [513], [96, 521], [96, 521], [205, 6], [205, 6], [1107, 87, 6], [1107, 87, 6], [1107, 87, 6], [847, 1445], [847, 1445], [1446, 9], [1446, 9], [1447, 17], [1447, 17], [212, 1108, 529], [212, 1108, 529], [212, 1108, 529], [42, 46], [42, 46], [42, 555, 18], [42, 555, 18], [42, 555, 18], [1566], [646, 189], [646, 189], [97, 54, 15], [97, 54, 15], [97, 54, 15], [97, 430, 1109], [97, 430, 1109], [97, 430, 1109], [97, 1110, 1111], [97, 1110, 1111], [97, 1110, 1111], [1448, 828], [1448, 828], [1449, 4], [1449, 4], [1450, 1451], [1450, 1451], [1452, 746], [1452, 746], [651, 1453], [651, 1453], [1454, 596], [1454, 596], [243, 18, 834, 212], [243, 18, 834, 212], [243, 18, 834, 212], [243, 18, 834, 212], [1455, 1456], [1455, 1456], [127, 13], [127, 13], [98, 34], [98, 34], [98, 105, 1112], [98, 105, 1112], [98, 105, 1112], [1457, 143], [1457, 143], [102, 42, 47], [102, 42, 47], [102, 42, 47], [15, 592], [15, 592], [87, 10], [87, 10], [181, 17], [181, 17], [1458, 162], [1458, 162], [197, 889], [197, 889], [1459, 26], [1459, 26], [149, 183], [149, 183], [74, 43, 3], [74, 43, 3], [74, 43, 3], [70, 33], [70, 33], [1460, 18], [1460, 18], [1113, 1114, 170], [1113, 1114, 170], [1113, 1114, 170], [606, 77], [606, 77], [333, 4, 32], [333, 4, 32], [333, 4, 32], [1461, 378], [1461, 378], [61, 414], [61, 414], [61, 1462], [61, 1462], [61, 271], [61, 271], [61, 503], [61, 503], [1463, 240], [1463, 240], [54, 355], [54, 355], [9, 43, 56], [9, 43, 56], [9, 43, 56], [11], [11, 1115, 509], [11, 1115, 509], [11, 1115, 509], [11, 355, 41], [11, 355, 41], [11, 355, 41], [11, 78], [11, 78], [11, 656], [11, 656], [1464, 447], [1464, 447], [1465, 12], [1465, 12], [1466, 221], [1466, 221], [1116, 30, 92], [1116, 30, 92], [1116, 30, 92], [623, 359], [623, 359], [1567], [131, 1467], [131, 1467], [1468, 331], [1468, 331], [644, 657], [644, 657], [1117, 4, 6], [1117, 4, 6], [1117, 4, 6], [348, 33, 24], [348, 33, 24], [348, 33, 24], [1118, 27, 84], [1118, 27, 84], [1118, 27, 84], [666, 159], [666, 159], [537, 247], [537, 247], [177, 793], [177, 793], [337, 6], [337, 6], [835], [1469, 1470], [1469, 1470], [1568], [1471, 1472], [1471, 1472], [1473, 1474], [1473, 1474], [53, 1475], [53, 1475], [10, 171], [10, 171], [1476, 37], [1476, 37], [1477, 1478], [1477, 1478], [72, 4, 58], [72, 4, 58], [72, 4, 58], [270, 1119, 658], [270, 1119, 658], [270, 1119, 658], [739, 231], [739, 231], [1479, 1480], [1479, 1480], [49], [49, 548, 1120], [49, 548, 1120], [49, 548, 1120], [94, 409], [94, 409], [1481, 27], [1481, 27], [443], [1121, 1122, 835], [1121, 1122, 835], [1121, 1122, 835], [1, 204, 56], [1, 204, 56], [1, 204, 56], [62, 656, 80], [62, 656, 80], [62, 656, 80], [1569], [410, 202], [410, 202], [1570], [643, 10], [643, 10], [470, 83, 74], [470, 83, 74], [470, 83, 74], [101, 1123, 1124], [101, 1123, 1124], [101, 1123, 1124], [101, 619, 1125], [101, 619, 1125], [101, 619, 1125], [17, 129], [17, 129], [1482, 613], [1482, 613], [28], [28, 26], [28, 26], [1571], [8, 1483], [8, 1483], [674, 599], [674, 599], [1572], [538, 1126, 32], [538, 1126, 32], [538, 1126, 32], [1573], [5, 1484], [5, 1484], [5, 265], [5, 265], [5, 1485], [5, 1485], [50], [50, 49, 24], [50, 49, 24], [50, 49, 24], [1127, 97, 73], [1127, 97, 73], [1127, 97, 73], [58, 148], [58, 148], [58, 658], [58, 658], [610], [610, 10], [610, 10], [522, 523, 524, 329, 24, 54], [522, 523, 524, 329, 24, 54], [522, 523, 524, 329, 24, 54], [522, 523, 524, 329, 24, 54], [522, 523, 524, 329, 24, 54], [522, 523, 524, 329, 24, 54], [1486, 70], [1486, 70], [104, 302], [104, 302], [193, 1487], [193, 1487], [146, 8, 22, 104], [146, 8, 22, 104], [146, 8, 22, 104], [146, 8, 22, 104], [1488, 235], [1488, 235], [1574], [836, 154, 27, 6], [836, 154, 27, 6], [836, 154, 27, 6], [836, 154, 27, 6], [755, 70], [755, 70], [19, 1128, 1129], [19, 1128, 1129], [19, 1128, 1129], [19, 837, 130, 242], [19, 837, 130, 242], [19, 837, 130, 242], [19, 837, 130, 242], [19, 330, 53], [19, 330, 53], [19, 330, 53], [293, 285, 8], [293, 285, 8], [293, 285, 8], [56, 6, 1130], [56, 6, 1130], [56, 6, 1130], [120, 83], [120, 83], [120, 659], [120, 659], [120, 659, 420], [120, 659, 420], [120, 659, 420], [1489, 521], [1489, 521], [99, 256, 335], [99, 256, 335], [99, 256, 335], [147, 1490], [147, 1490], [147, 1491], [147, 1491], [147, 603], [147, 603], [1492, 1493], [1492, 1493], [31, 145, 4], [31, 145, 4], [31, 145, 4], [31, 190], [31, 190], [31, 91, 66], [31, 91, 66], [31, 91, 66], [122, 443], [122, 443], [122, 146], [122, 146], [1494, 46], [1494, 46], [13, 116, 300], [13, 116, 300], [13, 116, 300], [13, 521], [13, 521], [13, 190], [13, 190], [13, 1495], [13, 1495], [100, 183], [100, 183], [38, 1496], [38, 1496], [579, 56, 530], [579, 56, 530], [579, 56, 530], [622, 1497], [622, 1497], [313, 7], [313, 7], [90, 127], [90, 127], [90, 81], [90, 81], [1498, 14], [1498, 14], [173, 42], [173, 42], [1028], [1499, 270], [1499, 270], [200, 512, 45, 249], [200, 512, 45, 249], [200, 512, 45, 249], [200, 512, 45, 249], [547, 657, 21], [547, 657, 21], [547, 657, 21], [360, 12], [360, 12], [115, 1500], [115, 1500], [92, 145], [92, 145], [92, 838, 839, 84], [92, 838, 839, 84], [92, 838, 839, 84], [92, 838, 839, 84], [1575], [278, 1131, 1132], [278, 1131, 1132], [278, 1131, 1132], [1501, 50], [1501, 50], [649, 608], [649, 608], [1502, 466], [1502, 466], [43, 8], [43, 8], [1503, 69], [1503, 69], [1504, 33], [1504, 33], [182, 8], [182, 8], [182, 432, 18], [182, 432, 18], [182, 432, 18], [182, 5, 434], [182, 5, 434], [182, 5, 434], [169, 58, 669], [169, 58, 669], [169, 58, 669], [169, 251], [169, 251], [1576], [297, 10], [297, 10], [1505, 840], [1505, 840], [1577], [1578], [52, 385, 7], [52, 385, 7], [52, 385, 7], [1133, 1134, 151], [1133, 1134, 151], [1133, 1134, 151], [431, 525, 28, 428], [431, 525, 28, 428], [431, 525, 28, 428], [431, 525, 28, 428], [1506, 1507], [1506, 1507], [302], [850], [611, 517], [611, 517], [305, 732], [305, 732], [35, 198], [35, 198], [93, 270], [93, 270], [1135, 7, 33], [1135, 7, 33], [1135, 7, 33], [103, 526], [103, 526], [245, 1508], [245, 1508], [358, 1509], [358, 1509], [1136, 394, 231], [1136, 394, 231], [1136, 394, 231], [561, 167], [561, 167], [1510, 617], [1510, 617], [1579], [1511, 139], [1511, 139], [1580], [274, 27], [274, 27], [346, 320], [346, 320], [1137, 130, 496], [1137, 130, 496], [1137, 130, 496], [459, 89], [459, 89], [440, 254, 1138], [440, 254, 1138], [440, 254, 1138], [187, 29, 4, 6], [187, 29, 4, 6], [187, 29, 4, 6], [187, 29, 4, 6], [194, 283, 605], [194, 283, 605], [194, 283, 605], [1512, 526], [1512, 526], [1513, 70], [1513, 70], [409, 44], [409, 44], [7, 204, 56], [7, 204, 56], [7, 204, 56], [335], [1514, 45], [1514, 45], [12, 1515], [12, 1515], [12, 38, 72, 152], [12, 38, 72, 152], [12, 38, 72, 152], [12, 38, 72, 152], [1139, 170, 127], [1139, 170, 127], [1139, 170, 127], [1516, 28], [1516, 28], [261, 506], [261, 506], [40, 618], [40, 618], [40, 206], [40, 206], [40, 323, 379, 841], [40, 323, 379, 841], [40, 323, 379, 841], [40, 323, 379, 841], [140, 10], [140, 10], [1581], [1140, 206, 6], [1140, 206, 6], [1140, 206, 6], [433, 56], [433, 56], [1517, 46], [1517, 46], [1518, 10], [1518, 10], [81, 24, 17], [81, 24, 17], [81, 24, 17], [161], [1519, 8], [1519, 8], [1520, 17], [1520, 17], [1521, 414], [1521, 414], [1522, 1523], [1522, 1523], [105, 526], [105, 526], [525, 736], [525, 736], [415, 3, 184, 67, 162], [415, 3, 184, 67, 162], [415, 3, 184, 67, 162], [415, 3, 184, 67, 162], [415, 3, 184, 67, 162], [16, 621, 36], [16, 621, 36], [16, 621, 36], [299, 840], [299, 840], [505, 42], [505, 42], [1141, 1142, 1143], [1141, 1142, 1143], [1141, 1142, 1143], [1524, 1525], [1524, 1525], [1582], [152, 1144, 51], [152, 1144, 51], [152, 1144, 51], [152, 1526], [152, 1526], [1527, 12], [1527, 12], [164, 38], [164, 38], [1528, 44], [1528, 44], [1529, 41], [1529, 41], [842, 274, 67, 115], [842, 274, 67, 115], [842, 274, 67, 115], [842, 274, 67, 115], [1145, 1146, 1147], [1145, 1146, 1147], [1145, 1146, 1147], [374, 91], [374, 91], [260, 503], [260, 503], [280, 28], [280, 28], [1530, 1531], [1530, 1531], [250, 200, 101], [250, 200, 101], [250, 200, 101], [250, 1532], [250, 1532], [451, 41, 280], [451, 41, 280], [451, 41, 280]]\n",
            "Y encoded:[[2, 6, 1, 2], [2, 6, 1, 2], [2, 6, 1, 2], [2, 6, 1, 2], [1, 2, 3, 1, 4], [1, 2, 3, 1, 4], [1, 2, 3, 1, 4], [1, 2, 3, 1, 4], [1, 2, 3, 1, 4], [1, 4], [1, 4], [1, 2], [1, 2], [3, 2, 6, 2], [3, 2, 6, 2], [3, 2, 6, 2], [3, 2, 6, 2], [1, 1, 2], [1, 1, 2], [1, 1, 2], [1, 1, 2], [1, 1, 2], [1, 1, 2], [8, 4], [8, 4], [1, 1, 4], [1, 1, 4], [1, 1, 4], [2], [2], [1, 4], [1, 4], [2, 6, 1, 1, 1, 2], [2, 6, 1, 1, 1, 2], [2, 6, 1, 1, 1, 2], [2, 6, 1, 1, 1, 2], [2, 6, 1, 1, 1, 2], [2, 6, 1, 1, 1, 2], [5, 3, 3], [5, 3, 3], [5, 3, 3], [5, 2], [5, 2], [1, 4], [1, 4], [4], [1, 1, 2], [1, 1, 2], [1, 1, 2], [1, 2], [1, 2], [1, 2], [1, 2], [2], [1, 1, 2], [1, 1, 2], [1, 1, 2], [4], [2], [1, 2], [1, 2], [4, 1], [4, 1], [1, 1, 1, 2], [1, 1, 1, 2], [1, 1, 1, 2], [1, 1, 1, 2], [1, 2], [1, 2], [1, 2], [1, 2], [1, 2], [1, 2], [1, 1, 2], [1, 1, 2], [1, 1, 2], [1, 4], [1, 4], [1, 4], [1, 4], [2], [1, 2], [1, 2], [4], [1, 1, 2], [1, 1, 2], [1, 1, 2], [1, 2], [1, 2], [1, 2, 1, 1, 1, 1, 2], [1, 2, 1, 1, 1, 1, 2], [1, 2, 1, 1, 1, 1, 2], [1, 2, 1, 1, 1, 1, 2], [1, 2, 1, 1, 1, 1, 2], [1, 2, 1, 1, 1, 1, 2], [1, 2, 1, 1, 1, 1, 2], [1, 2], [1, 2], [1, 2], [1, 2], [1, 2], [1, 2], [2], [4], [1, 2], [1, 2], [1, 2], [1, 2], [1, 1, 2], [1, 1, 2], [1, 1, 2], [1, 2], [1, 2], [1, 2], [1, 2], [1, 2], [1, 2], [1, 4], [1, 4], [1, 1, 2], [1, 1, 2], [1, 1, 2], [1, 2, 3], [1, 2, 3], [1, 2, 3], [1, 2], [1, 2], [1, 2, 6, 2], [1, 2, 6, 2], [1, 2, 6, 2], [1, 2, 6, 2], [3, 4], [3, 4], [2], [1, 1, 1, 2], [1, 1, 1, 2], [1, 1, 1, 2], [1, 1, 1, 2], [1, 2], [1, 2], [5, 5, 1, 1, 2], [5, 5, 1, 1, 2], [5, 5, 1, 1, 2], [5, 5, 1, 1, 2], [5, 5, 1, 1, 2], [5, 3, 1, 1, 2], [5, 3, 1, 1, 2], [5, 3, 1, 1, 2], [5, 3, 1, 1, 2], [5, 3, 1, 1, 2], [5, 5, 1, 2], [5, 5, 1, 2], [5, 5, 1, 2], [5, 5, 1, 2], [1, 2], [1, 2], [1, 2], [1, 2], [1, 4], [1, 4], [1, 1, 4], [1, 1, 4], [1, 1, 4], [1, 4], [1, 4], [3, 4], [3, 4], [5, 1, 2], [5, 1, 2], [5, 1, 2], [5, 2], [5, 2], [1, 2], [1, 2], [2], [1, 1, 2], [1, 1, 2], [1, 1, 2], [1, 4], [1, 4], [1, 2], [1, 2], [2], [1, 1, 2], [1, 1, 2], [1, 1, 2], [1, 2], [1, 2], [1, 2], [1, 2], [1, 2], [1, 2], [1, 1, 2], [1, 1, 2], [1, 1, 2], [5, 1, 2], [5, 1, 2], [5, 1, 2], [5, 1, 2], [5, 1, 2], [5, 1, 2], [5, 3, 1, 2], [5, 3, 1, 2], [5, 3, 1, 2], [5, 3, 1, 2], [1, 4], [1, 4], [2, 1], [2, 1], [1, 4], [1, 4], [1, 2], [1, 2], [1, 2], [1, 2], [1, 1, 2], [1, 1, 2], [1, 1, 2], [1, 2], [1, 2], [1, 1, 2], [1, 1, 2], [1, 1, 2], [1, 2, 1], [1, 2, 1], [1, 2, 1], [6, 2, 1, 1, 2], [6, 2, 1, 1, 2], [6, 2, 1, 1, 2], [6, 2, 1, 1, 2], [6, 2, 1, 1, 2], [1, 4], [1, 4], [1, 2, 6, 2], [1, 2, 6, 2], [1, 2, 6, 2], [1, 2, 6, 2], [2, 6, 1, 2], [2, 6, 1, 2], [2, 6, 1, 2], [2, 6, 1, 2], [1, 1, 2], [1, 1, 2], [1, 1, 2], [1, 2], [1, 2], [1, 2], [1, 2], [1], [1, 2], [1, 2], [1, 1, 2], [1, 1, 2], [1, 1, 2], [3, 2], [3, 2], [3, 1, 2], [3, 1, 2], [3, 1, 2], [3, 1, 2], [3, 1, 2], [3, 1, 2], [3, 1, 2], [3, 1, 2], [3, 1, 2], [3, 1, 2], [3, 1, 2], [3, 1, 2], [3, 2], [3, 2], [3, 2, 1], [3, 2, 1], [3, 2, 1], [3, 2], [3, 2], [1, 1, 4], [1, 1, 4], [1, 1, 4], [1, 2], [1, 2], [1, 2], [1, 2], [2, 6, 1, 4], [2, 6, 1, 4], [2, 6, 1, 4], [2, 6, 1, 4], [1, 1, 2], [1, 1, 2], [1, 1, 2], [1, 2], [1, 2], [1, 1, 1, 2], [1, 1, 1, 2], [1, 1, 1, 2], [1, 1, 1, 2], [1, 2], [1, 2], [4], [5, 2], [5, 2], [5, 1, 2, 7], [5, 1, 2, 7], [5, 1, 2, 7], [5, 1, 2, 7], [5, 1, 4], [5, 1, 4], [5, 1, 4], [5, 3, 6, 2], [5, 3, 6, 2], [5, 3, 6, 2], [5, 3, 6, 2], [5, 1, 2], [5, 1, 2], [5, 1, 2], [5, 1, 1, 2], [5, 1, 1, 2], [5, 1, 1, 2], [5, 1, 1, 2], [5, 1, 4], [5, 1, 4], [5, 1, 4], [5, 3, 1, 2], [5, 3, 1, 2], [5, 3, 1, 2], [5, 3, 1, 2], [5, 3, 2, 1], [5, 3, 2, 1], [5, 3, 2, 1], [5, 3, 2, 1], [5, 1, 1, 2], [5, 1, 1, 2], [5, 1, 1, 2], [5, 1, 1, 2], [5, 1, 1, 2], [5, 1, 1, 2], [5, 1, 1, 2], [5, 1, 1, 2], [5, 1, 1, 1, 2], [5, 1, 1, 1, 2], [5, 1, 1, 1, 2], [5, 1, 1, 1, 2], [5, 1, 1, 1, 2], [5, 1, 2], [5, 1, 2], [5, 1, 2], [5, 1, 2], [5, 1, 2], [5, 1, 2], [5, 2, 1], [5, 2, 1], [5, 2, 1], [5, 2], [5, 2], [5, 1, 1, 1, 1, 4], [5, 1, 1, 1, 1, 4], [5, 1, 1, 1, 1, 4], [5, 1, 1, 1, 1, 4], [5, 1, 1, 1, 1, 4], [5, 1, 1, 1, 1, 4], [5, 4], [5, 4], [5, 2], [5, 2], [5, 1, 1, 2], [5, 1, 1, 2], [5, 1, 1, 2], [5, 1, 1, 2], [5, 1, 1, 2], [5, 1, 1, 2], [5, 1, 1, 2], [5, 1, 1, 2], [5, 1, 1, 1, 2], [5, 1, 1, 1, 2], [5, 1, 1, 1, 2], [5, 1, 1, 1, 2], [5, 1, 1, 1, 2], [5, 1, 4], [5, 1, 4], [5, 1, 4], [5, 1, 1, 4], [5, 1, 1, 4], [5, 1, 1, 4], [5, 1, 1, 4], [5, 1, 1, 1, 2], [5, 1, 1, 1, 2], [5, 1, 1, 1, 2], [5, 1, 1, 1, 2], [5, 1, 1, 1, 2], [5, 2], [5, 2], [5, 1, 2], [5, 1, 2], [5, 1, 2], [5, 2], [5, 2], [5, 1, 2], [5, 1, 2], [5, 1, 2], [1, 1, 2], [1, 1, 2], [1, 1, 2], [1, 2], [1, 2], [1, 1, 2], [1, 1, 2], [1, 1, 2], [1, 2, 1], [1, 2, 1], [1, 2, 1], [1, 2], [1, 2], [1, 1, 1, 2], [1, 1, 1, 2], [1, 1, 1, 2], [1, 1, 1, 2], [1, 1, 2], [1, 1, 2], [1, 1, 2], [1, 2], [1, 2], [1, 2], [1, 2], [8], [1, 1, 2], [1, 1, 2], [1, 1, 2], [2], [1, 4], [1, 4], [1, 2], [1, 2], [1, 2], [1, 2], [2, 1], [2, 1], [1, 4], [1, 4], [1, 2], [1, 2], [1, 1, 1, 2], [1, 1, 1, 2], [1, 1, 1, 2], [1, 1, 1, 2], [1, 2], [1, 2], [1, 1, 4], [1, 1, 4], [1, 1, 4], [1, 1, 4], [1, 1, 4], [1, 1, 4], [1, 1, 4], [1, 1, 4], [1, 1, 4], [1, 4], [1, 4], [1, 4], [1, 4], [1, 2], [1, 2], [1, 4], [1, 4], [1, 1, 1, 2], [1, 1, 1, 2], [1, 1, 1, 2], [1, 1, 1, 2], [1, 1, 4], [1, 1, 4], [1, 1, 4], [1, 2], [1, 2], [1, 1, 2], [1, 1, 2], [1, 1, 2], [6, 1, 1, 1, 2], [6, 1, 1, 1, 2], [6, 1, 1, 1, 2], [6, 1, 1, 1, 2], [6, 1, 1, 1, 2], [1, 1, 2], [1, 1, 2], [1, 1, 2], [1, 1, 2], [1, 1, 2], [1, 1, 2], [1, 1, 4], [1, 1, 4], [1, 1, 4], [1, 1, 1, 4], [1, 1, 1, 4], [1, 1, 1, 4], [1, 1, 1, 4], [1, 1, 2], [1, 1, 2], [1, 1, 2], [1, 2], [1, 2], [2], [1, 4], [1, 4], [2], [1, 2], [1, 2], [1, 2], [1, 2], [1, 2], [1, 2], [1, 2], [1, 2], [3, 4, 9, 6], [3, 4, 9, 6], [3, 4, 9, 6], [3, 4, 9, 6], [1, 2], [1, 2], [1, 2], [1, 2], [1, 4], [1, 4], [1, 2], [1, 2], [1, 4], [1, 4], [1, 1, 1, 2], [1, 1, 1, 2], [1, 1, 1, 2], [1, 1, 1, 2], [1, 1, 1, 4], [1, 1, 1, 4], [1, 1, 1, 4], [1, 1, 1, 4], [1, 2, 6, 4], [1, 2, 6, 4], [1, 2, 6, 4], [1, 2, 6, 4], [1, 1, 2], [1, 1, 2], [1, 1, 2], [1, 2], [1, 2], [4], [1, 2], [1, 2], [3, 2], [3, 2], [1, 2], [1, 2], [1, 2], [1, 2], [1, 2], [1, 2], [1, 4], [1, 4], [1, 1, 1, 2], [1, 1, 1, 2], [1, 1, 1, 2], [1, 1, 1, 2], [1, 2], [1, 2], [1, 1, 2], [1, 1, 2], [1, 1, 2], [4], [1, 1, 1, 4], [1, 1, 1, 4], [1, 1, 1, 4], [1, 1, 1, 4], [1, 2], [1, 2], [1, 1, 2], [1, 1, 2], [1, 1, 2], [1, 2], [1, 2], [1, 1, 2], [1, 1, 2], [1, 1, 2], [1, 4], [1, 4], [3, 4], [3, 4], [1, 4], [1, 4], [1, 1, 1, 2], [1, 1, 1, 2], [1, 1, 1, 2], [1, 1, 1, 2], [1, 1, 2], [1, 1, 2], [1, 1, 2], [4], [1, 2], [1, 2], [2], [2, 6, 1, 1, 2], [2, 6, 1, 1, 2], [2, 6, 1, 1, 2], [2, 6, 1, 1, 2], [2, 6, 1, 1, 2], [2], [1, 2], [1, 2], [1, 2], [1, 2], [1, 1, 4], [1, 1, 4], [1, 1, 4], [1, 1, 1, 1, 4], [1, 1, 1, 1, 4], [1, 1, 1, 1, 4], [1, 1, 1, 1, 4], [1, 1, 1, 1, 4], [1, 1, 1, 1, 2], [1, 1, 1, 1, 2], [1, 1, 1, 1, 2], [1, 1, 1, 1, 2], [1, 1, 1, 1, 2], [2], [1, 2], [1, 2], [1, 4], [1, 4], [1, 2], [1, 2], [1, 2], [1, 2], [1, 1, 1, 2], [1, 1, 1, 2], [1, 1, 1, 2], [1, 1, 1, 2], [1, 2], [1, 2], [1, 1, 2], [1, 1, 2], [1, 1, 2], [2, 1, 1], [2, 1, 1], [2, 1, 1], [1, 2], [1, 2], [1, 1, 2], [1, 1, 2], [1, 1, 2], [1], [3, 1, 2], [3, 1, 2], [3, 1, 2], [1, 2, 7], [1, 2, 7], [1, 2, 7], [2], [2, 7], [2, 7], [1, 4], [1, 4], [1, 2], [1, 2], [4], [1, 2], [1, 2], [1, 1, 2], [1, 1, 2], [1, 1, 2], [1, 2], [1, 2], [1, 1, 2], [1, 1, 2], [1, 1, 2], [1, 4], [1, 4], [1, 2], [1, 2], [1, 1, 1, 2], [1, 1, 1, 2], [1, 1, 1, 2], [1, 1, 1, 2], [1, 2], [1, 2], [1, 2], [1, 2], [1, 2], [1, 2], [1, 2], [1, 2], [1, 1, 2], [1, 1, 2], [1, 1, 2], [1, 2], [1, 2], [1, 1, 2], [1, 1, 2], [1, 1, 2], [1, 1, 2], [1, 1, 2], [1, 1, 2], [1, 2], [1, 2], [2, 3], [2, 3], [2, 10, 1, 1, 1, 2], [2, 10, 1, 1, 1, 2], [2, 10, 1, 1, 1, 2], [2, 10, 1, 1, 1, 2], [2, 10, 1, 1, 1, 2], [2, 10, 1, 1, 1, 2], [1, 1, 1, 1, 2], [1, 1, 1, 1, 2], [1, 1, 1, 1, 2], [1, 1, 1, 1, 2], [1, 1, 1, 1, 2], [1, 2], [1, 2], [1, 2], [1, 2], [1, 1, 1, 2], [1, 1, 1, 2], [1, 1, 1, 2], [1, 1, 1, 2], [1, 1, 2], [1, 1, 2], [1, 1, 2], [1, 1, 2], [1, 1, 2], [1, 1, 2], [2], [1, 2, 1], [1, 2, 1], [1, 2, 1], [1, 1, 2], [1, 1, 2], [1, 1, 2], [1, 1, 2], [1, 1, 2], [1, 1, 2], [1, 2], [1, 2], [1, 2], [1, 2], [5, 1, 2], [5, 1, 2], [5, 1, 2], [5, 1, 1, 2], [5, 1, 1, 2], [5, 1, 1, 2], [5, 1, 1, 2], [5, 2], [5, 2], [1, 2], [1, 2], [1, 2], [1, 2], [5, 1, 1, 1, 2], [5, 1, 1, 1, 2], [5, 1, 1, 1, 2], [5, 1, 1, 1, 2], [5, 1, 1, 1, 2], [5, 1, 2, 1], [5, 1, 2, 1], [5, 1, 2, 1], [5, 1, 2, 1], [5, 1, 1, 2], [5, 1, 1, 2], [5, 1, 1, 2], [5, 1, 1, 2], [5, 1, 2], [5, 1, 2], [5, 1, 2], [5, 1, 2], [5, 1, 2], [5, 1, 2], [5, 1, 1, 1, 2], [5, 1, 1, 1, 2], [5, 1, 1, 1, 2], [5, 1, 1, 1, 2], [5, 1, 1, 1, 2], [5, 1, 1, 2], [5, 1, 1, 2], [5, 1, 1, 2], [5, 1, 1, 2], [5, 1, 1, 2], [5, 1, 1, 2], [5, 1, 1, 2], [5, 1, 1, 2], [5, 1, 2], [5, 1, 2], [5, 1, 2], [5, 2], [5, 2], [5, 1, 2, 1], [5, 1, 2, 1], [5, 1, 2, 1], [5, 1, 2, 1], [5, 1, 2], [5, 1, 2], [5, 1, 2], [1, 2], [1, 2], [1, 1, 2], [1, 1, 2], [1, 1, 2], [1, 1, 4], [1, 1, 4], [1, 1, 4], [1, 2], [1, 2], [1, 1, 2], [1, 1, 2], [1, 1, 2], [1, 1, 2], [1, 1, 2], [1, 1, 2], [1, 1, 2], [1, 1, 2], [1, 1, 2], [3, 2], [3, 2], [1, 1, 2], [1, 1, 2], [1, 1, 2], [1, 2], [1, 2], [1, 1, 1, 4], [1, 1, 1, 4], [1, 1, 1, 4], [1, 1, 1, 4], [1, 2], [1, 2], [1, 4], [1, 4], [1, 2], [1, 2], [2], [1, 1, 1, 2], [1, 1, 1, 2], [1, 1, 1, 2], [1, 1, 1, 2], [1, 1, 1, 2], [1, 1, 1, 2], [1, 1, 1, 2], [1, 1, 1, 2], [1, 2, 1], [1, 2, 1], [1, 2, 1], [1, 2], [1, 2], [1, 1, 2, 6, 1, 2, 6, 1, 1, 2], [1, 1, 2, 6, 1, 2, 6, 1, 1, 2], [1, 1, 2, 6, 1, 2, 6, 1, 1, 2], [1, 1, 2, 6, 1, 2, 6, 1, 1, 2], [1, 1, 2, 6, 1, 2, 6, 1, 1, 2], [1, 1, 2, 6, 1, 2, 6, 1, 1, 2], [1, 1, 2, 6, 1, 2, 6, 1, 1, 2], [1, 1, 2, 6, 1, 2, 6, 1, 1, 2], [1, 1, 2, 6, 1, 2, 6, 1, 1, 2], [1, 1, 2, 6, 1, 2, 6, 1, 1, 2], [1, 2], [1, 2], [1, 2], [1, 2], [1, 2], [1, 2], [1, 4], [1, 4], [1, 1, 2], [1, 1, 2], [1, 1, 2], [1, 1, 2], [1, 1, 2], [1, 1, 2], [1, 2], [1, 2], [1, 1, 1, 1, 1, 2], [1, 1, 1, 1, 1, 2], [1, 1, 1, 1, 1, 2], [1, 1, 1, 1, 1, 2], [1, 1, 1, 1, 1, 2], [1, 1, 1, 1, 1, 2], [3, 4], [3, 4], [1, 2], [1, 2], [1, 2], [1, 2], [1, 1, 4], [1, 1, 4], [1, 1, 4], [1, 1, 2], [1, 1, 2], [1, 1, 2], [1, 1, 1, 1, 1, 1, 2], [1, 1, 1, 1, 1, 1, 2], [1, 1, 1, 1, 1, 1, 2], [1, 1, 1, 1, 1, 1, 2], [1, 1, 1, 1, 1, 1, 2], [1, 1, 1, 1, 1, 1, 2], [1, 1, 1, 1, 1, 1, 2], [1, 1, 2], [1, 1, 2], [1, 1, 2], [1, 1, 4], [1, 1, 4], [1, 1, 4], [1, 1, 1, 2], [1, 1, 1, 2], [1, 1, 1, 2], [1, 1, 1, 2], [1, 1, 2, 1], [1, 1, 2, 1], [1, 1, 2, 1], [1, 1, 2, 1], [1, 2, 1], [1, 2, 1], [1, 2, 1], [1, 2], [1, 2], [1, 1, 2], [1, 1, 2], [1, 1, 2], [1, 1, 4], [1, 1, 4], [1, 1, 4], [1, 1, 4, 1], [1, 1, 4, 1], [1, 1, 4, 1], [1, 1, 4, 1], [2], [1, 2], [1, 2], [1, 2], [1, 2], [1, 4], [1, 4], [1, 1, 2], [1, 1, 2], [1, 1, 2], [1, 1, 1, 2], [1, 1, 1, 2], [1, 1, 1, 2], [1, 1, 1, 2], [1, 1, 2], [1, 1, 2], [1, 1, 2], [1, 2], [1, 2], [1, 1, 1, 2], [1, 1, 1, 2], [1, 1, 1, 2], [1, 1, 1, 2], [1, 1, 2], [1, 1, 2], [1, 1, 2], [1, 1, 1, 2], [1, 1, 1, 2], [1, 1, 1, 2], [1, 1, 1, 2], [1, 1, 1, 1, 1, 2], [1, 1, 1, 1, 1, 2], [1, 1, 1, 1, 1, 2], [1, 1, 1, 1, 1, 2], [1, 1, 1, 1, 1, 2], [1, 1, 1, 1, 1, 2], [2], [1, 2], [1, 2], [1, 1, 2], [1, 1, 2], [1, 1, 2], [1, 2], [1, 2], [1, 1, 1, 1, 2], [1, 1, 1, 1, 2], [1, 1, 1, 1, 2], [1, 1, 1, 1, 2], [1, 1, 1, 1, 2], [1, 1, 2], [1, 1, 2], [1, 1, 2], [1, 2], [1, 2], [1, 1, 2], [1, 1, 2], [1, 1, 2], [1, 1, 2], [1, 1, 2], [1, 1, 2], [1, 2], [1, 2], [1, 2], [1, 2], [2, 7], [2, 7], [1, 1, 2], [1, 1, 2], [1, 1, 2], [1, 1, 2], [1, 1, 2], [1, 1, 2], [1, 2], [1, 2], [3, 1, 2], [3, 1, 2], [3, 1, 2], [3, 1, 1, 2], [3, 1, 1, 2], [3, 1, 1, 2], [3, 1, 1, 2], [5, 1, 4], [5, 1, 4], [5, 1, 4], [4, 6, 4, 1, 1, 2], [4, 6, 4, 1, 1, 2], [4, 6, 4, 1, 1, 2], [4, 6, 4, 1, 1, 2], [4, 6, 4, 1, 1, 2], [4, 6, 4, 1, 1, 2], [1, 2], [1, 2], [2, 6, 2], [2, 6, 2], [2, 6, 2], [1, 2], [1, 2], [1, 2], [1, 2], [1, 2], [1, 2], [1, 1, 2], [1, 1, 2], [1, 1, 2], [1, 1, 2], [1, 1, 2], [1, 1, 2], [1, 1, 2], [1, 1, 2], [1, 1, 2], [1, 2], [1, 2], [1, 2], [1, 2], [3, 1, 1, 2], [3, 1, 1, 2], [3, 1, 1, 2], [3, 1, 1, 2], [1], [1, 1, 2], [1, 1, 2], [1, 1, 2], [1, 1, 2], [1, 1, 2], [1, 1, 2], [5, 1, 2], [5, 1, 2], [5, 1, 2], [1, 1, 2], [1, 1, 2], [1, 1, 2], [1, 2], [1, 2], [5, 1, 2, 1], [5, 1, 2, 1], [5, 1, 2, 1], [5, 1, 2, 1], [5, 1, 1, 1, 2, 1], [5, 1, 1, 1, 2, 1], [5, 1, 1, 1, 2, 1], [5, 1, 1, 1, 2, 1], [5, 1, 1, 1, 2, 1], [5, 1, 1, 1, 2, 1], [5, 1, 1, 1, 1, 2], [5, 1, 1, 1, 1, 2], [5, 1, 1, 1, 1, 2], [5, 1, 1, 1, 1, 2], [5, 1, 1, 1, 1, 2], [5, 1, 1, 1, 1, 2], [5, 1, 2, 1], [5, 1, 2, 1], [5, 1, 2, 1], [5, 1, 2, 1], [5, 1, 2, 1], [5, 1, 2, 1], [5, 1, 2, 1], [5, 1, 2, 1], [1, 2], [1, 2], [1, 1, 2], [1, 1, 2], [1, 1, 2], [1, 2], [1, 2], [1, 2], [1, 2], [2], [1, 1, 1, 2], [1, 1, 1, 2], [1, 1, 1, 2], [1, 1, 1, 2], [1, 1, 1, 2], [1, 1, 1, 2], [1, 1, 1, 2], [1, 1, 1, 2], [1, 1, 2], [1, 1, 2], [1, 1, 2], [1, 2], [1, 2], [1, 2], [1, 2], [1, 1, 1, 1, 2], [1, 1, 1, 1, 2], [1, 1, 1, 1, 2], [1, 1, 1, 1, 2], [1, 1, 1, 1, 2], [1, 1, 2], [1, 1, 2], [1, 1, 2], [1, 2], [1, 2], [1, 2], [1, 2], [4], [1, 4], [1, 4], [1, 2], [1, 2], [1, 1, 2], [1, 1, 2], [1, 1, 2], [1, 1, 2], [1, 1, 2], [1, 1, 2], [1, 1, 2], [1, 1, 2], [1, 1, 2], [1, 1, 2], [1, 1, 2], [1, 1, 2], [5, 1, 2], [5, 1, 2], [5, 1, 2], [1, 2], [1, 2], [1, 1, 1, 1, 2], [1, 1, 1, 1, 2], [1, 1, 1, 1, 2], [1, 1, 1, 1, 2], [1, 1, 1, 1, 2], [1, 2], [1, 2], [1, 2], [1, 2], [1, 1, 2], [1, 1, 2], [1, 1, 2], [1, 2], [1, 2], [1, 1, 2], [1, 1, 2], [1, 1, 2], [2], [1, 1, 1, 1, 2, 1], [1, 1, 1, 1, 2, 1], [1, 1, 1, 1, 2, 1], [1, 1, 1, 1, 2, 1], [1, 1, 1, 1, 2, 1], [1, 1, 1, 1, 2, 1], [1, 1, 1, 2], [1, 1, 1, 2], [1, 1, 1, 2], [1, 1, 1, 2], [1, 2], [1, 2], [1, 2], [1, 2], [2], [1, 2], [1, 2], [1, 1, 2], [1, 1, 2], [1, 1, 2], [5, 1, 1, 1, 2], [5, 1, 1, 1, 2], [5, 1, 1, 1, 2], [5, 1, 1, 1, 2], [5, 1, 1, 1, 2], [5, 1, 2], [5, 1, 2], [5, 1, 2], [5, 1, 1, 2], [5, 1, 1, 2], [5, 1, 1, 2], [5, 1, 1, 2], [5, 1, 2], [5, 1, 2], [5, 1, 2], [5, 1, 2], [5, 1, 2], [5, 1, 2], [1, 2], [1, 2], [1, 2, 1], [1, 2, 1], [1, 2, 1], [1, 2], [1, 2], [1, 2], [1, 2], [1, 2, 1], [1, 2, 1], [1, 2, 1], [1, 2, 1], [1, 2, 1], [1, 2, 1], [1, 1, 2], [1, 1, 2], [1, 1, 2], [1, 4], [1, 4], [1, 1, 2], [1, 1, 2], [1, 1, 2], [1, 1, 1, 2], [1, 1, 1, 2], [1, 1, 1, 2], [1, 1, 1, 2], [2, 7], [2, 7], [1, 2], [1, 2], [1, 2], [1, 2], [1, 1, 2], [1, 1, 2], [1, 1, 2], [1, 2], [1, 2], [1, 4], [1, 4], [1, 1, 2], [1, 1, 2], [1, 1, 2], [2], [1, 2, 1], [1, 2, 1], [1, 2, 1], [1, 2], [1, 2], [1, 2], [1, 2], [2], [2], [3, 2], [3, 2], [1, 1, 2], [1, 1, 2], [1, 1, 2], [1, 2], [1, 2], [1, 1, 2], [1, 1, 2], [1, 1, 2], [1, 4], [1, 4], [1, 1, 2], [1, 1, 2], [1, 1, 2], [1, 4], [1, 4], [1, 2], [1, 2], [3, 1, 4], [3, 1, 4], [3, 1, 4], [1, 2], [1, 2], [1, 1, 2], [1, 1, 2], [1, 1, 2], [1, 1, 2], [1, 1, 2], [1, 1, 2], [1, 1, 2], [1, 1, 2], [1, 1, 2], [1, 1, 2], [1, 1, 2], [1, 1, 2], [1, 1, 1, 2], [1, 1, 1, 2], [1, 1, 1, 2], [1, 1, 1, 2], [1, 1, 1, 2], [1, 1, 1, 2], [1, 1, 1, 2], [1, 1, 1, 2], [1, 1, 2], [1, 1, 2], [1, 1, 2], [3, 1, 4], [3, 1, 4], [3, 1, 4], [3, 1, 4], [3, 1, 4], [3, 1, 4], [1, 2], [1, 2], [1, 2, 6, 2], [1, 2, 6, 2], [1, 2, 6, 2], [1, 2, 6, 2], [1, 1, 4], [1, 1, 4], [1, 1, 4], [1, 2], [1, 2], [1, 2], [1, 2], [1, 1, 2], [1, 1, 2], [1, 1, 2], [1, 2], [1, 2], [1, 1, 1, 4], [1, 1, 1, 4], [1, 1, 1, 4], [1, 1, 1, 4], [1, 2], [1, 2], [1, 1, 2], [1, 1, 2], [1, 1, 2], [2], [1, 1, 2], [1, 1, 2], [1, 1, 2], [1, 2], [1, 2], [1, 2], [1, 2], [2], [1, 2], [1, 2], [1, 2], [1, 2], [1, 2], [1, 2], [1, 2], [1, 2], [1, 1, 2], [1, 1, 2], [1, 1, 2], [1, 2], [1, 2], [1, 1, 2], [1, 1, 2], [1, 1, 2], [1, 2, 7, 1], [1, 2, 7, 1], [1, 2, 7, 1], [1, 2, 7, 1], [1, 1, 1, 4], [1, 1, 1, 4], [1, 1, 1, 4], [1, 1, 1, 4], [1, 2], [1, 2], [1, 1, 2], [1, 1, 2], [1, 1, 2], [1, 1, 1, 2, 1], [1, 1, 1, 2, 1], [1, 1, 1, 2, 1], [1, 1, 1, 2, 1], [1, 1, 1, 2, 1], [1, 1, 2], [1, 1, 2], [1, 1, 2], [2], [6, 2, 2], [6, 2, 2], [6, 2, 2], [1, 1, 2], [1, 1, 2], [1, 1, 2], [1, 1, 1, 2], [1, 1, 1, 2], [1, 1, 1, 2], [1, 1, 1, 2], [1, 1, 2], [1, 1, 2], [1, 1, 2], [1, 1, 2], [1, 1, 2], [1, 1, 2], [1, 1, 1, 2], [1, 1, 1, 2], [1, 1, 1, 2], [1, 1, 1, 2], [1, 2], [1, 2], [1, 1, 1, 2], [1, 1, 1, 2], [1, 1, 1, 2], [1, 1, 1, 2], [1, 1, 2], [1, 1, 2], [1, 1, 2], [1, 1, 2], [1, 1, 2], [1, 1, 2], [2, 6, 1, 2], [2, 6, 1, 2], [2, 6, 1, 2], [2, 6, 1, 2], [2], [1, 2], [1, 2], [1, 1, 2], [1, 1, 2], [1, 1, 2], [1, 1, 2], [1, 1, 2], [1, 1, 2], [1, 2], [1, 2], [1, 1, 2], [1, 1, 2], [1, 1, 2], [1, 1, 2], [1, 1, 2], [1, 1, 2], [1, 1, 2], [1, 1, 2], [1, 1, 2], [1, 1, 2], [1, 1, 2], [1, 1, 2], [1, 1, 2], [1, 1, 2], [1, 1, 2], [1, 2], [1, 2], [1, 2], [1, 2], [1, 1, 2], [1, 1, 2], [1, 1, 2], [1, 2], [1, 2], [3], [1, 1, 2], [1, 1, 2], [1, 1, 2], [8, 1, 4], [8, 1, 4], [8, 1, 4], [8, 1, 4], [8, 1, 4], [8, 1, 4], [8, 1, 4], [8, 1, 4], [8, 1, 4], [9, 3], [9, 3], [1, 2], [1, 2], [2, 6, 2], [2, 6, 2], [2, 6, 2], [1, 2], [1, 2], [1, 2], [1, 2], [4], [2, 7], [2, 7], [1, 2], [1, 2], [1, 2], [1, 2], [1, 2], [1, 2], [1, 2], [1, 2], [1, 2], [1, 2], [1, 2], [1, 2], [1, 2], [1, 2], [1, 2], [1, 2], [1, 2], [1, 2], [1, 2], [1, 2], [1, 2, 1], [1, 2, 1], [1, 2, 1], [1, 2], [1, 2], [1, 1, 2], [1, 1, 2], [1, 1, 2], [1, 4], [1, 4], [1, 2], [1, 2], [1, 2], [1, 2], [2], [3, 2], [3, 2], [1, 4], [1, 4], [5, 1, 2], [5, 1, 2], [5, 1, 2], [1, 4], [1, 4], [1, 1, 2], [1, 1, 2], [1, 1, 2], [1, 4], [1, 4], [1, 2], [1, 2], [1, 1, 2], [1, 1, 2], [1, 1, 2], [1, 1, 2], [1, 1, 2], [1, 1, 2], [3, 4, 6, 2], [3, 4, 6, 2], [3, 4, 6, 2], [3, 4, 6, 2], [3, 4], [3, 4], [1, 2], [1, 2], [1, 4], [1, 4], [1, 2], [1, 2], [1, 2], [1, 2], [1, 2], [1, 2], [2, 7], [2, 7], [1, 1, 2], [1, 1, 2], [1, 1, 2], [1, 1, 4], [1, 1, 4], [1, 1, 4], [1, 1, 4], [1, 1, 4], [1, 1, 4], [1, 2], [1, 2], [1, 2], [1, 2], [1, 1, 1, 2], [1, 1, 1, 2], [1, 1, 1, 2], [1, 1, 1, 2], [1, 2], [1, 2], [1, 2], [1, 2], [1, 1, 2], [1, 1, 2], [1, 1, 2], [1, 2], [1, 2], [1, 2], [1, 2], [1, 2, 7], [1, 2, 7], [1, 2, 7], [1, 2], [1, 2], [2, 6, 2], [2, 6, 2], [2, 6, 2], [1, 2], [1, 2], [1, 2], [1, 2], [1, 2], [1, 2], [1, 1, 2], [1, 1, 2], [1, 1, 2], [2, 7], [2, 7], [4], [1, 4], [1, 4], [1, 2], [1, 2], [1, 1, 2], [1, 1, 2], [1, 1, 2], [1, 4], [1, 4], [1, 2], [1, 2], [1, 2, 3], [1, 2, 3], [1, 2, 3], [1, 1, 2], [1, 1, 2], [1, 1, 2], [5, 1, 2], [5, 1, 2], [5, 1, 2], [1, 2], [1, 2], [1, 2], [1, 2], [9, 3, 2], [9, 3, 2], [9, 3, 2], [1, 2], [1, 2], [1, 1, 2], [1, 1, 2], [1, 1, 2], [1, 2], [1, 2], [3, 9], [3, 9], [1, 2], [1, 2], [1, 2], [1, 2], [1, 1, 2], [1, 1, 2], [1, 1, 2], [2], [3, 2], [3, 2], [2, 1], [2, 1], [1, 4], [1, 4], [6, 1, 1, 2], [6, 1, 1, 2], [6, 1, 1, 2], [6, 1, 1, 2], [1, 1, 2], [1, 1, 2], [1, 1, 2], [3, 1, 1, 4], [3, 1, 1, 4], [3, 1, 1, 4], [3, 1, 1, 4], [1, 2, 6, 2], [1, 2, 6, 2], [1, 2, 6, 2], [1, 2, 6, 2], [3, 2], [3, 2], [2, 1], [2, 1], [1, 2], [1, 2], [1, 2], [1, 2], [1, 2], [1, 2], [1, 2], [1, 2], [1, 2], [1, 2], [1, 1, 2], [1, 1, 2], [1, 1, 2], [6, 2], [6, 2], [4, 6, 1, 4], [4, 6, 1, 4], [4, 6, 1, 4], [4, 6, 1, 4], [1, 2], [1, 2], [1, 4], [1, 4], [1, 4], [1, 4], [1, 1, 2, 7], [1, 1, 2, 7], [1, 1, 2, 7], [1, 1, 2, 7], [1, 1, 2], [1, 1, 2], [1, 1, 2], [1, 2], [1, 2], [3, 8, 2], [3, 8, 2], [3, 8, 2], [3, 2, 8, 1, 1, 2], [3, 2, 8, 1, 1, 2], [3, 2, 8, 1, 1, 2], [3, 2, 8, 1, 1, 2], [3, 2, 8, 1, 1, 2], [3, 2, 8, 1, 1, 2], [3, 3], [3, 3], [4, 6, 2], [4, 6, 2], [4, 6, 2], [1, 1, 2], [1, 1, 2], [1, 1, 2], [1, 2], [1, 2], [1, 2], [1, 2], [1, 1, 2], [1, 1, 2], [1, 1, 2], [1, 2], [1, 2], [1, 2], [1, 2], [1, 2, 3, 2, 10, 2], [1, 2, 3, 2, 10, 2], [1, 2, 3, 2, 10, 2], [1, 2, 3, 2, 10, 2], [1, 2, 3, 2, 10, 2], [1, 2, 3, 2, 10, 2], [1, 4], [1, 4], [1, 1, 2], [1, 1, 2], [1, 1, 2], [1, 2], [1, 2], [1, 7, 2], [1, 7, 2], [1, 7, 2], [1, 2], [1, 2], [1, 2], [1, 2], [1, 1, 2], [1, 1, 2], [1, 1, 2], [1, 1, 4], [1, 1, 4], [1, 1, 4], [1, 2], [1, 2], [1, 4], [1, 4], [1, 1, 4, 1], [1, 1, 4, 1], [1, 1, 4, 1], [1, 1, 4, 1], [1, 2], [1, 2], [1, 1, 2], [1, 1, 2], [1, 1, 2], [1, 2], [1, 2], [1, 2], [1, 2], [1, 4], [1, 4], [1, 2], [1, 2], [1, 1, 2], [1, 1, 2], [1, 1, 2], [1, 4], [1, 4], [1, 2], [1, 2], [1, 2], [1, 2], [1, 1, 2], [1, 1, 2], [1, 1, 2], [1, 2], [1, 2], [1, 4], [1, 4], [1, 4], [1, 4], [1, 2], [1, 2], [1, 2], [1, 2], [3, 2], [3, 2], [1, 2], [1, 2], [1, 1, 2], [1, 1, 2], [1, 1, 2], [1, 1, 2], [1, 1, 2], [1, 1, 2], [1, 2], [1, 2], [1, 1, 2], [1, 1, 2], [1, 1, 2], [1, 1, 2], [1, 1, 2], [1, 1, 2], [1, 1, 1, 2], [1, 1, 1, 2], [1, 1, 1, 2], [1, 1, 1, 2], [1, 1, 2], [1, 1, 2], [1, 1, 2], [1, 2], [1, 2], [2, 7], [2, 7], [1, 1, 1, 2], [1, 1, 1, 2], [1, 1, 1, 2], [1, 1, 1, 2], [1, 2], [1, 2], [1, 4], [1, 4], [1, 4], [1, 4], [1, 2, 6, 2], [1, 2, 6, 2], [1, 2, 6, 2], [1, 2, 6, 2], [1, 4, 6, 2], [1, 4, 6, 2], [1, 4, 6, 2], [1, 4, 6, 2], [2, 6, 4], [2, 6, 4], [2, 6, 4], [1, 2], [1, 2], [1, 2], [1, 2], [1, 2], [1, 2], [1, 1, 4], [1, 1, 4], [1, 1, 4], [3, 6], [3, 6], [1, 2], [1, 2], [2, 1, 1], [2, 1, 1], [2, 1, 1], [1, 1, 2], [1, 1, 2], [1, 1, 2], [1, 2], [1, 2], [1, 2], [1, 2], [1, 2], [1, 2], [1, 2], [1, 2], [2], [1, 2], [1, 2], [1, 2], [1, 2], [1, 2], [1, 2], [1, 1, 4], [1, 1, 4], [1, 1, 4], [1, 1, 1, 2], [1, 1, 1, 2], [1, 1, 1, 2], [1, 1, 1, 2], [1, 1, 2], [1, 1, 2], [1, 1, 2], [1, 2], [1, 2], [1, 2], [1, 2], [3, 2], [3, 2], [1, 2], [1, 2], [1, 2], [1, 2], [1, 1, 4], [1, 1, 4], [1, 1, 4], [1, 2], [1, 2], [1, 2, 7], [1, 2, 7], [1, 2, 7], [1, 1, 2], [1, 1, 2], [1, 1, 2], [1, 1, 2], [1, 1, 2], [1, 1, 2], [1, 2], [1, 2], [1, 2], [1, 2], [1, 2], [1, 2], [1, 2], [1, 2], [1, 4], [1, 4], [1, 4], [1, 4], [1, 2], [1, 2], [1, 2], [1, 2], [1, 4], [1, 4], [1, 1, 2], [1, 1, 2], [1, 1, 2], [1, 2], [1, 2], [4, 6, 1, 2], [4, 6, 1, 2], [4, 6, 1, 2], [4, 6, 1, 2], [1, 1, 2], [1, 1, 2], [1, 1, 2], [5, 1, 1, 2], [5, 1, 1, 2], [5, 1, 1, 2], [5, 1, 1, 2], [1, 2, 1], [1, 2, 1], [1, 2, 1], [1, 4], [1, 4], [1, 2], [1, 2], [3, 1, 1, 2], [3, 1, 1, 2], [3, 1, 1, 2], [3, 1, 1, 2], [1, 1, 2], [1, 1, 2], [1, 1, 2], [1, 1, 2], [1, 1, 2], [1, 1, 2], [1, 2], [1, 2], [2, 6, 2], [2, 6, 2], [2, 6, 2], [1, 2], [1, 2], [1, 2], [1, 2], [1, 1, 2], [1, 1, 2], [1, 1, 2], [1, 1, 2], [1, 1, 2], [1, 1, 2], [1, 4], [1, 4], [1, 2], [1, 2], [1, 2], [1, 2], [1, 2], [1, 2], [1, 2], [1, 2], [1, 4], [1, 4], [1, 4], [1, 4], [1, 2], [1, 2], [1, 2], [1, 2], [1, 1, 4], [1, 1, 4], [1, 1, 4], [1, 2], [1, 2], [1, 4], [1, 4], [1, 4], [1, 4], [1, 4], [1, 4], [2, 1, 7], [2, 1, 7], [2, 1, 7], [1, 1, 2], [1, 1, 2], [1, 1, 2], [1, 2], [1, 2], [6, 2], [6, 2], [1, 2], [1, 2], [1, 1, 1, 2], [1, 1, 1, 2], [1, 1, 1, 2], [1, 1, 1, 2], [1, 1, 2], [1, 1, 2], [1, 1, 2], [1, 2, 6], [1, 2, 6], [1, 2, 6], [1, 1, 2], [1, 1, 2], [1, 1, 2], [3, 1, 4], [3, 1, 4], [3, 1, 4], [1, 2], [1, 2], [1, 2], [1, 2], [1, 2], [1, 2], [1, 2], [1, 2], [3, 1, 4], [3, 1, 4], [3, 1, 4], [1, 1, 4], [1, 1, 4], [1, 1, 4], [1, 1, 2], [1, 1, 2], [1, 1, 2], [1, 2], [1, 2], [1, 2], [1, 2], [1, 1, 2], [1, 1, 2], [1, 1, 2], [1, 2], [1, 2], [1, 4], [1, 4], [1, 4], [1, 4], [2, 6, 2], [2, 6, 2], [2, 6, 2], [3, 6], [3, 6], [1, 2], [1, 2], [1, 2], [1, 2], [6, 9], [6, 9], [1, 2], [1, 2], [1, 2], [1, 2], [2, 7], [2, 7], [1, 2], [1, 2], [3, 1, 2], [3, 1, 2], [3, 1, 2], [3, 2, 6, 2], [3, 2, 6, 2], [3, 2, 6, 2], [3, 2, 6, 2], [3, 1, 2], [3, 1, 2], [3, 1, 2], [3, 1, 2], [3, 1, 2], [3, 1, 2], [3, 1, 1, 4, 6, 4], [3, 1, 1, 4, 6, 4], [3, 1, 1, 4, 6, 4], [3, 1, 1, 4, 6, 4], [3, 1, 1, 4, 6, 4], [3, 1, 1, 4, 6, 4], [1, 2], [1, 2], [6, 2], [6, 2], [8, 1, 1, 2], [8, 1, 1, 2], [8, 1, 1, 2], [8, 1, 1, 2], [3, 1, 2, 1, 1, 2], [3, 1, 2, 1, 1, 2], [3, 1, 2, 1, 1, 2], [3, 1, 2, 1, 1, 2], [3, 1, 2, 1, 1, 2], [3, 1, 2, 1, 1, 2], [3, 2], [3, 2], [3, 1, 4], [3, 1, 4], [3, 1, 4], [5, 3, 2, 6, 2], [5, 3, 2, 6, 2], [5, 3, 2, 6, 2], [5, 3, 2, 6, 2], [5, 3, 2, 6, 2], [2, 3, 1, 2], [2, 3, 1, 2], [2, 3, 1, 2], [2, 3, 1, 2], [3, 1, 1, 4], [3, 1, 1, 4], [3, 1, 1, 4], [3, 1, 1, 4], [5, 1, 2], [5, 1, 2], [5, 1, 2], [5, 3, 1, 2], [5, 3, 1, 2], [5, 3, 1, 2], [5, 3, 1, 2], [1, 2], [1, 2], [1, 2, 4], [1, 2, 4], [1, 2, 4], [5, 1, 2, 3], [5, 1, 2, 3], [5, 1, 2, 3], [5, 1, 2, 3], [5, 2, 9, 3], [5, 2, 9, 3], [5, 2, 9, 3], [5, 2, 9, 3], [3, 1, 2], [3, 1, 2], [3, 1, 2], [3, 1, 1, 4], [3, 1, 1, 4], [3, 1, 1, 4], [3, 1, 1, 4], [3, 2], [3, 2], [3, 1, 2], [3, 1, 2], [3, 1, 2], [3, 9, 2], [3, 9, 2], [3, 9, 2], [3, 9, 2], [3, 9, 2], [3, 9, 2], [3, 2], [3, 2], [3, 2], [3, 2], [3, 1], [3, 1], [3, 2], [3, 2], [1, 4], [1, 4], [3, 1, 2], [3, 1, 2], [3, 1, 2], [3, 1, 10, 1, 4], [3, 1, 10, 1, 4], [3, 1, 10, 1, 4], [3, 1, 10, 1, 4], [3, 1, 10, 1, 4], [1, 1, 2], [1, 1, 2], [1, 1, 2], [3, 6, 1, 2], [3, 6, 1, 2], [3, 6, 1, 2], [3, 6, 1, 2], [3, 1, 1, 2], [3, 1, 1, 2], [3, 1, 1, 2], [3, 1, 1, 2], [3, 1, 4], [3, 1, 4], [3, 1, 4], [3, 1, 2], [3, 1, 2], [3, 1, 2], [3, 1, 2], [3, 1, 2], [3, 1, 2], [1, 2], [1, 2], [4], [3, 2], [3, 2], [1, 2], [1, 2], [3], [3, 2], [3, 2], [3, 2], [3, 2], [1, 2, 3], [1, 2, 3], [1, 2, 3], [1, 1, 2], [1, 1, 2], [1, 1, 2], [3, 3], [3, 3], [3, 1, 2], [3, 1, 2], [3, 1, 2], [3, 1, 2], [3, 1, 2], [3, 1, 2], [3, 3, 6], [3, 3, 6], [3, 3, 6], [3, 1, 2], [3, 1, 2], [3, 1, 2], [3, 1, 2, 6, 1, 2], [3, 1, 2, 6, 1, 2], [3, 1, 2, 6, 1, 2], [3, 1, 2, 6, 1, 2], [3, 1, 2, 6, 1, 2], [3, 1, 2, 6, 1, 2], [3, 1, 1, 4], [3, 1, 1, 4], [3, 1, 1, 4], [3, 1, 1, 4], [1, 1, 2], [1, 1, 2], [1, 1, 2], [1, 2], [1, 2], [3, 2], [3, 2], [3, 1, 2], [3, 1, 2], [3, 1, 2], [3, 4], [3, 4], [3, 4, 6, 2], [3, 4, 6, 2], [3, 4, 6, 2], [3, 4, 6, 2], [3, 2], [3, 2], [3, 1, 1, 6], [3, 1, 1, 6], [3, 1, 1, 6], [3, 1, 1, 6], [2], [3, 1, 1, 2], [3, 1, 1, 2], [3, 1, 1, 2], [3, 1, 1, 2], [3, 1, 2], [3, 1, 2], [3, 1, 2], [2], [3, 2], [3, 2], [3, 1, 2], [3, 1, 2], [3, 1, 2], [6, 1, 4], [6, 1, 4], [6, 1, 4], [3, 1, 1, 2], [3, 1, 1, 2], [3, 1, 1, 2], [3, 1, 1, 2], [3, 1, 4], [3, 1, 4], [3, 1, 4], [3, 1, 1, 1, 2], [3, 1, 1, 1, 2], [3, 1, 1, 1, 2], [3, 1, 1, 1, 2], [3, 1, 1, 1, 2], [3, 1, 2], [3, 1, 2], [3, 1, 2], [3, 1, 2], [3, 1, 2], [3, 1, 2], [3, 1], [3, 1], [3, 1, 2, 6, 1, 2], [3, 1, 2, 6, 1, 2], [3, 1, 2, 6, 1, 2], [3, 1, 2, 6, 1, 2], [3, 1, 2, 6, 1, 2], [3, 1, 2, 6, 1, 2], [3, 1, 2], [3, 1, 2], [3, 1, 2], [3, 1, 1, 4], [3, 1, 1, 4], [3, 1, 1, 4], [3, 1, 1, 4], [3, 1, 1, 2], [3, 1, 1, 2], [3, 1, 1, 2], [3, 1, 1, 2], [3, 1, 2], [3, 1, 2], [3, 1, 2], [3, 1, 2], [3, 1, 2], [3, 1, 2], [3, 1, 2], [3, 1, 2], [3, 1, 2], [3, 1, 4], [3, 1, 4], [3, 1, 4], [3, 1, 2], [3, 1, 2], [3, 1, 2], [3, 2, 6, 2], [3, 2, 6, 2], [3, 2, 6, 2], [3, 2, 6, 2], [3, 1, 1, 2], [3, 1, 1, 2], [3, 1, 1, 2], [3, 1, 1, 2], [3, 1, 1, 2], [3, 1, 1, 2], [3, 1, 1, 2], [3, 1, 1, 2], [3, 2], [3, 2], [3, 1, 2], [3, 1, 2], [3, 1, 2], [3, 2], [3, 2], [3, 1, 1, 2], [3, 1, 1, 2], [3, 1, 1, 2], [3, 1, 1, 2], [3, 1, 2], [3, 1, 2], [3, 1, 2], [3, 1, 1, 1, 2], [3, 1, 1, 1, 2], [3, 1, 1, 1, 2], [3, 1, 1, 1, 2], [3, 1, 1, 1, 2], [3, 2, 6, 4], [3, 2, 6, 4], [3, 2, 6, 4], [3, 2, 6, 4], [3, 1, 4], [3, 1, 4], [3, 1, 4], [3, 2, 7], [3, 2, 7], [3, 2, 7], [3, 2, 8, 4], [3, 2, 8, 4], [3, 2, 8, 4], [3, 2, 8, 4], [3, 1, 2], [3, 1, 2], [3, 1, 2], [3, 1, 4], [3, 1, 4], [3, 1, 4], [3, 1, 2, 7], [3, 1, 2, 7], [3, 1, 2, 7], [3, 1, 2, 7], [3, 1, 1, 1, 2, 1], [3, 1, 1, 1, 2, 1], [3, 1, 1, 1, 2, 1], [3, 1, 1, 1, 2, 1], [3, 1, 1, 1, 2, 1], [3, 1, 1, 1, 2, 1], [3, 1, 1, 2], [3, 1, 1, 2], [3, 1, 1, 2], [3, 1, 1, 2], [3, 1, 2], [3, 1, 2], [3, 1, 2], [3, 2, 7], [3, 2, 7], [3, 2, 7], [5, 1, 2, 3, 2], [5, 1, 2, 3, 2], [5, 1, 2, 3, 2], [5, 1, 2, 3, 2], [5, 1, 2, 3, 2], [5, 4, 3, 3], [5, 4, 3, 3], [5, 4, 3, 3], [5, 4, 3, 3], [5, 2, 1], [5, 2, 1], [5, 2, 1], [5, 1, 2, 3, 2], [5, 1, 2, 3, 2], [5, 1, 2, 3, 2], [5, 1, 2, 3, 2], [5, 1, 2, 3, 2], [5, 1, 2, 3, 2], [5, 1, 2, 3, 2], [5, 1, 2, 3, 2], [5, 1, 2, 3, 2], [5, 1, 2, 3, 2], [5, 1, 1, 2, 3], [5, 1, 1, 2, 3], [5, 1, 1, 2, 3], [5, 1, 1, 2, 3], [5, 1, 1, 2, 3], [5, 1, 1, 2, 3], [5, 1, 1, 2, 3], [5, 1, 1, 2, 3], [5, 1, 1, 2, 3], [5, 1, 1, 2, 3], [5, 1, 1, 2, 3], [5, 1, 1, 2, 3], [5, 1, 1, 2, 3], [5, 1, 1, 2, 3], [5, 1, 1, 2, 3], [5, 2, 3, 1, 2], [5, 2, 3, 1, 2], [5, 2, 3, 1, 2], [5, 2, 3, 1, 2], [5, 2, 3, 1, 2], [5, 2, 3], [5, 2, 3], [5, 2, 3], [1, 2], [1, 2], [1, 1, 2], [1, 1, 2], [1, 1, 2], [5, 5, 3, 2, 1], [5, 5, 3, 2, 1], [5, 5, 3, 2, 1], [5, 5, 3, 2, 1], [5, 5, 3, 2, 1], [5, 1, 1, 1, 2], [5, 1, 1, 1, 2], [5, 1, 1, 1, 2], [5, 1, 1, 1, 2], [5, 1, 1, 1, 2], [5, 1, 2, 3, 4], [5, 1, 2, 3, 4], [5, 1, 2, 3, 4], [5, 1, 2, 3, 4], [5, 1, 2, 3, 4], [3, 10], [3, 10], [3, 1, 2], [3, 1, 2], [3, 1, 2], [3, 1, 1, 1, 1, 2], [3, 1, 1, 1, 1, 2], [3, 1, 1, 1, 1, 2], [3, 1, 1, 1, 1, 2], [3, 1, 1, 1, 1, 2], [3, 1, 1, 1, 1, 2], [5, 3, 2], [5, 3, 2], [5, 3, 2], [3, 3, 6, 2], [3, 3, 6, 2], [3, 3, 6, 2], [3, 3, 6, 2], [5, 1, 3, 2], [5, 1, 3, 2], [5, 1, 3, 2], [5, 1, 3, 2], [6, 2], [6, 2], [1, 1, 2], [1, 1, 2], [1, 1, 2], [3, 6, 2], [3, 6, 2], [3, 6, 2], [3, 1, 2], [3, 1, 2], [3, 1, 2], [3, 2], [3, 2], [3, 2], [3, 2], [3, 2, 3], [3, 2, 3], [3, 2, 3], [3, 2, 3], [3, 2, 3], [3, 2, 3], [3, 1, 1, 1, 2], [3, 1, 1, 1, 2], [3, 1, 1, 1, 2], [3, 1, 1, 1, 2], [3, 1, 1, 1, 2], [3, 1, 2], [3, 1, 2], [3, 1, 2], [3, 2, 3], [3, 2, 3], [3, 2, 3], [3, 1, 1, 2], [3, 1, 1, 2], [3, 1, 1, 2], [3, 1, 1, 2], [3, 1, 9, 6, 4], [3, 1, 9, 6, 4], [3, 1, 9, 6, 4], [3, 1, 9, 6, 4], [3, 1, 9, 6, 4], [1, 2], [1, 2], [1, 3, 1, 1, 2], [1, 3, 1, 1, 2], [1, 3, 1, 1, 2], [1, 3, 1, 1, 2], [1, 3, 1, 1, 2], [1, 1, 2], [1, 1, 2], [1, 1, 2], [3, 1, 2], [3, 1, 2], [3, 1, 2], [3, 6, 3], [3, 6, 3], [3, 6, 3], [3, 6, 2], [3, 6, 2], [3, 6, 2], [3, 8, 1, 4], [3, 8, 1, 4], [3, 8, 1, 4], [3, 8, 1, 4], [1, 1, 4], [1, 1, 4], [1, 1, 4], [3, 8], [3, 8], [1, 2], [1, 2], [1, 2], [1, 2], [1, 1], [1, 1], [1, 3, 1, 2], [1, 3, 1, 2], [1, 3, 1, 2], [1, 3, 1, 2], [2, 3, 2, 6, 2], [2, 3, 2, 6, 2], [2, 3, 2, 6, 2], [2, 3, 2, 6, 2], [2, 3, 2, 6, 2], [3, 1, 2], [3, 1, 2], [3, 1, 2], [2, 3, 6, 3, 9, 8, 4], [2, 3, 6, 3, 9, 8, 4], [2, 3, 6, 3, 9, 8, 4], [2, 3, 6, 3, 9, 8, 4], [2, 3, 6, 3, 9, 8, 4], [2, 3, 6, 3, 9, 8, 4], [2, 3, 6, 3, 9, 8, 4], [4, 1], [4, 1], [2, 6, 6, 2], [2, 6, 6, 2], [2, 6, 6, 2], [2, 6, 6, 2], [5, 6, 2], [5, 6, 2], [5, 6, 2], [6, 1, 1, 2, 1], [6, 1, 1, 2, 1], [6, 1, 1, 2, 1], [6, 1, 1, 2, 1], [6, 1, 1, 2, 1], [6, 3], [6, 3], [3, 1, 1, 2], [3, 1, 1, 2], [3, 1, 1, 2], [3, 1, 1, 2], [3, 6], [3, 6], [2, 3], [2, 3], [1, 4], [1, 4], [3, 1, 2], [3, 1, 2], [3, 1, 2], [3, 4], [3, 4], [3, 1, 2], [3, 1, 2], [3, 1, 2], [2, 6, 1, 4], [2, 6, 1, 4], [2, 6, 1, 4], [2, 6, 1, 4], [1, 3, 3, 2], [1, 3, 3, 2], [1, 3, 3, 2], [1, 3, 3, 2], [1, 3, 1, 4], [1, 3, 1, 4], [1, 3, 1, 4], [1, 3, 1, 4], [1, 3, 4], [1, 3, 4], [1, 3, 4], [1, 3, 1, 4], [1, 3, 1, 4], [1, 3, 1, 4], [1, 3, 1, 4], [1, 3, 1, 4], [1, 3, 1, 4], [1, 3, 1, 4], [1, 3, 1, 4], [1, 3, 1, 2], [1, 3, 1, 2], [1, 3, 1, 2], [1, 3, 1, 2], [1, 3, 1, 2], [1, 3, 1, 2], [1, 3, 1, 2], [1, 3, 1, 2], [2, 3, 6, 1], [2, 3, 6, 1], [2, 3, 6, 1], [2, 3, 6, 1], [1, 2], [1, 2], [3, 2, 9], [3, 2, 9], [3, 2, 9], [5, 3, 1, 2], [5, 3, 1, 2], [5, 3, 1, 2], [5, 3, 1, 2], [3, 1, 1, 2], [3, 1, 1, 2], [3, 1, 1, 2], [3, 1, 1, 2], [3, 2], [3, 2], [3, 2], [3, 2], [3, 2], [3, 2], [3, 1, 2], [3, 1, 2], [3, 1, 2], [3, 1, 2], [3, 1, 2], [3, 1, 2], [3, 2], [3, 2], [3, 6, 1, 2], [3, 6, 1, 2], [3, 6, 1, 2], [3, 6, 1, 2], [3, 1, 2], [3, 1, 2], [3, 1, 2], [3, 1, 1, 4], [3, 1, 1, 4], [3, 1, 1, 4], [3, 1, 1, 4], [3, 1, 1, 1, 2], [3, 1, 1, 1, 2], [3, 1, 1, 1, 2], [3, 1, 1, 1, 2], [3, 1, 1, 1, 2], [3, 2], [3, 2], [3, 8, 2, 3], [3, 8, 2, 3], [3, 8, 2, 3], [3, 8, 2, 3], [3, 2, 6, 2], [3, 2, 6, 2], [3, 2, 6, 2], [3, 2, 6, 2], [3, 1, 2], [3, 1, 2], [3, 1, 2], [3, 1, 1, 2], [3, 1, 1, 2], [3, 1, 1, 2], [3, 1, 1, 2], [3, 1, 4], [3, 1, 4], [3, 1, 4], [3, 1, 1, 2], [3, 1, 1, 2], [3, 1, 1, 2], [3, 1, 1, 2], [3, 1, 2], [3, 1, 2], [3, 1, 2], [2, 6, 2], [2, 6, 2], [2, 6, 2], [2, 6, 2], [2, 6, 2], [2, 6, 2], [3, 4], [3, 4], [3, 2], [3, 2], [1, 2], [1, 2], [3, 6, 1, 2], [3, 6, 1, 2], [3, 6, 1, 2], [3, 6, 1, 2], [3, 1, 2], [3, 1, 2], [3, 1, 2], [3, 2], [3, 2], [1, 2], [1, 2], [3, 3, 1, 4], [3, 3, 1, 4], [3, 3, 1, 4], [3, 3, 1, 4], [3, 1, 1, 2], [3, 1, 1, 2], [3, 1, 1, 2], [3, 1, 1, 2], [3, 1, 2, 7, 1], [3, 1, 2, 7, 1], [3, 1, 2, 7, 1], [3, 1, 2, 7, 1], [3, 1, 2, 7, 1], [3, 1, 2], [3, 1, 2], [3, 1, 2], [3, 1, 2], [3, 1, 2], [3, 1, 2], [3, 1, 4], [3, 1, 4], [3, 1, 4], [3, 1, 2], [3, 1, 2], [3, 1, 2], [3, 2], [3, 2], [3, 1, 1, 2], [3, 1, 1, 2], [3, 1, 1, 2], [3, 1, 1, 2], [3, 1, 1, 2], [3, 1, 1, 2], [3, 1, 1, 2], [3, 1, 1, 2], [3, 2], [3, 2], [3, 1, 1, 4], [3, 1, 1, 4], [3, 1, 1, 4], [3, 1, 1, 4], [1, 2], [1, 2], [1, 4, 6, 1, 4], [1, 4, 6, 1, 4], [1, 4, 6, 1, 4], [1, 4, 6, 1, 4], [1, 4, 6, 1, 4], [1, 1, 2, 7], [1, 1, 2, 7], [1, 1, 2, 7], [1, 1, 2, 7], [3, 2], [3, 2], [3, 2, 10, 4], [3, 2, 10, 4], [3, 2, 10, 4], [3, 2, 10, 4], [2], [3, 1, 2], [3, 1, 2], [3, 1, 2], [5, 2, 3], [5, 2, 3], [5, 2, 3], [5, 3, 1, 2], [5, 3, 1, 2], [5, 3, 1, 2], [5, 3, 1, 2], [3, 1, 2, 3], [3, 1, 2, 3], [3, 1, 2, 3], [3, 1, 2, 3], [1, 2], [1, 2], [2, 3], [2, 3], [1, 1, 2], [1, 1, 2], [1, 1, 2], [3, 1, 2], [3, 1, 2], [3, 1, 2], [1, 1, 2, 3], [1, 1, 2, 3], [1, 1, 2, 3], [1, 1, 2, 3], [2, 3], [2, 3], [5, 2, 3], [5, 2, 3], [5, 2, 3], [3, 6, 2], [3, 6, 2], [3, 6, 2], [3, 1, 2, 10, 4, 3], [3, 1, 2, 10, 4, 3], [3, 1, 2, 10, 4, 3], [3, 1, 2, 10, 4, 3], [3, 1, 2, 10, 4, 3], [3, 1, 2, 10, 4, 3], [1, 1, 2], [1, 1, 2], [1, 1, 2], [1, 3, 1, 2], [1, 3, 1, 2], [1, 3, 1, 2], [1, 3, 1, 2], [1, 1, 2], [1, 1, 2], [1, 1, 2], [1, 4], [1, 4], [3, 2], [3, 2], [1, 1, 2], [1, 1, 2], [1, 1, 2], [3, 10, 3], [3, 10, 3], [3, 10, 3], [3, 4], [3, 4], [3, 1, 1, 2], [3, 1, 1, 2], [3, 1, 1, 2], [3, 1, 1, 2], [3, 1, 2], [3, 1, 2], [3, 1, 2], [2, 6, 2], [2, 6, 2], [2, 6, 2], [5, 2, 3], [5, 2, 3], [5, 2, 3], [3, 1, 4], [3, 1, 4], [3, 1, 4], [3, 1, 1, 1, 4], [3, 1, 1, 1, 4], [3, 1, 1, 1, 4], [3, 1, 1, 1, 4], [3, 1, 1, 1, 4], [2, 3], [2, 3], [2, 3, 2], [2, 3, 2], [2, 3, 2], [3, 1, 2], [3, 1, 2], [3, 1, 2], [2, 3], [2, 3], [6, 2], [6, 2], [6, 1, 1, 2], [6, 1, 1, 2], [6, 1, 1, 2], [6, 1, 1, 2], [6, 1, 1, 2], [6, 1, 1, 2], [6, 1, 1, 2], [6, 1, 1, 2], [6, 1, 2], [6, 1, 2], [6, 1, 2], [6, 1, 1, 2], [6, 1, 1, 2], [6, 1, 1, 2], [6, 1, 1, 2], [1, 2, 3], [1, 2, 3], [1, 2, 3], [2, 6, 2], [2, 6, 2], [2, 6, 2], [3, 10, 9, 1, 2], [3, 10, 9, 1, 2], [3, 10, 9, 1, 2], [3, 10, 9, 1, 2], [3, 10, 9, 1, 2], [3, 1, 4], [3, 1, 4], [3, 1, 4], [3, 1, 2], [3, 1, 2], [3, 1, 2], [1, 2], [1, 2], [5, 2], [5, 2], [1, 1, 1, 1, 2], [1, 1, 1, 1, 2], [1, 1, 1, 1, 2], [1, 1, 1, 1, 2], [1, 1, 1, 1, 2], [1, 2], [1, 2], [1, 4], [1, 4], [2], [8, 4], [8, 4], [1, 2], [1, 2], [1, 1, 2], [1, 1, 2], [1, 1, 2], [1, 2], [1, 2], [1, 4], [1, 4], [1, 2], [1, 2], [1, 1, 4], [1, 1, 4], [1, 1, 4], [1, 2], [1, 2], [1, 1, 2], [1, 1, 2], [1, 1, 2], [4], [1, 2], [1, 2], [1, 1, 2], [1, 1, 2], [1, 1, 2], [5, 3, 9], [5, 3, 9], [5, 3, 9], [5, 1, 2], [5, 1, 2], [5, 1, 2], [1, 2], [1, 2], [1, 2], [1, 2], [1, 2], [1, 2], [1, 4], [1, 4], [1, 2], [1, 2], [1, 2], [1, 2], [1, 1, 1, 2], [1, 1, 1, 2], [1, 1, 1, 2], [1, 1, 1, 2], [1, 2], [1, 2], [1, 2], [1, 2], [1, 2], [1, 2], [1, 1, 2], [1, 1, 2], [1, 1, 2], [1, 2], [1, 2], [1, 1, 2], [1, 1, 2], [1, 1, 2], [1, 2], [1, 2], [1, 2], [1, 2], [1, 2], [1, 2], [1, 2], [1, 2], [1, 2], [1, 2], [1, 2], [1, 2], [1, 2], [1, 2], [1, 2, 6], [1, 2, 6], [1, 2, 6], [1, 2], [1, 2], [1, 2], [1, 2], [1, 1, 4], [1, 1, 4], [1, 1, 4], [1, 2], [1, 2], [1, 1, 2], [1, 1, 2], [1, 1, 2], [1, 4], [1, 4], [1, 2], [1, 2], [1, 2], [1, 2], [1, 2], [1, 2], [1, 2], [1, 2], [1, 2], [1, 2], [1, 2], [1, 2], [1, 1, 2], [1, 1, 2], [1, 1, 2], [2], [1, 1, 2], [1, 1, 2], [1, 1, 2], [1, 1, 2], [1, 1, 2], [1, 1, 2], [1, 2], [1, 2], [1, 2], [1, 2], [1, 2], [1, 2], [1, 2], [1, 2], [1, 4], [1, 4], [3, 6, 2], [3, 6, 2], [3, 6, 2], [1, 2], [1, 2], [2], [3, 4], [3, 4], [1, 2], [1, 2], [1, 2], [1, 2], [1, 1, 2], [1, 1, 2], [1, 1, 2], [1, 2, 7], [1, 2, 7], [1, 2, 7], [3, 1, 2], [3, 1, 2], [3, 1, 2], [1, 2], [1, 2], [1, 2], [1, 2], [1, 2], [1, 2], [1, 2], [1, 2], [2], [1, 2], [1, 2], [2], [1, 2], [1, 2], [1, 2], [1, 2], [1, 2], [1, 2], [1, 2], [1, 2], [1, 2], [1, 2], [1, 2], [1, 2], [1, 1, 2], [1, 1, 2], [1, 1, 2], [1, 1, 2], [1, 1, 2], [1, 1, 2], [1, 4], [1, 4], [3, 2], [3, 2], [2], [1, 1, 4], [1, 1, 4], [1, 1, 4], [6, 2], [6, 2], [1, 2], [1, 2], [2], [1, 1, 2], [1, 1, 2], [1, 1, 2], [1, 1, 2], [1, 1, 2], [1, 1, 2], [1, 1, 2], [1, 1, 2], [1, 1, 2], [2], [1, 2], [1, 2], [2], [1, 2], [1, 2], [1, 1, 2], [1, 1, 2], [1, 1, 2], [1, 1, 2], [1, 1, 2], [1, 1, 2], [1, 1, 2], [1, 1, 2], [1, 1, 2], [1, 2], [1, 2], [1, 2], [1, 2], [2], [1, 2], [1, 2], [1], [1, 2], [1, 2], [1, 2], [1, 2], [2], [1, 1, 2], [1, 1, 2], [1, 1, 2], [2], [3, 2], [3, 2], [3, 1], [3, 1], [3, 1], [3, 1], [2], [1, 2, 7], [1, 2, 7], [1, 2, 7], [1, 1, 2], [1, 1, 2], [1, 1, 2], [1, 2], [1, 2], [1, 2], [1, 2], [4], [1, 2], [1, 2], [1, 1, 1, 4, 7, 2], [1, 1, 1, 4, 7, 2], [1, 1, 1, 4, 7, 2], [1, 1, 1, 4, 7, 2], [1, 1, 1, 4, 7, 2], [1, 1, 1, 4, 7, 2], [1, 2], [1, 2], [1, 2], [1, 2], [1, 2], [1, 2], [1, 1, 1, 2], [1, 1, 1, 2], [1, 1, 1, 2], [1, 1, 1, 2], [1, 2], [1, 2], [3], [5, 1, 1, 2], [5, 1, 1, 2], [5, 1, 1, 2], [5, 1, 1, 2], [1, 2], [1, 2], [1, 1, 4], [1, 1, 4], [1, 1, 4], [1, 4, 6, 2], [1, 4, 6, 2], [1, 4, 6, 2], [1, 4, 6, 2], [1, 1, 2], [1, 1, 2], [1, 1, 2], [1, 1, 2], [1, 1, 2], [1, 1, 2], [1, 1, 4], [1, 1, 4], [1, 1, 4], [1, 2], [1, 2], [1, 2], [1, 2], [1, 1, 4], [1, 1, 4], [1, 1, 4], [1, 4], [1, 4], [1, 1, 4], [1, 1, 4], [1, 1, 4], [1, 4], [1, 4], [1, 2], [1, 2], [1, 2], [1, 2], [1, 4], [1, 4], [1, 1, 2], [1, 1, 2], [1, 1, 2], [1, 4], [1, 4], [1, 1, 2], [1, 1, 2], [1, 1, 2], [1, 2], [1, 2], [1, 2], [1, 2], [1, 2], [1, 2], [1, 1, 4], [1, 1, 4], [1, 1, 4], [1, 4], [1, 4], [1, 4], [1, 4], [1, 4], [1, 4], [1, 2], [1, 2], [6, 2], [6, 2], [1, 1, 4], [1, 1, 4], [1, 1, 4], [1, 4], [1, 4], [1, 2], [1, 2], [1, 2], [1, 2], [1, 2], [1, 2], [1, 2], [1, 2], [1, 2], [1, 2], [2], [1, 4], [1, 4], [5, 1, 2, 7], [5, 1, 2, 7], [5, 1, 2, 7], [5, 1, 2, 7], [1, 1, 2], [1, 1, 2], [1, 1, 2], [1, 2], [1, 2], [1, 2], [1, 2], [1, 2], [1, 2], [2, 3, 1, 2], [2, 3, 1, 2], [2, 3, 1, 2], [2, 3, 1, 2], [3], [1, 1, 4], [1, 1, 4], [1, 1, 4], [1, 2], [1, 2], [2, 3], [2, 3], [5, 2], [5, 2], [1, 2], [1, 2], [1, 2], [1, 2], [6, 2], [6, 2], [1, 2], [1, 2], [1, 1, 2], [1, 1, 2], [1, 1, 2], [2, 3, 1], [2, 3, 1], [2, 3, 1], [1, 1, 2], [1, 1, 2], [1, 1, 2], [3, 2], [3, 2], [2], [1, 2], [1, 2], [1, 2], [1, 2], [4], [2], [1, 1, 2], [1, 1, 2], [1, 1, 2], [1, 1, 2], [1, 1, 2], [1, 1, 2], [1, 2, 6, 4], [1, 2, 6, 4], [1, 2, 6, 4], [1, 2, 6, 4], [1, 2], [1, 2], [2], [2], [1, 2], [1, 2], [1, 2], [1, 2], [1, 2], [1, 2], [1, 4], [1, 4], [1, 1, 2], [1, 1, 2], [1, 1, 2], [1, 2], [1, 2], [1, 2], [1, 2], [1, 2], [1, 2], [1, 1, 4], [1, 1, 4], [1, 1, 4], [1, 2], [1, 2], [1, 2], [1, 2], [3], [1, 2], [1, 2], [4], [1, 2], [1, 2], [1, 2], [1, 2], [2, 6, 2], [2, 6, 2], [2, 6, 2], [1, 2], [1, 2], [3, 1, 4], [3, 1, 4], [3, 1, 4], [1, 1, 1, 2], [1, 1, 1, 2], [1, 1, 1, 2], [1, 1, 1, 2], [1, 1, 4], [1, 1, 4], [1, 1, 4], [1, 2], [1, 2], [1, 2], [1, 2], [1, 2], [1, 2], [1, 1, 2], [1, 1, 2], [1, 1, 2], [4], [1, 2], [1, 2], [1, 4], [1, 4], [2, 6, 1, 2], [2, 6, 1, 2], [2, 6, 1, 2], [2, 6, 1, 2], [1, 1, 2], [1, 1, 2], [1, 1, 2], [1, 2], [1, 2], [1, 2], [1, 2], [1, 4], [1, 4], [1, 2], [1, 2], [1, 1, 1, 2], [1, 1, 1, 2], [1, 1, 1, 2], [1, 1, 1, 2], [1, 2], [1, 2], [2], [1, 1, 2], [1, 1, 2], [1, 1, 2], [1, 2], [1, 2], [1, 2], [1, 2], [3, 2], [3, 2], [2, 7, 2], [2, 7, 2], [2, 7, 2], [2], [1, 2], [1, 2], [1, 2], [1, 2], [8, 2], [8, 2], [1, 2], [1, 2], [1, 2], [1, 2], [1, 2], [1, 2], [4, 6, 3, 1, 2], [4, 6, 3, 1, 2], [4, 6, 3, 1, 2], [4, 6, 3, 1, 2], [4, 6, 3, 1, 2], [2, 6, 2], [2, 6, 2], [2, 6, 2], [1, 2], [1, 2], [1, 2], [1, 2], [1, 1, 2], [1, 1, 2], [1, 1, 2], [1, 2], [1, 2], [2], [3, 4, 7], [3, 4, 7], [3, 4, 7], [3, 4], [3, 4], [1, 2], [1, 2], [3, 6], [3, 6], [1, 2], [1, 2], [3, 2], [3, 2], [3, 3, 1, 2], [3, 3, 1, 2], [3, 3, 1, 2], [3, 3, 1, 2], [1, 1, 2], [1, 1, 2], [1, 1, 2], [1, 2], [1, 2], [3, 2], [3, 2], [1, 2], [1, 2], [1, 4], [1, 4], [1, 1, 2], [1, 1, 2], [1, 1, 2], [1, 4], [1, 4], [1, 2, 2], [1, 2, 2], [1, 2, 2]]\n",
            "Total number of tagged identifers: 3550\n",
            "Vocabulary size: 1582\n",
            "Total number of tags: 10\n"
          ]
        }
      ]
    },
    {
      "cell_type": "code",
      "source": [
        "# lets print some of the data we have so far for reference:\n",
        "print(\"X unseen encoded:\"+str(X_unseen_encoded))\n",
        "print(\"Y unseen encoded:\"+str(Y_unseen_encoded))\n",
        "print(\"Total number of tagged identifers(unseen): \"+str(len(X_unseen)))\n",
        "print(\"Vocabulary size: \"+str(num_unseen_identifiers))\n",
        "print(\"Total number of tags: \"+str(num_unseen_tags))"
      ],
      "metadata": {
        "colab": {
          "base_uri": "https://localhost:8080/"
        },
        "id": "-grg48kghb6i",
        "outputId": "79fe48ba-3bc9-4704-82c2-ae3a7f8a7277"
      },
      "execution_count": null,
      "outputs": [
        {
          "output_type": "stream",
          "name": "stdout",
          "text": [
            "X unseen encoded:[[437, 8], [437, 8], [146], [146, 46], [146, 46], [146, 438], [146, 438], [284, 285, 286], [284, 285, 286], [284, 285, 286], [183, 25, 58, 19], [183, 25, 58, 19], [183, 25, 58, 19], [183, 25, 58, 19], [439, 21], [439, 21], [440, 441], [440, 441], [287, 288, 289], [287, 288, 289], [287, 288, 289], [442, 147], [442, 147], [148, 9], [148, 9], [290, 75, 107], [290, 75, 107], [290, 75, 107], [596], [597], [443, 76], [443, 76], [59, 291, 292], [59, 291, 292], [59, 291, 292], [59, 444], [59, 444], [59, 293, 294], [59, 293, 294], [59, 293, 294], [184, 77, 185, 186], [184, 77, 185, 186], [184, 77, 185, 186], [184, 77, 185, 186], [445, 187], [445, 187], [188, 149], [188, 149], [188, 47], [188, 47], [189, 446], [189, 446], [447, 60], [447, 60], [448, 30], [448, 30], [295, 8, 16], [295, 8, 16], [295, 8, 16], [449, 48], [449, 48], [598], [49, 296, 297], [49, 296, 297], [49, 296, 297], [49, 190, 61, 191], [49, 190, 61, 191], [49, 190, 61, 191], [49, 190, 61, 191], [49, 450], [49, 450], [78, 108, 109], [78, 108, 109], [78, 108, 109], [78, 62, 11, 192], [78, 62, 11, 192], [78, 62, 11, 192], [78, 62, 11, 192], [32, 24, 193, 194], [32, 24, 193, 194], [32, 24, 193, 194], [32, 24, 193, 194], [32, 24, 298], [32, 24, 298], [32, 24, 298], [32, 24, 299], [32, 24, 299], [32, 24, 299], [33, 79, 300], [33, 79, 300], [33, 79, 300], [33, 451], [33, 451], [33, 452], [33, 452], [453, 17], [453, 17], [301, 302, 34], [301, 302, 34], [301, 302, 34], [149, 150, 35], [149, 150, 35], [149, 150, 35], [454, 455], [454, 455], [456, 457], [456, 457], [195, 458], [195, 458], [195, 459], [195, 459], [26, 460], [26, 460], [26, 151], [26, 151], [26, 461], [26, 461], [196, 110, 197, 36], [196, 110, 197, 36], [196, 110, 197, 36], [196, 110, 197, 36], [462, 80], [462, 80], [463, 198], [463, 198], [31, 464], [31, 464], [31, 50], [31, 50], [599], [465, 466], [465, 466], [51, 12, 37], [51, 12, 37], [51, 12, 37], [303, 111, 27], [303, 111, 27], [303, 111, 27], [467, 468], [467, 468], [469, 470], [469, 470], [304, 52, 19], [304, 52, 19], [304, 52, 19], [600], [152, 153, 6, 154, 155], [152, 153, 6, 154, 155], [152, 153, 6, 154, 155], [152, 153, 6, 154, 155], [152, 153, 6, 154, 155], [471, 472], [471, 472], [601], [112], [602], [603], [81, 82, 83, 48, 84, 85, 53], [81, 82, 83, 48, 84, 85, 53], [81, 82, 83, 48, 84, 85, 53], [81, 82, 83, 48, 84, 85, 53], [81, 82, 83, 48, 84, 85, 53], [81, 82, 83, 48, 84, 85, 53], [81, 82, 83, 48, 84, 85, 53], [305, 113, 12], [305, 113, 12], [305, 113, 12], [8, 473], [8, 473], [8, 306, 13], [8, 306, 13], [8, 306, 13], [474, 25], [474, 25], [114, 307, 308], [114, 307, 308], [114, 307, 308], [475, 115], [475, 115], [116, 476], [116, 476], [116, 199, 63, 38], [116, 199, 63, 38], [116, 199, 63, 38], [116, 199, 63, 38], [309, 310, 311], [309, 310, 311], [309, 310, 311], [117, 477], [117, 477], [312, 313, 33], [312, 313, 33], [312, 313, 33], [314, 315, 316], [314, 315, 316], [314, 315, 316], [200, 201, 202, 39], [200, 201, 202, 39], [200, 201, 202, 39], [200, 201, 202, 39], [478, 46], [478, 46], [40, 10, 41, 42, 156], [40, 10, 41, 42, 156], [40, 10, 41, 42, 156], [40, 10, 41, 42, 156], [40, 10, 41, 42, 156], [40, 157, 86, 28, 158], [40, 157, 86, 28, 158], [40, 157, 86, 28, 158], [40, 157, 86, 28, 158], [40, 157, 86, 28, 158], [479, 480], [479, 480], [159, 87, 317], [159, 87, 317], [159, 87, 317], [159, 481], [159, 481], [482, 46], [482, 46], [483, 118], [483, 118], [12, 484], [12, 484], [203, 88, 11, 204], [203, 88, 11, 204], [203, 88, 11, 204], [203, 88, 11, 204], [205, 12], [205, 12], [205, 19], [205, 19], [119, 120, 111], [119, 120, 111], [119, 120, 111], [119, 121, 160], [119, 121, 160], [119, 121, 160], [35, 9], [35, 9], [75, 206, 14, 37], [75, 206, 14, 37], [75, 206, 14, 37], [75, 206, 14, 37], [20, 207], [20, 207], [20, 485], [20, 485], [150, 486], [150, 486], [318, 319, 320], [318, 319, 320], [318, 319, 320], [321, 322, 8], [321, 322, 8], [321, 322, 8], [54, 161], [54, 161], [604], [89, 323, 324], [89, 323, 324], [89, 323, 324], [208, 487], [208, 487], [488, 489], [488, 489], [605], [490, 162], [490, 162], [209, 491], [209, 491], [209, 38], [209, 38], [11, 210, 211, 29], [11, 210, 211, 29], [11, 210, 211, 29], [11, 210, 211, 29], [492, 493], [492, 493], [1, 494], [1, 494], [1, 325, 47], [1, 325, 47], [1, 325, 47], [1, 326, 64], [1, 326, 64], [1, 326, 64], [1, 327, 328], [1, 327, 328], [1, 327, 328], [1, 90, 212, 122], [1, 90, 212, 122], [1, 90, 212, 122], [1, 90, 212, 122], [1, 17, 91, 21], [1, 17, 91, 21], [1, 17, 91, 21], [1, 17, 91, 21], [1, 92, 28, 16], [1, 92, 28, 16], [1, 92, 28, 16], [1, 92, 28, 16], [1, 495], [1, 495], [1, 55], [1, 55], [1, 496], [1, 496], [1, 4, 213, 117], [1, 4, 213, 117], [1, 4, 213, 117], [1, 4, 213, 117], [1, 37], [1, 37], [1, 50, 5, 214], [1, 50, 5, 214], [1, 50, 5, 214], [1, 50, 5, 214], [1, 215, 216, 217], [1, 215, 216, 217], [1, 215, 216, 217], [1, 215, 216, 217], [1, 123, 13], [1, 123, 13], [1, 123, 13], [1, 329, 330], [1, 329, 330], [1, 329, 330], [1, 124, 21], [1, 124, 21], [1, 124, 21], [1, 163, 164], [1, 163, 164], [1, 163, 164], [125, 497], [125, 497], [498, 17], [498, 17], [115, 499], [115, 499], [115, 500], [115, 500], [88], [331, 332, 333], [331, 332, 333], [331, 332, 333], [334, 107, 51], [334, 107, 51], [334, 107, 51], [126, 335, 336], [126, 335, 336], [126, 335, 336], [17, 337, 29], [17, 337, 29], [17, 337, 29], [17, 165], [17, 165], [606], [501, 52], [501, 52], [15], [15, 42], [15, 42], [15, 93, 166, 167, 168], [15, 93, 166, 167, 168], [15, 93, 166, 167, 168], [15, 93, 166, 167, 168], [15, 93, 166, 167, 168], [607], [502, 65], [502, 65], [503, 41], [503, 41], [338, 127, 339], [338, 127, 339], [338, 127, 339], [92, 114, 340], [92, 114, 340], [92, 114, 340], [341, 342, 19], [341, 342, 19], [341, 342, 19], [169], [608], [343, 344, 128], [343, 344, 128], [343, 344, 128], [22, 54, 345], [22, 54, 345], [22, 54, 345], [22, 60, 43, 27, 26, 129], [22, 60, 43, 27, 26, 129], [22, 60, 43, 27, 26, 129], [22, 60, 43, 27, 26, 129], [22, 60, 43, 27, 26, 129], [22, 60, 43, 27, 26, 129], [22, 346, 347], [22, 346, 347], [22, 346, 347], [348, 94, 349], [348, 94, 349], [348, 94, 349], [504, 505], [504, 505], [44, 506], [44, 506], [44, 66, 170], [44, 66, 170], [44, 66, 170], [44, 14, 171, 172, 173], [44, 14, 171, 172, 173], [44, 14, 171, 172, 173], [44, 14, 171, 172, 173], [44, 14, 171, 172, 173], [507, 170], [507, 170], [55, 508], [55, 508], [509, 20], [509, 20], [510, 511], [510, 511], [512, 513], [512, 513], [130, 131, 132, 133, 23, 134], [130, 131, 132, 133, 23, 134], [130, 131, 132, 133, 23, 134], [130, 131, 132, 133, 23, 134], [130, 131, 132, 133, 23, 134], [130, 131, 132, 133, 23, 134], [27, 350, 42], [27, 350, 42], [27, 350, 42], [67, 218], [67, 218], [219, 94, 220, 56], [219, 94, 220, 56], [219, 94, 220, 56], [219, 94, 220, 56], [609], [2, 514], [2, 514], [2, 61, 221, 95], [2, 61, 221, 95], [2, 61, 221, 95], [2, 61, 221, 95], [2, 351, 352], [2, 351, 352], [2, 351, 352], [2, 22, 222, 135], [2, 22, 222, 135], [2, 22, 222, 135], [2, 22, 222, 135], [2, 223, 224, 118], [2, 223, 224, 118], [2, 223, 224, 118], [2, 223, 224, 118], [2, 515], [2, 515], [2, 353, 354], [2, 353, 354], [2, 353, 354], [2, 225, 226, 96], [2, 225, 226, 96], [2, 225, 226, 96], [2, 225, 226, 96], [2, 47, 227, 228], [2, 47, 227, 228], [2, 47, 227, 228], [2, 47, 227, 228], [516, 517], [516, 517], [76, 136, 355], [76, 136, 355], [76, 136, 355], [610], [4, 229, 97, 230], [4, 229, 97, 230], [4, 229, 97, 230], [4, 229, 97, 230], [4, 112], [4, 112], [4, 20, 25], [4, 20, 25], [4, 20, 25], [4, 356, 357], [4, 356, 357], [4, 356, 357], [4, 7, 98], [4, 7, 98], [4, 7, 98], [4, 231, 99, 232], [4, 231, 99, 232], [4, 231, 99, 232], [4, 231, 99, 232], [165, 358, 359], [165, 358, 359], [165, 358, 359], [198, 68], [198, 68], [37], [13, 21, 360], [13, 21, 360], [13, 21, 360], [13, 518], [13, 518], [29, 174], [29, 174], [29, 174, 97], [29, 174, 97], [29, 174, 97], [108, 361, 109], [108, 361, 109], [108, 361, 109], [362, 363, 364], [362, 363, 364], [362, 363, 364], [365, 366, 367], [365, 366, 367], [365, 366, 367], [368, 18, 20], [368, 18, 20], [368, 18, 20], [611], [519, 79], [519, 79], [369, 137, 12], [369, 137, 12], [369, 137, 12], [370, 15, 371], [370, 15, 371], [370, 15, 371], [520, 189], [520, 189], [521, 522], [521, 522], [523, 524], [523, 524], [162, 372, 373], [162, 372, 373], [162, 372, 373], [65, 58], [65, 58], [374, 375, 90], [374, 375, 90], [374, 375, 90], [525, 9], [525, 9], [526, 527], [526, 527], [7, 376, 377], [7, 376, 377], [7, 376, 377], [7, 378, 66], [7, 378, 66], [7, 378, 66], [7, 528], [7, 528], [7, 58], [7, 58], [7, 529], [7, 529], [7, 530], [7, 530], [7, 164], [7, 164], [7, 233, 15, 43], [7, 233, 15, 43], [7, 233, 15, 43], [7, 233, 15, 43], [50, 379, 380], [50, 379, 380], [50, 379, 380], [175, 57], [175, 57], [175, 57, 35], [175, 57, 35], [175, 57, 35], [5, 10, 176, 177, 56], [5, 10, 176, 177, 56], [5, 10, 176, 177, 56], [5, 10, 176, 177, 56], [5, 10, 176, 177, 56], [5, 10, 381], [5, 10, 381], [5, 10, 381], [5, 10, 234, 235], [5, 10, 234, 235], [5, 10, 234, 235], [5, 10, 234, 235], [5, 10, 28], [5, 10, 28], [5, 10, 28], [5, 96, 138], [5, 96, 138], [5, 96, 138], [531, 532], [531, 532], [382, 51, 383], [382, 51, 383], [382, 51, 383], [25, 9, 384], [25, 9, 384], [25, 9, 384], [236, 237, 238, 239], [236, 237, 238, 239], [236, 237, 238, 239], [236, 237, 238, 239], [93, 14], [93, 14], [533, 534], [533, 534], [385, 386, 387], [385, 386, 387], [385, 386, 387], [160, 535], [160, 535], [536, 30], [536, 30], [100, 125, 240, 69], [100, 125, 240, 69], [100, 125, 240, 69], [100, 125, 240, 69], [537, 16], [537, 16], [538, 539], [538, 539], [241, 540], [241, 540], [241, 541], [241, 541], [612], [178, 542], [178, 542], [613], [87, 14, 242, 243], [87, 14, 242, 243], [87, 14, 242, 243], [87, 14, 242, 243], [543, 179], [543, 179], [388, 31, 128], [388, 31, 128], [388, 31, 128], [614], [615], [86, 19], [86, 19], [70, 18, 244, 8], [70, 18, 244, 8], [70, 18, 244, 8], [70, 18, 244, 8], [544, 20], [544, 20], [545, 76], [545, 76], [135, 546], [135, 546], [389, 71, 17], [389, 71, 17], [389, 71, 17], [547, 66], [547, 66], [616], [617], [77, 101, 390], [77, 101, 390], [77, 101, 390], [548, 549], [548, 549], [391, 392, 6], [391, 392, 6], [391, 392, 6], [218, 550], [218, 550], [122, 551], [122, 551], [618], [393, 67, 23], [393, 67, 23], [393, 67, 23], [18, 245, 45, 246], [18, 245, 45, 246], [18, 245, 45, 246], [18, 245, 45, 246], [18, 552], [18, 552], [18, 553], [18, 553], [18, 45, 20], [18, 45, 20], [18, 45, 20], [619], [247, 248, 15, 249], [247, 248, 15, 249], [247, 248, 15, 249], [247, 248, 15, 249], [250, 14, 251, 252], [250, 14, 251, 252], [250, 14, 251, 252], [250, 14, 251, 252], [394, 45, 120], [394, 45, 120], [394, 45, 120], [253, 254, 24, 255], [253, 254, 24, 255], [253, 254, 24, 255], [253, 254, 24, 255], [554, 180], [554, 180], [101, 256, 257, 258], [101, 256, 257, 258], [101, 256, 257, 258], [101, 256, 257, 258], [555, 31], [555, 31], [556, 53], [556, 53], [395, 396, 39], [395, 396, 39], [395, 396, 39], [557, 558], [557, 558], [397, 71, 121], [397, 71, 121], [397, 71, 121], [559, 57], [559, 57], [30, 139], [30, 139], [30, 398, 399], [30, 398, 399], [30, 398, 399], [30, 140], [30, 140], [102, 5, 65, 139], [102, 5, 65, 139], [102, 5, 65, 139], [102, 5, 65, 139], [72, 400, 36], [72, 400, 36], [72, 400, 36], [72, 401, 36], [72, 401, 36], [72, 401, 36], [72, 64], [72, 64], [103, 35], [103, 35], [103, 91, 9], [103, 91, 9], [103, 91, 9], [103, 560], [103, 560], [259, 104, 260, 21], [259, 104, 260, 21], [259, 104, 260, 21], [259, 104, 260, 21], [561, 562], [561, 562], [141, 63, 261, 70], [141, 63, 261, 70], [141, 63, 261, 70], [141, 63, 261, 70], [141, 563], [141, 563], [68, 262, 73, 6], [68, 262, 73, 6], [68, 262, 73, 6], [68, 262, 73, 6], [402, 403, 404], [402, 403, 404], [402, 403, 404], [147, 112, 179], [147, 112, 179], [147, 112, 179], [564, 565], [564, 565], [405, 180, 55], [405, 180, 55], [405, 180, 55], [62, 181], [62, 181], [566, 263], [566, 263], [57, 567], [57, 567], [3, 73, 264, 265], [3, 73, 264, 265], [3, 73, 264, 265], [3, 73, 264, 265], [3, 568], [3, 568], [3, 406, 407], [3, 406, 407], [3, 406, 407], [3, 41, 408], [3, 41, 408], [3, 41, 408], [3, 11, 266, 98], [3, 11, 266, 98], [3, 11, 266, 98], [3, 11, 266, 98], [3, 123, 13], [3, 123, 13], [3, 123, 13], [3, 409, 410], [3, 409, 410], [3, 409, 410], [3, 569], [3, 569], [3, 104, 161], [3, 104, 161], [3, 104, 161], [620], [267, 268, 269, 140], [267, 268, 269, 140], [267, 268, 269, 140], [267, 268, 269, 140], [270, 271, 272, 69], [270, 271, 272, 69], [270, 271, 272, 69], [270, 271, 272, 69], [16, 570], [16, 570], [16, 273, 54, 105], [16, 273, 54, 105], [16, 273, 54, 105], [16, 273, 54, 105], [571, 31], [571, 31], [274, 275, 8, 52], [274, 275, 8, 52], [274, 275, 8, 52], [274, 275, 8, 52], [124], [124, 142], [124, 142], [621], [411, 4, 67], [411, 4, 67], [411, 4, 67], [412, 413, 181], [412, 413, 181], [412, 413, 181], [414, 99, 415], [414, 99, 415], [414, 99, 415], [622], [623], [71, 88], [71, 88], [572, 573], [572, 573], [574, 143], [574, 143], [144, 89, 6, 276], [144, 89, 6, 276], [144, 89, 6, 276], [144, 89, 6, 276], [144, 163], [144, 163], [80, 13], [80, 13], [80, 13, 416], [80, 13, 416], [80, 13, 416], [575, 9], [575, 9], [624], [417, 151, 418], [417, 151, 418], [417, 151, 418], [419, 420, 421], [419, 420, 421], [419, 420, 421], [576, 208], [576, 208], [577, 17], [577, 17], [578, 9], [578, 9], [625], [113, 148, 16], [113, 148, 16], [113, 148, 16], [6, 62], [6, 62], [6, 579], [6, 579], [422, 423, 424], [422, 423, 424], [422, 423, 424], [580, 207], [580, 207], [277, 278, 279, 143], [277, 278, 279, 143], [277, 278, 279, 143], [277, 278, 279, 143], [581, 582], [581, 582], [187, 583], [187, 583], [425, 178, 12], [425, 178, 12], [425, 178, 12], [584, 110], [584, 110], [585, 182], [585, 182], [280, 38, 281, 282], [280, 38, 281, 282], [280, 38, 281, 282], [280, 38, 281, 282], [426, 11, 136], [426, 11, 136], [426, 11, 136], [626], [105, 427, 95], [105, 427, 95], [105, 427, 95], [283, 23, 169, 142], [283, 23, 169, 142], [283, 23, 169, 142], [283, 23, 169, 142], [145, 9, 102], [145, 9, 102], [145, 9, 102], [145, 428, 64], [145, 428, 64], [145, 428, 64], [106, 46, 19], [106, 46, 19], [106, 46, 19], [106, 586], [106, 586], [106, 55], [106, 55], [587, 588], [587, 588], [589, 590], [589, 590], [429, 430, 39], [429, 430, 39], [429, 430, 39], [591, 74], [591, 74], [431, 137, 12], [431, 137, 12], [431, 137, 12], [263, 79], [263, 79], [432, 127, 138], [432, 127, 138], [432, 127, 138], [182, 433, 434], [182, 433, 434], [182, 433, 434], [435, 6, 436], [435, 6, 436], [435, 6, 436], [592, 9], [592, 9], [74, 23], [74, 23], [74, 593], [74, 593], [74, 68], [74, 68], [34, 100, 126], [34, 100, 126], [34, 100, 126], [34, 594], [34, 594], [34, 595], [34, 595]]\n",
            "Y unseen encoded:[[1, 2], [1, 2], [2], [1, 2], [1, 2], [1, 2], [1, 2], [1, 1, 2], [1, 1, 2], [1, 1, 2], [8, 1, 1, 2], [8, 1, 1, 2], [8, 1, 1, 2], [8, 1, 1, 2], [1, 2], [1, 2], [1, 2], [1, 2], [3, 1, 4], [3, 1, 4], [3, 1, 4], [1, 2], [1, 2], [1, 2], [1, 2], [1, 1, 2], [1, 1, 2], [1, 1, 2], [4], [2], [1, 2], [1, 2], [6, 3, 9], [6, 3, 9], [6, 3, 9], [6, 2], [6, 2], [6, 1, 2], [6, 1, 2], [6, 1, 2], [6, 3, 1, 2], [6, 3, 1, 2], [6, 3, 1, 2], [6, 3, 1, 2], [1, 2], [1, 2], [1, 2], [1, 2], [1, 2], [1, 2], [1, 4], [1, 4], [1, 2], [1, 2], [1, 2], [1, 2], [1, 1, 2], [1, 1, 2], [1, 1, 2], [1, 2], [1, 2], [2], [6, 1, 2], [6, 1, 2], [6, 1, 2], [6, 1, 1, 2], [6, 1, 1, 2], [6, 1, 1, 2], [6, 1, 1, 2], [6, 2], [6, 2], [3, 1, 2], [3, 1, 2], [3, 1, 2], [3, 2, 5, 4], [3, 2, 5, 4], [3, 2, 5, 4], [3, 2, 5, 4], [6, 1, 1, 2], [6, 1, 1, 2], [6, 1, 1, 2], [6, 1, 1, 2], [6, 1, 2], [6, 1, 2], [6, 1, 2], [6, 1, 2], [6, 1, 2], [6, 1, 2], [1, 2, 1], [1, 2, 1], [1, 2, 1], [1, 2], [1, 2], [1, 2], [1, 2], [1, 2], [1, 2], [1, 1, 2], [1, 1, 2], [1, 1, 2], [1, 1, 2], [1, 1, 2], [1, 1, 2], [1, 2], [1, 2], [1, 2], [1, 2], [3, 2], [3, 2], [3, 2], [3, 2], [1, 4], [1, 4], [1, 2], [1, 2], [1, 2], [1, 2], [1, 1, 1, 4], [1, 1, 1, 4], [1, 1, 1, 4], [1, 1, 1, 4], [1, 2], [1, 2], [1, 2], [1, 2], [1, 4], [1, 4], [1, 2], [1, 2], [2], [1, 2], [1, 2], [1, 1, 2], [1, 1, 2], [1, 1, 2], [1, 1, 2], [1, 1, 2], [1, 1, 2], [1, 2], [1, 2], [1, 4], [1, 4], [1, 1, 2], [1, 1, 2], [1, 1, 2], [4], [3, 2, 8, 1, 2], [3, 2, 8, 1, 2], [3, 2, 8, 1, 2], [3, 2, 8, 1, 2], [3, 2, 8, 1, 2], [1, 4], [1, 4], [2], [2], [4], [4], [1, 1, 1, 1, 1, 1, 2], [1, 1, 1, 1, 1, 1, 2], [1, 1, 1, 1, 1, 1, 2], [1, 1, 1, 1, 1, 1, 2], [1, 1, 1, 1, 1, 1, 2], [1, 1, 1, 1, 1, 1, 2], [1, 1, 1, 1, 1, 1, 2], [1, 1, 2], [1, 1, 2], [1, 1, 2], [1, 2], [1, 2], [1, 1, 2], [1, 1, 2], [1, 1, 2], [1, 2], [1, 2], [1, 2, 3], [1, 2, 3], [1, 2, 3], [1, 2], [1, 2], [1, 2], [1, 2], [1, 2, 5, 2], [1, 2, 5, 2], [1, 2, 5, 2], [1, 2, 5, 2], [3, 2, 1], [3, 2, 1], [3, 2, 1], [1, 2], [1, 2], [1, 1, 2], [1, 1, 2], [1, 1, 2], [3, 1, 2], [3, 1, 2], [3, 1, 2], [1, 1, 1, 2], [1, 1, 1, 2], [1, 1, 1, 2], [1, 1, 1, 2], [1, 2], [1, 2], [6, 6, 1, 1, 2], [6, 6, 1, 1, 2], [6, 6, 1, 1, 2], [6, 6, 1, 1, 2], [6, 6, 1, 1, 2], [6, 3, 1, 1, 2], [6, 3, 1, 1, 2], [6, 3, 1, 1, 2], [6, 3, 1, 1, 2], [6, 3, 1, 1, 2], [3, 4], [3, 4], [1, 1, 4], [1, 1, 4], [1, 1, 4], [1, 4], [1, 4], [1, 2], [1, 2], [1, 2], [1, 2], [1, 4], [1, 4], [3, 4, 5, 2], [3, 4, 5, 2], [3, 4, 5, 2], [3, 4, 5, 2], [1, 2], [1, 2], [1, 2], [1, 2], [1, 1, 2], [1, 1, 2], [1, 1, 2], [6, 1, 2], [6, 1, 2], [6, 1, 2], [1, 2], [1, 2], [3, 4, 5, 2], [3, 4, 5, 2], [3, 4, 5, 2], [3, 4, 5, 2], [1, 2], [1, 2], [1, 2], [1, 2], [1, 2], [1, 2], [3, 1, 2], [3, 1, 2], [3, 1, 2], [1, 1, 4], [1, 1, 4], [1, 1, 4], [1, 2], [1, 2], [2], [1, 1, 2], [1, 1, 2], [1, 1, 2], [1, 4], [1, 4], [3, 2], [3, 2], [2], [1, 2], [1, 2], [1, 4], [1, 4], [1, 2], [1, 2], [5, 1, 1, 2], [5, 1, 1, 2], [5, 1, 1, 2], [5, 1, 1, 2], [1, 2], [1, 2], [3, 4], [3, 4], [3, 1, 2], [3, 1, 2], [3, 1, 2], [3, 1, 4], [3, 1, 4], [3, 1, 4], [3, 1, 2], [3, 1, 2], [3, 1, 2], [3, 1, 1, 2], [3, 1, 1, 2], [3, 1, 1, 2], [3, 1, 1, 2], [3, 2, 5, 2], [3, 2, 5, 2], [3, 2, 5, 2], [3, 2, 5, 2], [3, 1, 1, 2], [3, 1, 1, 2], [3, 1, 1, 2], [3, 1, 1, 2], [3, 2], [3, 2], [3, 2], [3, 2], [3, 2], [3, 2], [3, 1, 1, 2], [3, 1, 1, 2], [3, 1, 1, 2], [3, 1, 1, 2], [3, 2], [3, 2], [3, 2, 5, 4], [3, 2, 5, 4], [3, 2, 5, 4], [3, 2, 5, 4], [3, 2, 8, 4], [3, 2, 8, 4], [3, 2, 8, 4], [3, 2, 8, 4], [1, 1, 2], [1, 1, 2], [1, 1, 2], [3, 1, 4], [3, 1, 4], [3, 1, 4], [1, 1, 2], [1, 1, 2], [1, 1, 2], [3, 1, 4], [3, 1, 4], [3, 1, 4], [1, 2], [1, 2], [1, 2], [1, 2], [1, 2], [1, 2], [2, 1], [2, 1], [4], [1, 1, 2], [1, 1, 2], [1, 1, 2], [1, 1, 2], [1, 1, 2], [1, 1, 2], [1, 1, 2], [1, 1, 2], [1, 1, 2], [1, 1, 2], [1, 1, 2], [1, 1, 2], [2, 1], [2, 1], [2], [1, 2], [1, 2], [2], [1, 2], [1, 2], [5, 2, 1, 1, 2], [5, 2, 1, 1, 2], [5, 2, 1, 1, 2], [5, 2, 1, 1, 2], [5, 2, 1, 1, 2], [1], [1, 1], [1, 1], [1, 2], [1, 2], [1, 1, 2], [1, 1, 2], [1, 1, 2], [1, 1, 4], [1, 1, 4], [1, 1, 4], [1, 1, 2], [1, 1, 2], [1, 1, 2], [1], [1], [1, 1, 2], [1, 1, 2], [1, 1, 2], [3, 1, 2], [3, 1, 2], [3, 1, 2], [3, 2, 8, 1, 1, 2], [3, 2, 8, 1, 1, 2], [3, 2, 8, 1, 1, 2], [3, 2, 8, 1, 1, 2], [3, 2, 8, 1, 1, 2], [3, 2, 8, 1, 1, 2], [3, 2, 1], [3, 2, 1], [3, 2, 1], [6, 1, 2], [6, 1, 2], [6, 1, 2], [3, 2], [3, 2], [1, 2], [1, 2], [1, 1, 2], [1, 1, 2], [1, 1, 2], [2, 5, 2, 9, 3], [2, 5, 2, 9, 3], [2, 5, 2, 9, 3], [2, 5, 2, 9, 3], [2, 5, 2, 9, 3], [1, 2], [1, 2], [1, 2], [1, 2], [1, 2], [1, 2], [1, 2], [1, 2], [1, 2], [1, 2], [1, 1, 1, 4, 7, 2], [1, 1, 1, 4, 7, 2], [1, 1, 1, 4, 7, 2], [1, 1, 1, 4, 7, 2], [1, 1, 1, 4, 7, 2], [1, 1, 1, 4, 7, 2], [1, 1, 2], [1, 1, 2], [1, 1, 2], [1, 2], [1, 2], [1, 1, 1, 2], [1, 1, 1, 2], [1, 1, 1, 2], [1, 1, 1, 2], [2], [6, 2], [6, 2], [6, 1, 2, 7], [6, 1, 2, 7], [6, 1, 2, 7], [6, 1, 2, 7], [6, 1, 2], [6, 1, 2], [6, 1, 2], [6, 3, 1, 2], [6, 3, 1, 2], [6, 3, 1, 2], [6, 3, 1, 2], [6, 1, 1, 2], [6, 1, 1, 2], [6, 1, 1, 2], [6, 1, 1, 2], [6, 2], [6, 2], [6, 2, 1], [6, 2, 1], [6, 2, 1], [6, 1, 1, 2], [6, 1, 1, 2], [6, 1, 1, 2], [6, 1, 1, 2], [6, 1, 1, 4], [6, 1, 1, 4], [6, 1, 1, 4], [6, 1, 1, 4], [3, 2], [3, 2], [3, 1, 2], [3, 1, 2], [3, 1, 2], [4], [1, 1, 4, 1], [1, 1, 4, 1], [1, 1, 4, 1], [1, 1, 4, 1], [1, 2], [1, 2], [1, 2, 1], [1, 2, 1], [1, 2, 1], [1, 1, 4], [1, 1, 4], [1, 1, 4], [1, 1, 4], [1, 1, 4], [1, 1, 4], [1, 4, 5, 2], [1, 4, 5, 2], [1, 4, 5, 2], [1, 4, 5, 2], [1, 1, 2], [1, 1, 2], [1, 1, 2], [1, 2], [1, 2], [2], [1, 1, 4], [1, 1, 4], [1, 1, 4], [1, 2], [1, 2], [1, 2], [1, 2], [1, 1, 4], [1, 1, 4], [1, 1, 4], [1, 1, 2], [1, 1, 2], [1, 1, 2], [1, 1, 2], [1, 1, 2], [1, 1, 2], [1, 1, 2], [1, 1, 2], [1, 1, 2], [6, 1, 2], [6, 1, 2], [6, 1, 2], [2], [1, 2], [1, 2], [1, 1, 2], [1, 1, 2], [1, 1, 2], [3, 5, 2], [3, 5, 2], [3, 5, 2], [1, 2], [1, 2], [1, 2], [1, 2], [2, 3], [2, 3], [1, 1, 2], [1, 1, 2], [1, 1, 2], [1, 4], [1, 4], [3, 1, 2], [3, 1, 2], [3, 1, 2], [1, 2], [1, 2], [4, 1], [4, 1], [1, 1, 4], [1, 1, 4], [1, 1, 4], [1, 1, 4], [1, 1, 4], [1, 1, 4], [1, 4], [1, 4], [1, 4], [1, 4], [1, 4], [1, 4], [1, 2], [1, 2], [1, 4], [1, 4], [1, 4, 5, 2], [1, 4, 5, 2], [1, 4, 5, 2], [1, 4, 5, 2], [1, 1, 4], [1, 1, 4], [1, 1, 4], [1, 2], [1, 2], [1, 1, 2], [1, 1, 2], [1, 1, 2], [6, 1, 1, 1, 2], [6, 1, 1, 1, 2], [6, 1, 1, 1, 2], [6, 1, 1, 1, 2], [6, 1, 1, 1, 2], [6, 1, 2], [6, 1, 2], [6, 1, 2], [6, 1, 1, 2], [6, 1, 1, 2], [6, 1, 1, 2], [6, 1, 1, 2], [6, 1, 2], [6, 1, 2], [6, 1, 2], [6, 1, 2], [6, 1, 2], [6, 1, 2], [1, 2], [1, 2], [1, 1, 2], [1, 1, 2], [1, 1, 2], [1, 1, 4], [1, 1, 4], [1, 1, 4], [3, 1, 1, 2], [3, 1, 1, 2], [3, 1, 1, 2], [3, 1, 1, 2], [3, 5], [3, 5], [1, 2], [1, 2], [1, 1, 4], [1, 1, 4], [1, 1, 4], [1, 2], [1, 2], [1, 2], [1, 2], [6, 1, 2, 7], [6, 1, 2, 7], [6, 1, 2, 7], [6, 1, 2, 7], [1, 2], [1, 2], [1, 2], [1, 2], [1, 2], [1, 2], [1, 2], [1, 2], [2], [3, 4], [3, 4], [2], [2, 5, 1, 4], [2, 5, 1, 4], [2, 5, 1, 4], [2, 5, 1, 4], [1, 4], [1, 4], [1, 1, 2], [1, 1, 2], [1, 1, 2], [2], [4], [1, 2], [1, 2], [1, 3, 1, 2], [1, 3, 1, 2], [1, 3, 1, 2], [1, 3, 1, 2], [1, 2], [1, 2], [5, 2], [5, 2], [1, 2], [1, 2], [1, 1, 2], [1, 1, 2], [1, 1, 2], [1, 4], [1, 4], [4], [2], [3, 2, 9], [3, 2, 9], [3, 2, 9], [1, 2], [1, 2], [1, 2, 5], [1, 2, 5], [1, 2, 5], [1, 2], [1, 2], [1, 2], [1, 2], [2], [1, 2, 7], [1, 2, 7], [1, 2, 7], [3, 1, 1, 2], [3, 1, 1, 2], [3, 1, 1, 2], [3, 1, 1, 2], [3, 2], [3, 2], [3, 2], [3, 2], [3, 1, 2], [3, 1, 2], [3, 1, 2], [2], [1, 2, 5, 4], [1, 2, 5, 4], [1, 2, 5, 4], [1, 2, 5, 4], [3, 5, 1, 2], [3, 5, 1, 2], [3, 5, 1, 2], [3, 5, 1, 2], [1, 1, 2], [1, 1, 2], [1, 1, 2], [3, 2, 5, 2], [3, 2, 5, 2], [3, 2, 5, 2], [3, 2, 5, 2], [1, 2], [1, 2], [3, 1, 1, 2], [3, 1, 1, 2], [3, 1, 1, 2], [3, 1, 1, 2], [1, 2], [1, 2], [1, 2], [1, 2], [1, 1, 2], [1, 1, 2], [1, 1, 2], [1, 2], [1, 2], [1, 1, 2], [1, 1, 2], [1, 1, 2], [1, 2], [1, 2], [1, 2], [1, 2], [1, 1, 2], [1, 1, 2], [1, 1, 2], [1, 4], [1, 4], [2, 5, 1, 2], [2, 5, 1, 2], [2, 5, 1, 2], [2, 5, 1, 2], [3, 1, 4], [3, 1, 4], [3, 1, 4], [3, 1, 4], [3, 1, 4], [3, 1, 4], [3, 4], [3, 4], [1, 2], [1, 2], [3, 5, 2], [3, 5, 2], [3, 5, 2], [1, 2], [1, 2], [6, 1, 1, 2], [6, 1, 1, 2], [6, 1, 1, 2], [6, 1, 1, 2], [1, 2], [1, 2], [3, 5, 1, 2], [3, 5, 1, 2], [3, 5, 1, 2], [3, 5, 1, 2], [3, 4], [3, 4], [3, 10, 3, 5], [3, 10, 3, 5], [3, 10, 3, 5], [3, 10, 3, 5], [1, 2, 1], [1, 2, 1], [1, 2, 1], [1, 1, 4], [1, 1, 4], [1, 1, 4], [1, 2], [1, 2], [1, 1, 2], [1, 1, 2], [1, 1, 2], [1, 2], [1, 2], [1, 2], [1, 2], [1, 2], [1, 2], [3, 3, 1, 4], [3, 3, 1, 4], [3, 3, 1, 4], [3, 3, 1, 4], [3, 2], [3, 2], [3, 1, 4], [3, 1, 4], [3, 1, 4], [3, 1, 2], [3, 1, 2], [3, 1, 2], [3, 5, 1, 4], [3, 5, 1, 4], [3, 5, 1, 4], [3, 5, 1, 4], [1, 1, 2], [1, 1, 2], [1, 1, 2], [3, 1, 2], [3, 1, 2], [3, 1, 2], [3, 2], [3, 2], [3, 1, 2], [3, 1, 2], [3, 1, 2], [4], [1, 1, 1, 4], [1, 1, 1, 4], [1, 1, 1, 4], [1, 1, 1, 4], [1, 1, 2, 7], [1, 1, 2, 7], [1, 1, 2, 7], [1, 1, 2, 7], [1, 4], [1, 4], [2, 5, 1, 2], [2, 5, 1, 2], [2, 5, 1, 2], [2, 5, 1, 2], [1, 2], [1, 2], [1, 1, 1, 2], [1, 1, 1, 2], [1, 1, 1, 2], [1, 1, 1, 2], [2], [1, 2], [1, 2], [2], [1, 1, 2], [1, 1, 2], [1, 1, 2], [3, 1, 2], [3, 1, 2], [3, 1, 2], [3, 5, 2], [3, 5, 2], [3, 5, 2], [2], [2], [1, 4], [1, 4], [1, 2], [1, 2], [1, 2], [1, 2], [1, 4, 5, 2], [1, 4, 5, 2], [1, 4, 5, 2], [1, 4, 5, 2], [1, 2], [1, 2], [1, 2], [1, 2], [1, 1, 2], [1, 1, 2], [1, 1, 2], [1, 2], [1, 2], [2], [1, 1, 4], [1, 1, 4], [1, 1, 4], [6, 2, 3], [6, 2, 3], [6, 2, 3], [1, 2], [1, 2], [1, 2], [1, 2], [8, 2], [8, 2], [2], [1, 1, 2], [1, 1, 2], [1, 1, 2], [5, 2], [5, 2], [5, 2], [5, 2], [1, 1, 2], [1, 1, 2], [1, 1, 2], [1, 2], [1, 2], [1, 1, 1, 2], [1, 1, 1, 2], [1, 1, 1, 2], [1, 1, 1, 2], [1, 2], [1, 2], [1, 4], [1, 4], [1, 1, 2], [1, 1, 2], [1, 1, 2], [1, 2], [1, 2], [1, 2], [1, 2], [3, 1, 1, 2], [3, 1, 1, 2], [3, 1, 1, 2], [3, 1, 1, 2], [2, 5, 2], [2, 5, 2], [2, 5, 2], [2], [3, 4, 7], [3, 4, 7], [3, 4, 7], [2, 5, 1, 2], [2, 5, 1, 2], [2, 5, 1, 2], [2, 5, 1, 2], [3, 1, 4], [3, 1, 4], [3, 1, 4], [3, 1, 4], [3, 1, 4], [3, 1, 4], [1, 1, 2], [1, 1, 2], [1, 1, 2], [1, 2], [1, 2], [1, 2], [1, 2], [1, 4], [1, 4], [1, 2], [1, 2], [1, 1, 2], [1, 1, 2], [1, 1, 2], [3, 2], [3, 2], [1, 1, 2], [1, 1, 2], [1, 1, 2], [1, 2], [1, 2], [1, 1, 2], [1, 1, 2], [1, 1, 2], [1, 1, 2], [1, 1, 2], [1, 1, 2], [2, 5, 2], [2, 5, 2], [2, 5, 2], [1, 2], [1, 2], [2, 7], [2, 7], [1, 2], [1, 2], [1, 2], [1, 2], [1, 1, 2], [1, 1, 2], [1, 1, 2], [1, 4], [1, 4], [1, 2], [1, 2]]\n",
            "Total number of tagged identifers(unseen): 977\n",
            "Vocabulary size: 626\n",
            "Total number of tags: 10\n"
          ]
        }
      ]
    },
    {
      "cell_type": "markdown",
      "metadata": {
        "id": "7LbsRNtZnwPF"
      },
      "source": [
        "# 8. Training the Model\n",
        "Train the model using out X and Y encoded data. Additionally, provide \"X_validation\" and \"Y_validation\" in order to later assess the accuracy of the resulting model."
      ]
    },
    {
      "cell_type": "code",
      "metadata": {
        "id": "mSh4O9yqlZbb",
        "colab": {
          "base_uri": "https://localhost:8080/"
        },
        "outputId": "f29d5ec5-c4df-497f-8f0f-fdcb66061ab8"
      },
      "source": [
        "#X_train, X_test, Y_train, Y_test = train_test_split(X, Y, test_size=0.15, random_state=4)\n",
        "#X_train, X_validation, Y_train, Y_validation = train_test_split(X_train, Y_train, test_size=0.15, random_state=4)\n",
        "X_train, X_validation, Y_train, Y_validation = train_test_split(X, Y, test_size=0.15, random_state=4)\n",
        "\n",
        "# define the model\n",
        "model = Sequential()\n",
        "model.add(Embedding(input_dim=VOCABULARY_SIZE,\n",
        "                    output_dim=EMBEDDING_SIZE,\n",
        "                    input_length=MAX_SEQ_LENGTH,\n",
        "                    weights=[embedding_weights],\n",
        "                    trainable=True))\n",
        "model.add(LSTM(64, return_sequences=True))\n",
        "model.add(TimeDistributed(Dense(num_tags + 1, activation='softmax')))\n",
        "model.compile(optimizer='adamax', loss='categorical_crossentropy', metrics=['categorical_accuracy'])\n",
        "print(model.summary())\n",
        "# fit the model\n",
        "training = model.fit(X_train, Y_train, batch_size=128, epochs=50, validation_data=(X_validation, Y_validation))"
      ],
      "execution_count": null,
      "outputs": [
        {
          "output_type": "stream",
          "name": "stdout",
          "text": [
            "Model: \"sequential_1\"\n",
            "_________________________________________________________________\n",
            " Layer (type)                Output Shape              Param #   \n",
            "=================================================================\n",
            " embedding_1 (Embedding)     (None, 11, 300)           474900    \n",
            "                                                                 \n",
            " lstm_1 (LSTM)               (None, 11, 64)            93440     \n",
            "                                                                 \n",
            " time_distributed_1 (TimeDis  (None, 11, 11)           715       \n",
            " tributed)                                                       \n",
            "                                                                 \n",
            "=================================================================\n",
            "Total params: 569,055\n",
            "Trainable params: 569,055\n",
            "Non-trainable params: 0\n",
            "_________________________________________________________________\n",
            "None\n",
            "Epoch 1/50\n",
            "24/24 [==============================] - 4s 73ms/step - loss: 2.0511 - categorical_accuracy: 0.7999 - val_loss: 1.5135 - val_categorical_accuracy: 0.7778\n",
            "Epoch 2/50\n",
            "24/24 [==============================] - 1s 47ms/step - loss: 1.1232 - categorical_accuracy: 0.7776 - val_loss: 0.7953 - val_categorical_accuracy: 0.8242\n",
            "Epoch 3/50\n",
            "24/24 [==============================] - 1s 47ms/step - loss: 0.6488 - categorical_accuracy: 0.8389 - val_loss: 0.5220 - val_categorical_accuracy: 0.8557\n",
            "Epoch 4/50\n",
            "24/24 [==============================] - 1s 46ms/step - loss: 0.4665 - categorical_accuracy: 0.8655 - val_loss: 0.4160 - val_categorical_accuracy: 0.8721\n",
            "Epoch 5/50\n",
            "24/24 [==============================] - 1s 48ms/step - loss: 0.3890 - categorical_accuracy: 0.8745 - val_loss: 0.3623 - val_categorical_accuracy: 0.8801\n",
            "Epoch 6/50\n",
            "24/24 [==============================] - 1s 47ms/step - loss: 0.3440 - categorical_accuracy: 0.8846 - val_loss: 0.3281 - val_categorical_accuracy: 0.8915\n",
            "Epoch 7/50\n",
            "24/24 [==============================] - 1s 47ms/step - loss: 0.3113 - categorical_accuracy: 0.8950 - val_loss: 0.2984 - val_categorical_accuracy: 0.8992\n",
            "Epoch 8/50\n",
            "24/24 [==============================] - 1s 48ms/step - loss: 0.2841 - categorical_accuracy: 0.9050 - val_loss: 0.2735 - val_categorical_accuracy: 0.9077\n",
            "Epoch 9/50\n",
            "24/24 [==============================] - 1s 48ms/step - loss: 0.2602 - categorical_accuracy: 0.9143 - val_loss: 0.2519 - val_categorical_accuracy: 0.9186\n",
            "Epoch 10/50\n",
            "24/24 [==============================] - 1s 47ms/step - loss: 0.2392 - categorical_accuracy: 0.9255 - val_loss: 0.2324 - val_categorical_accuracy: 0.9275\n",
            "Epoch 11/50\n",
            "24/24 [==============================] - 1s 47ms/step - loss: 0.2203 - categorical_accuracy: 0.9325 - val_loss: 0.2148 - val_categorical_accuracy: 0.9364\n",
            "Epoch 12/50\n",
            "24/24 [==============================] - 1s 47ms/step - loss: 0.2038 - categorical_accuracy: 0.9407 - val_loss: 0.1999 - val_categorical_accuracy: 0.9415\n",
            "Epoch 13/50\n",
            "24/24 [==============================] - 1s 48ms/step - loss: 0.1879 - categorical_accuracy: 0.9463 - val_loss: 0.1859 - val_categorical_accuracy: 0.9461\n",
            "Epoch 14/50\n",
            "24/24 [==============================] - 1s 51ms/step - loss: 0.1739 - categorical_accuracy: 0.9522 - val_loss: 0.1735 - val_categorical_accuracy: 0.9512\n",
            "Epoch 15/50\n",
            "24/24 [==============================] - 1s 49ms/step - loss: 0.1612 - categorical_accuracy: 0.9572 - val_loss: 0.1628 - val_categorical_accuracy: 0.9558\n",
            "Epoch 16/50\n",
            "24/24 [==============================] - 1s 48ms/step - loss: 0.1503 - categorical_accuracy: 0.9619 - val_loss: 0.1539 - val_categorical_accuracy: 0.9574\n",
            "Epoch 17/50\n",
            "24/24 [==============================] - 1s 48ms/step - loss: 0.1399 - categorical_accuracy: 0.9650 - val_loss: 0.1448 - val_categorical_accuracy: 0.9591\n",
            "Epoch 18/50\n",
            "24/24 [==============================] - 1s 48ms/step - loss: 0.1308 - categorical_accuracy: 0.9665 - val_loss: 0.1352 - val_categorical_accuracy: 0.9628\n",
            "Epoch 19/50\n",
            "24/24 [==============================] - 1s 48ms/step - loss: 0.1220 - categorical_accuracy: 0.9694 - val_loss: 0.1278 - val_categorical_accuracy: 0.9647\n",
            "Epoch 20/50\n",
            "24/24 [==============================] - 1s 48ms/step - loss: 0.1141 - categorical_accuracy: 0.9720 - val_loss: 0.1213 - val_categorical_accuracy: 0.9650\n",
            "Epoch 21/50\n",
            "24/24 [==============================] - 1s 49ms/step - loss: 0.1064 - categorical_accuracy: 0.9734 - val_loss: 0.1160 - val_categorical_accuracy: 0.9678\n",
            "Epoch 22/50\n",
            "24/24 [==============================] - 1s 48ms/step - loss: 0.1002 - categorical_accuracy: 0.9747 - val_loss: 0.1098 - val_categorical_accuracy: 0.9691\n",
            "Epoch 23/50\n",
            "24/24 [==============================] - 1s 48ms/step - loss: 0.0942 - categorical_accuracy: 0.9770 - val_loss: 0.1056 - val_categorical_accuracy: 0.9712\n",
            "Epoch 24/50\n",
            "24/24 [==============================] - 1s 48ms/step - loss: 0.0890 - categorical_accuracy: 0.9778 - val_loss: 0.1022 - val_categorical_accuracy: 0.9713\n",
            "Epoch 25/50\n",
            "24/24 [==============================] - 1s 49ms/step - loss: 0.0838 - categorical_accuracy: 0.9791 - val_loss: 0.0943 - val_categorical_accuracy: 0.9737\n",
            "Epoch 26/50\n",
            "24/24 [==============================] - 1s 48ms/step - loss: 0.0779 - categorical_accuracy: 0.9809 - val_loss: 0.0903 - val_categorical_accuracy: 0.9749\n",
            "Epoch 27/50\n",
            "24/24 [==============================] - 1s 47ms/step - loss: 0.0739 - categorical_accuracy: 0.9814 - val_loss: 0.0871 - val_categorical_accuracy: 0.9751\n",
            "Epoch 28/50\n",
            "24/24 [==============================] - 1s 49ms/step - loss: 0.0694 - categorical_accuracy: 0.9825 - val_loss: 0.0819 - val_categorical_accuracy: 0.9773\n",
            "Epoch 29/50\n",
            "24/24 [==============================] - 1s 47ms/step - loss: 0.0651 - categorical_accuracy: 0.9837 - val_loss: 0.0781 - val_categorical_accuracy: 0.9782\n",
            "Epoch 30/50\n",
            "24/24 [==============================] - 1s 48ms/step - loss: 0.0617 - categorical_accuracy: 0.9846 - val_loss: 0.0747 - val_categorical_accuracy: 0.9787\n",
            "Epoch 31/50\n",
            "24/24 [==============================] - 1s 47ms/step - loss: 0.0578 - categorical_accuracy: 0.9859 - val_loss: 0.0714 - val_categorical_accuracy: 0.9790\n",
            "Epoch 32/50\n",
            "24/24 [==============================] - 1s 49ms/step - loss: 0.0551 - categorical_accuracy: 0.9861 - val_loss: 0.0693 - val_categorical_accuracy: 0.9809\n",
            "Epoch 33/50\n",
            "24/24 [==============================] - 1s 47ms/step - loss: 0.0520 - categorical_accuracy: 0.9873 - val_loss: 0.0655 - val_categorical_accuracy: 0.9804\n",
            "Epoch 34/50\n",
            "24/24 [==============================] - 1s 49ms/step - loss: 0.0487 - categorical_accuracy: 0.9876 - val_loss: 0.0625 - val_categorical_accuracy: 0.9814\n",
            "Epoch 35/50\n",
            "24/24 [==============================] - 1s 48ms/step - loss: 0.0461 - categorical_accuracy: 0.9884 - val_loss: 0.0599 - val_categorical_accuracy: 0.9828\n",
            "Epoch 36/50\n",
            "24/24 [==============================] - 1s 47ms/step - loss: 0.0436 - categorical_accuracy: 0.9892 - val_loss: 0.0580 - val_categorical_accuracy: 0.9840\n",
            "Epoch 37/50\n",
            "24/24 [==============================] - 1s 48ms/step - loss: 0.0421 - categorical_accuracy: 0.9896 - val_loss: 0.0550 - val_categorical_accuracy: 0.9843\n",
            "Epoch 38/50\n",
            "24/24 [==============================] - 1s 47ms/step - loss: 0.0394 - categorical_accuracy: 0.9906 - val_loss: 0.0531 - val_categorical_accuracy: 0.9858\n",
            "Epoch 39/50\n",
            "24/24 [==============================] - 1s 47ms/step - loss: 0.0373 - categorical_accuracy: 0.9914 - val_loss: 0.0509 - val_categorical_accuracy: 0.9853\n",
            "Epoch 40/50\n",
            "24/24 [==============================] - 1s 49ms/step - loss: 0.0356 - categorical_accuracy: 0.9919 - val_loss: 0.0490 - val_categorical_accuracy: 0.9862\n",
            "Epoch 41/50\n",
            "24/24 [==============================] - 1s 48ms/step - loss: 0.0340 - categorical_accuracy: 0.9931 - val_loss: 0.0486 - val_categorical_accuracy: 0.9875\n",
            "Epoch 42/50\n",
            "24/24 [==============================] - 1s 47ms/step - loss: 0.0322 - categorical_accuracy: 0.9933 - val_loss: 0.0455 - val_categorical_accuracy: 0.9879\n",
            "Epoch 43/50\n",
            "24/24 [==============================] - 1s 49ms/step - loss: 0.0307 - categorical_accuracy: 0.9937 - val_loss: 0.0437 - val_categorical_accuracy: 0.9882\n",
            "Epoch 44/50\n",
            "24/24 [==============================] - 1s 48ms/step - loss: 0.0295 - categorical_accuracy: 0.9938 - val_loss: 0.0415 - val_categorical_accuracy: 0.9889\n",
            "Epoch 45/50\n",
            "24/24 [==============================] - 1s 47ms/step - loss: 0.0285 - categorical_accuracy: 0.9940 - val_loss: 0.0416 - val_categorical_accuracy: 0.9887\n",
            "Epoch 46/50\n",
            "24/24 [==============================] - 1s 47ms/step - loss: 0.0271 - categorical_accuracy: 0.9940 - val_loss: 0.0396 - val_categorical_accuracy: 0.9887\n",
            "Epoch 47/50\n",
            "24/24 [==============================] - 1s 48ms/step - loss: 0.0257 - categorical_accuracy: 0.9941 - val_loss: 0.0370 - val_categorical_accuracy: 0.9889\n",
            "Epoch 48/50\n",
            "24/24 [==============================] - 1s 49ms/step - loss: 0.0245 - categorical_accuracy: 0.9944 - val_loss: 0.0356 - val_categorical_accuracy: 0.9898\n",
            "Epoch 49/50\n",
            "24/24 [==============================] - 1s 49ms/step - loss: 0.0236 - categorical_accuracy: 0.9947 - val_loss: 0.0342 - val_categorical_accuracy: 0.9901\n",
            "Epoch 50/50\n",
            "24/24 [==============================] - 1s 48ms/step - loss: 0.0224 - categorical_accuracy: 0.9949 - val_loss: 0.0332 - val_categorical_accuracy: 0.9904\n"
          ]
        }
      ]
    },
    {
      "cell_type": "markdown",
      "metadata": {
        "id": "Re2VgEleymss"
      },
      "source": [
        "# 9. Accuracy Assessment\n",
        "Using the model, plot the accuracy vs epoch to visually represent our trained models accuracy."
      ]
    },
    {
      "cell_type": "code",
      "metadata": {
        "colab": {
          "base_uri": "https://localhost:8080/",
          "height": 295
        },
        "id": "WIx_n3bES7Bb",
        "outputId": "dfcdf351-5ec7-46bd-e325-31b24481ce72"
      },
      "source": [
        "# visualise training history\n",
        "plt.plot(training.history['categorical_accuracy'])\n",
        "plt.plot(training.history['val_categorical_accuracy'])\n",
        "plt.title('model accuracy')\n",
        "plt.ylabel('accuracy')\n",
        "plt.xlabel('epoch')\n",
        "plt.legend(['train', 'test'], loc=\"lower right\")\n",
        "plt.show()"
      ],
      "execution_count": null,
      "outputs": [
        {
          "output_type": "display_data",
          "data": {
            "image/png": "[encoded data removed]",
            "text/plain": [
              "<Figure size 432x288 with 1 Axes>"
            ]
          },
          "metadata": {
            "needs_background": "light"
          }
        }
      ]
    },
    {
      "cell_type": "markdown",
      "source": [
        "---\n",
        "BELOW THIS IS TRAINING TEST DATA"
      ],
      "metadata": {
        "id": "XduIXnugk-ap"
      }
    },
    {
      "cell_type": "code",
      "metadata": {
        "id": "BWmoGvSlS4kX"
      },
      "source": [
        "# Confusion matrix & Classification report. This is training test data.\n",
        "# using sklearn's confusion_matrix and classification_report\n",
        "#\n",
        "# Accuracy\n",
        "#print(\"Accuracy and Loss of training test data:\\n\")\n",
        "#loss, accuracy = model.evaluate(X, Y, verbose = 0)\n",
        "#print(\"\\nLoss & Accuracy:\\n\")\n",
        "#print(\"Loss: {0},\\nAccuracy: {1}\\n\".format(loss, accuracy))\n",
        "\n",
        "\n",
        "def print_confusion(confusion):\n",
        "  pd.options.display.max_rows = len(tags)+5\n",
        "  pd.options.display.max_columns = len(tags)+5\n",
        "  print(pd.DataFrame(confusion,index=list(map((lambda x: 'true:'+x), tags)), columns=list(map((lambda x: 'pred:'+x), tags))))\n",
        "\n",
        "#print(id_tokenizer.sequences_to_texts([X_test[0]]))\n",
        "#print(tag_tokenizer.sequences_to_texts(np.argmax(Y_test, axis=2)))\n",
        "#actual = [a.split() for a in tag_tokenizer.sequences_to_texts(np.argmax(Y_test, axis=2))]\n",
        "#pred = [a.split() for a in tag_tokenizer.sequences_to_texts(np.argmax(model.predict(X_test), axis=2))]\n",
        "#a = []\n",
        "#p = []\n",
        "#for i in actual:\n",
        "#  for j in i:\n",
        "#    a.append(j)\n",
        "#for i in pred:\n",
        "#  for j in i:\n",
        "#    p.append(j)\n",
        "\n",
        "#length = len(p) if len(a) >= len(p) else len(a)\n",
        "\n",
        "#confusion = confusion_matrix(a[:length], p[:length], labels=tags)\n",
        "#report = classification_report(a[:length], p[:length], labels=tags) \n",
        "#print(\"\\nConfusion Matrix:\\n\")\n",
        "#print_confusion(confusion)\n",
        "#print(\"\\nClassification Report:\\n\")\n",
        "#print(report)\n"
      ],
      "execution_count": null,
      "outputs": []
    },
    {
      "cell_type": "markdown",
      "source": [
        "---\n",
        "BELOW THIS IS UNSEEN TESTING DATA"
      ],
      "metadata": {
        "id": "4lc_IBbnk7dP"
      }
    },
    {
      "cell_type": "code",
      "source": [
        "# Confusion matrix & Classification report. This is for the unseen data.\n",
        "# using sklearn's confusion_matrix and classification_report\n",
        "print(\"Accuracy and Loss of unseen test data:\\n\")\n",
        "# Accuracy\n",
        "loss, accuracy = model.evaluate(X_unseen, Y_unseen, verbose = 0)\n",
        "print(\"\\nLoss & Accuracy:\\n\")\n",
        "print(\"Loss: {0},\\nAccuracy: {1}\\n\".format(loss, accuracy))\n",
        "\n",
        "#print(id_tokenizer.sequences_to_texts([X_test[0]]))\n",
        "#print(tag_tokenizer.sequences_to_texts(np.argmax(Y_test, axis=2)))\n",
        "actual_unseen = [a.split() for a in tag_tokenizer_unseen.sequences_to_texts(np.argmax(Y_unseen, axis=2))]\n",
        "pred_unseen = [a.split() for a in tag_tokenizer_unseen.sequences_to_texts(np.argmax(model.predict(X_unseen), axis=2))] #I think X is wrong here.... something else should maybe be here... X_unseen breaks it though...\n",
        "a = []\n",
        "p = []\n",
        "for i in actual_unseen:\n",
        "  for j in i:\n",
        "    a.append(j)\n",
        "for i in pred_unseen:\n",
        "  for j in i:\n",
        "    p.append(j)\n",
        "\n",
        "#for x,y in list(zip(a,p)):\n",
        "  #print(x,y)\n",
        "length = len(p) if len(a) >= len(p) else len(a)\n",
        "confusion = confusion_matrix(a[:length], p[:length], labels=tags)\n",
        "report_unseen = classification_report(a[:length], p[:length], labels=tags) \n",
        "print(\"\\nConfusion Matrix:\\n\")\n",
        "print_confusion(confusion)\n",
        "print(\"\\nClassification Report:\\n\")\n",
        "print(report_unseen)"
      ],
      "metadata": {
        "colab": {
          "base_uri": "https://localhost:8080/"
        },
        "id": "nN7n7_66TQJf",
        "outputId": "3ac92ffa-0889-47f9-9240-111886c39130"
      },
      "execution_count": null,
      "outputs": [
        {
          "output_type": "stream",
          "name": "stdout",
          "text": [
            "Accuracy and Loss of unseen test data:\n",
            "\n",
            "\n",
            "Loss & Accuracy:\n",
            "\n",
            "Loss: 0.6944979429244995,\n",
            "Accuracy: 0.8671256899833679\n",
            "\n",
            "\n",
            "Confusion Matrix:\n",
            "\n",
            "          pred:n  pred:dt  pred:cj  pred:p  pred:npl  pred:nm  pred:v  \\\n",
            "true:n       304        2        1      17        32      406      52   \n",
            "true:dt        2        0        0       0         0       13       6   \n",
            "true:cj        3        0        0       0         0        1       0   \n",
            "true:p        24        0        0       5         4       64      18   \n",
            "true:npl      62        1        0       0        10       87      34   \n",
            "true:nm      391        0        4      23        53      580     109   \n",
            "true:v        87        0        0       5        11      109      22   \n",
            "true:vm        5        0        0       0         2        1       0   \n",
            "true:pr        0        0        0       0         0        0       0   \n",
            "true:d        15        1        0       1         1        7       1   \n",
            "true:pre      25        3        0       6         8       52      18   \n",
            "\n",
            "          pred:vm  pred:pr  pred:d  pred:pre  \n",
            "true:n          0        0       5        31  \n",
            "true:dt         0        0       0         0  \n",
            "true:cj         0        0       0         0  \n",
            "true:p          0        0       0         1  \n",
            "true:npl        0        0       1        10  \n",
            "true:nm         0        0      13        52  \n",
            "true:v          0        0       4        17  \n",
            "true:vm         0        0       0         3  \n",
            "true:pr         0        0       0         0  \n",
            "true:d          0        0       0         0  \n",
            "true:pre        0        0       0         2  \n",
            "\n",
            "Classification Report:\n",
            "\n",
            "              precision    recall  f1-score   support\n",
            "\n",
            "           n       0.33      0.36      0.34       850\n",
            "          dt       0.00      0.00      0.00        21\n",
            "          cj       0.00      0.00      0.00         4\n",
            "           p       0.09      0.04      0.06       116\n",
            "         npl       0.08      0.05      0.06       205\n",
            "          nm       0.44      0.47      0.46      1225\n",
            "           v       0.08      0.09      0.09       255\n",
            "          vm       0.00      0.00      0.00        11\n",
            "          pr       0.00      0.00      0.00         0\n",
            "           d       0.00      0.00      0.00        26\n",
            "         pre       0.02      0.02      0.02       114\n",
            "\n",
            "   micro avg       0.33      0.33      0.33      2827\n",
            "   macro avg       0.09      0.09      0.09      2827\n",
            "weighted avg       0.31      0.33      0.32      2827\n",
            "\n"
          ]
        }
      ]
    }
  ]
}